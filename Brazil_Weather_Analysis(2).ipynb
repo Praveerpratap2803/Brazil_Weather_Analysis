{
 "cells": [
  {
   "cell_type": "markdown",
   "metadata": {
    "application/vnd.databricks.v1+cell": {
     "cellMetadata": {},
     "inputWidgets": {},
     "nuid": "96816ed7-b08a-4ca3-abb9-f99880c3535d",
     "showTitle": false,
     "title": ""
    }
   },
   "source": [
    "\n",
    "## Overview\n",
    "\n",
    "This notebook will show you how to create and query a table or DataFrame that you uploaded to DBFS. [DBFS](https://docs.databricks.com/user-guide/dbfs-databricks-file-system.html) is a Databricks File System that allows you to store data for querying inside of Databricks. This notebook assumes that you have a file already inside of DBFS that you would like to read from.\n",
    "\n",
    "This notebook is written in **Python** so the default cell type is Python. However, you can use different languages by using the `%LANGUAGE` syntax. Python, Scala, SQL, and R are all supported."
   ]
  },
  {
   "cell_type": "code",
   "execution_count": 1,
   "metadata": {},
   "outputs": [],
   "source": [
    "# Intialization\n",
    "import os\n",
    "import sys\n",
    "\n",
    "os.environ[\"SPARK_HOME\"] = \"/home/talentum/spark\"\n",
    "os.environ[\"PYLIB\"] = os.environ[\"SPARK_HOME\"] + \"/python/lib\"\n",
    "# In below two lines, use /usr/bin/python2.7 if you want to use Python 2\n",
    "os.environ[\"PYSPARK_PYTHON\"] = \"/usr/bin/python3.6\" \n",
    "os.environ[\"PYSPARK_DRIVER_PYTHON\"] = \"/usr/bin/python3\"\n",
    "sys.path.insert(0, os.environ[\"PYLIB\"] +\"/py4j-0.10.7-src.zip\")\n",
    "sys.path.insert(0, os.environ[\"PYLIB\"] +\"/pyspark.zip\")\n",
    "\n",
    "# NOTE: Whichever package you want mention here.\n",
    "# os.environ['PYSPARK_SUBMIT_ARGS'] = '--packages com.databricks:spark-xml_2.11:0.6.0 pyspark-shell' \n",
    "# os.environ['PYSPARK_SUBMIT_ARGS'] = '--packages org.apache.spark:spark-avro_2.11:2.4.0 pyspark-shell'\n",
    "os.environ['PYSPARK_SUBMIT_ARGS'] = '--packages com.databricks:spark-xml_2.11:0.6.0,org.apache.spark:spark-avro_2.11:2.4.3 pyspark-shell'\n",
    "# os.environ['PYSPARK_SUBMIT_ARGS'] = '--packages com.databricks:spark-xml_2.11:0.6.0,org.apache.spark:spark-avro_2.11:2.4.0 pyspark-shell'"
   ]
  },
  {
   "cell_type": "code",
   "execution_count": 2,
   "metadata": {},
   "outputs": [],
   "source": [
    "#Entrypoint 2.x\n",
    "from pyspark.sql import SparkSession\n",
    "spark = SparkSession.builder.appName(\"Spark SQL basic example\").enableHiveSupport().getOrCreate()\n",
    "\n",
    "# On yarn:\n",
    "# spark = SparkSession.builder.appName(\"Spark SQL basic example\").enableHiveSupport().master(\"yarn\").getOrCreate()\n",
    "# specify .master(\"yarn\")\n",
    "\n",
    "sc = spark.sparkContext"
   ]
  },
  {
   "cell_type": "code",
   "execution_count": 218,
   "metadata": {
    "application/vnd.databricks.v1+cell": {
     "cellMetadata": {
      "byteLimit": 2048000,
      "rowLimit": 10000
     },
     "inputWidgets": {},
     "nuid": "c276b4a7-cf49-4ca8-9725-f456c22b28ba",
     "showTitle": false,
     "title": ""
    }
   },
   "outputs": [],
   "source": [
    "\n",
    "from pyspark.sql.types import IntegerType,StringType,StructField,StructType,DateType,DoubleType\n",
    "\n",
    "schema = StructType([StructField(\"Index\", IntegerType(), True),\n",
    "\tStructField(\"Date\", DateType(), True),\n",
    "\tStructField(\"Time\", StringType(), True),\n",
    "\tStructField(\"Total_Precipitation\", DoubleType(), True),\n",
    "\tStructField(\"Atmospheric_Pressure\", DoubleType(), True),\n",
    "\tStructField(\"Maximum_Atmospheric_Pressure\", DoubleType(), True),\n",
    "\tStructField(\"Minimum_Atmospheric_Pressure\", DoubleType(), True),\n",
    "\tStructField(\"Solar_Radiation\", DoubleType(), True),\n",
    "\tStructField(\"Air_Temperature\", DoubleType(), True),\n",
    "\tStructField(\"Dew_Point_Temperature\", DoubleType(), True),\n",
    "\tStructField(\"Maximum_Temperature_For_The_Last_Hour\", DoubleType(), True),\n",
    "\tStructField(\"Minimum_Temperature_For_The_Last_Hour\", DoubleType(), True),\n",
    "\tStructField(\"Maximum_Air_Pressure_Dew_Point_Temperature_For_The_Last_Hour\", DoubleType(), True),\n",
    "\tStructField(\"Minimum_Air_Pressure_Dew_Point_Temperature_For_The_Last_Hour\", DoubleType(), True),\n",
    "\tStructField(\"Maximum_Relative_Humid_Temperature_For_The_Last_Hour\", DoubleType(), True),\t\n",
    "\tStructField(\"Minimum_Relative_Humid_Temperature_For_The_Last_Hour\", DoubleType(), True),\n",
    "\tStructField(\"Air_Relative_Humid_Temperature_For_The_Last_Hour\", DoubleType(), True),\n",
    "\tStructField(\"Wind_Direction_Radius_Degree\", DoubleType(), True),\n",
    "\tStructField(\"Wind_Gust_In_Metres_Per_Second\", DoubleType(), True),\n",
    "\tStructField(\"Wind_speed_In_Metres_Per_Second\", DoubleType(), True),\n",
    "    StructField(\"Region\", StringType(), True),\n",
    "\tStructField(\"State\", StringType(), True),\n",
    "\tStructField(\"Station_Name\", StringType(), True),\n",
    "\tStructField(\"Station_Code\", StringType(), True),\n",
    "\tStructField(\"Latitude\", DoubleType(), True),\n",
    "\tStructField(\"Longitude\", DoubleType(), True),\n",
    "\tStructField(\"Elevation\", DoubleType(), True)\n",
    "\t])"
   ]
  },
  {
   "cell_type": "code",
   "execution_count": 4,
   "metadata": {
    "application/vnd.databricks.v1+cell": {
     "cellMetadata": {
      "byteLimit": 2048000,
      "rowLimit": 10000
     },
     "inputWidgets": {},
     "nuid": "ad33b00c-036b-45a7-9497-c35fb5dc4d23",
     "showTitle": false,
     "title": ""
    }
   },
   "outputs": [],
   "source": [
    "file_location = \"file:///home/talentum/shared/CDAC_Project_Weather_Anaysis/north.csv\"\n",
    "df1 = spark.read.csv(file_location,header=True,schema=schema)"
   ]
  },
  {
   "cell_type": "code",
   "execution_count": 220,
   "metadata": {},
   "outputs": [
    {
     "name": "stdout",
     "output_type": "stream",
     "text": [
      "root\n",
      " |-- Index: integer (nullable = true)\n",
      " |-- Date: date (nullable = true)\n",
      " |-- Time: string (nullable = true)\n",
      " |-- Total_Precipitation: double (nullable = true)\n",
      " |-- Atmospheric_Pressure: double (nullable = true)\n",
      " |-- Maximum_Atmospheric_Pressure: double (nullable = true)\n",
      " |-- Minimum_Atmospheric_Pressure: double (nullable = true)\n",
      " |-- Solar_Radiation: double (nullable = true)\n",
      " |-- Air_Temperature: double (nullable = true)\n",
      " |-- Dew_Point_Temperature: double (nullable = true)\n",
      " |-- Maximum_Temperature_For_The_Last_Hour: double (nullable = true)\n",
      " |-- Minimum_Temperature_For_The_Last_Hour: double (nullable = true)\n",
      " |-- Maximum_Air_Pressure_Dew_Point_Temperature_For_The_Last_Hour: double (nullable = true)\n",
      " |-- Minimum_Air_Pressure_Dew_Point_Temperature_For_The_Last_Hour: double (nullable = true)\n",
      " |-- Maximum_Relative_Humid_Temperature_For_The_Last_Hour: double (nullable = true)\n",
      " |-- Minimum_Relative_Humid_Temperature_For_The_Last_Hour: double (nullable = true)\n",
      " |-- Air_Relative_Humid_Temperature_For_The_Last_Hour: double (nullable = true)\n",
      " |-- Wind_Direction_Radius_Degree: double (nullable = true)\n",
      " |-- Wind_Gust_In_Metres_Per_Second: double (nullable = true)\n",
      " |-- Wind_speed_In_Metres_Per_Second: double (nullable = true)\n",
      " |-- Region: string (nullable = true)\n",
      " |-- State: string (nullable = true)\n",
      " |-- Station_Name: string (nullable = true)\n",
      " |-- Station_Code: string (nullable = true)\n",
      " |-- Latitude: double (nullable = true)\n",
      " |-- Longitude: double (nullable = true)\n",
      " |-- Elevation: double (nullable = true)\n",
      "\n"
     ]
    }
   ],
   "source": [
    "df1.printSchema()"
   ]
  },
  {
   "cell_type": "code",
   "execution_count": 221,
   "metadata": {
    "application/vnd.databricks.v1+cell": {
     "cellMetadata": {
      "byteLimit": 2048000,
      "rowLimit": 10000
     },
     "inputWidgets": {},
     "nuid": "39ff074d-58eb-4e67-a349-e80e223ebb3d",
     "showTitle": false,
     "title": ""
    }
   },
   "outputs": [
    {
     "name": "stdout",
     "output_type": "stream",
     "text": [
      "+-----+----------+-----+-------------------+--------------------+----------------------------+----------------------------+---------------+---------------+---------------------+-------------------------------------+-------------------------------------+------------------------------------------------------------+------------------------------------------------------------+----------------------------------------------------+----------------------------------------------------+------------------------------------------------+----------------------------+------------------------------+-------------------------------+------+-----+------------+------------+-----------+------------+---------+\n",
      "|Index|      Date| Time|Total_Precipitation|Atmospheric_Pressure|Maximum_Atmospheric_Pressure|Minimum_Atmospheric_Pressure|Solar_Radiation|Air_Temperature|Dew_Point_Temperature|Maximum_Temperature_For_The_Last_Hour|Minimum_Temperature_For_The_Last_Hour|Maximum_Air_Pressure_Dew_Point_Temperature_For_The_Last_Hour|Minimum_Air_Pressure_Dew_Point_Temperature_For_The_Last_Hour|Maximum_Relative_Humid_Temperature_For_The_Last_Hour|Minimum_Relative_Humid_Temperature_For_The_Last_Hour|Air_Relative_Humid_Temperature_For_The_Last_Hour|Wind_Direction_Radius_Degree|Wind_Gust_In_Metres_Per_Second|Wind_speed_In_Metres_Per_Second|Region|State|Station_Name|Station_Code|   Latitude|   Longitude|Elevation|\n",
      "+-----+----------+-----+-------------------+--------------------+----------------------------+----------------------------+---------------+---------------+---------------------+-------------------------------------+-------------------------------------+------------------------------------------------------------+------------------------------------------------------------+----------------------------------------------------+----------------------------------------------------+------------------------------------------------+----------------------------+------------------------------+-------------------------------+------+-----+------------+------------+-----------+------------+---------+\n",
      "|    0|2000-05-09|00:00|            -9999.0|             -9999.0|                     -9999.0|                     -9999.0|        -9999.0|        -9999.0|              -9999.0|                              -9999.0|                              -9999.0|                                                     -9999.0|                                                     -9999.0|                                             -9999.0|                                             -9999.0|                                         -9999.0|                     -9999.0|                       -9999.0|                        -9999.0|     N|   AM|      MANAUS|        A101|-3.10333333|-60.01638888|    61.25|\n",
      "|    1|2000-05-09|01:00|            -9999.0|             -9999.0|                     -9999.0|                     -9999.0|        -9999.0|        -9999.0|              -9999.0|                              -9999.0|                              -9999.0|                                                     -9999.0|                                                     -9999.0|                                             -9999.0|                                             -9999.0|                                         -9999.0|                     -9999.0|                       -9999.0|                        -9999.0|     N|   AM|      MANAUS|        A101|-3.10333333|-60.01638888|    61.25|\n",
      "|    2|2000-05-09|02:00|            -9999.0|             -9999.0|                     -9999.0|                     -9999.0|        -9999.0|        -9999.0|              -9999.0|                              -9999.0|                              -9999.0|                                                     -9999.0|                                                     -9999.0|                                             -9999.0|                                             -9999.0|                                         -9999.0|                     -9999.0|                       -9999.0|                        -9999.0|     N|   AM|      MANAUS|        A101|-3.10333333|-60.01638888|    61.25|\n",
      "|    3|2000-05-09|03:00|            -9999.0|             -9999.0|                     -9999.0|                     -9999.0|        -9999.0|        -9999.0|              -9999.0|                              -9999.0|                              -9999.0|                                                     -9999.0|                                                     -9999.0|                                             -9999.0|                                             -9999.0|                                         -9999.0|                     -9999.0|                       -9999.0|                        -9999.0|     N|   AM|      MANAUS|        A101|-3.10333333|-60.01638888|    61.25|\n",
      "|    4|2000-05-09|04:00|            -9999.0|             -9999.0|                     -9999.0|                     -9999.0|        -9999.0|        -9999.0|              -9999.0|                              -9999.0|                              -9999.0|                                                     -9999.0|                                                     -9999.0|                                             -9999.0|                                             -9999.0|                                         -9999.0|                     -9999.0|                       -9999.0|                        -9999.0|     N|   AM|      MANAUS|        A101|-3.10333333|-60.01638888|    61.25|\n",
      "+-----+----------+-----+-------------------+--------------------+----------------------------+----------------------------+---------------+---------------+---------------------+-------------------------------------+-------------------------------------+------------------------------------------------------------+------------------------------------------------------------+----------------------------------------------------+----------------------------------------------------+------------------------------------------------+----------------------------+------------------------------+-------------------------------+------+-----+------------+------------+-----------+------------+---------+\n",
      "only showing top 5 rows\n",
      "\n"
     ]
    }
   ],
   "source": [
    "df1.show(5)"
   ]
  },
  {
   "cell_type": "code",
   "execution_count": 166,
   "metadata": {},
   "outputs": [
    {
     "name": "stdout",
     "output_type": "stream",
     "text": [
      "+-----+----------+-----+-------------------+--------------------+----------------------------+----------------------------+---------------+---------------+---------------------+-------------------------------------+-------------------------------------+------------------------------------------------------------+------------------------------------------------------------+----------------------------------------------------+----------------------------------------------------+------------------------------------------------+----------------------------+------------------------------+-------------------------------+------+-----+------------+------------+------------+------------+---------+\n",
      "|Index|      Date| Time|Total_Precipitation|Atmospheric_Pressure|Maximum_Atmospheric_Pressure|Minimum_Atmospheric_Pressure|Solar_Radiation|Air_Temperature|Dew_Point_Temperature|Maximum_Temperature_For_The_Last_Hour|Minimum_Temperature_For_The_Last_Hour|Maximum_Air_Pressure_Dew_Point_Temperature_For_The_Last_Hour|Minimum_Air_Pressure_Dew_Point_Temperature_For_The_Last_Hour|Maximum_Relative_Humid_Temperature_For_The_Last_Hour|Minimum_Relative_Humid_Temperature_For_The_Last_Hour|Air_Relative_Humid_Temperature_For_The_Last_Hour|Wind_Direction_Radius_Degree|Wind_Gust_In_Metres_Per_Second|Wind_speed_In_Metres_Per_Second|Region|State|Station_Name|Station_Code|    Latitude|   Longitude|Elevation|\n",
      "+-----+----------+-----+-------------------+--------------------+----------------------------+----------------------------+---------------+---------------+---------------------+-------------------------------------+-------------------------------------+------------------------------------------------------------+------------------------------------------------------------+----------------------------------------------------+----------------------------------------------------+------------------------------------------------+----------------------------+------------------------------+-------------------------------+------+-----+------------+------------+------------+------------+---------+\n",
      "| 3024|2000-09-10|00:00|            -9999.0|             -9999.0|                     -9999.0|                     -9999.0|        -9999.0|        -9999.0|              -9999.0|                              -9999.0|                              -9999.0|                                                     -9999.0|                                                     -9999.0|                                             -9999.0|                                             -9999.0|                                         -9999.0|                     -9999.0|                       -9999.0|                        -9999.0|    CO|   DF|    BRASILIA|        A001|-15.78944444|-47.92583332|  1159.54|\n",
      "| 3025|2000-09-10|01:00|                0.4|               888.8|                       888.9|                       888.4|        -9999.0|           16.9|                 16.0|                                 16.9|                                 16.7|                                                        16.0|                                                        15.6|                                                95.0|                                                92.0|                                            95.0|                       144.0|                           2.6|                            0.2|    CO|   DF|    BRASILIA|        A001|-15.78944444|-47.92583332|  1159.54|\n",
      "| 3026|2000-09-10|02:00|                0.0|               888.7|                       888.8|                       888.6|        -9999.0|           17.2|                 16.1|                                 17.3|                                 16.7|                                                        16.1|                                                        15.6|                                                95.0|                                                91.0|                                            93.0|                        88.0|                           2.4|                            1.2|    CO|   DF|    BRASILIA|        A001|-15.78944444|-47.92583332|  1159.54|\n",
      "| 3027|2000-09-10|03:00|                0.0|               888.4|                       888.8|                       888.4|        -9999.0|           17.3|                 16.3|                                 17.3|                                 16.9|                                                        16.4|                                                        15.9|                                                95.0|                                                93.0|                                            94.0|                       131.0|                           2.2|                            1.0|    CO|   DF|    BRASILIA|        A001|-15.78944444|-47.92583332|  1159.54|\n",
      "| 3028|2000-09-10|04:00|                0.0|               888.0|                       888.3|                       887.9|        -9999.0|           17.0|                 16.4|                                 17.3|                                 16.9|                                                        16.5|                                                        16.1|                                                96.0|                                                94.0|                                            96.0|                       136.0|                           1.7|                            0.2|    CO|   DF|    BRASILIA|        A001|-15.78944444|-47.92583332|  1159.54|\n",
      "+-----+----------+-----+-------------------+--------------------+----------------------------+----------------------------+---------------+---------------+---------------------+-------------------------------------+-------------------------------------+------------------------------------------------------------+------------------------------------------------------------+----------------------------------------------------+----------------------------------------------------+------------------------------------------------+----------------------------+------------------------------+-------------------------------+------+-----+------------+------------+------------+------------+---------+\n",
      "only showing top 5 rows\n",
      "\n"
     ]
    }
   ],
   "source": [
    "df1.filter(df1.Date=='2000-09-10').show(5)"
   ]
  },
  {
   "cell_type": "code",
   "execution_count": 6,
   "metadata": {
    "application/vnd.databricks.v1+cell": {
     "cellMetadata": {
      "byteLimit": 2048000,
      "rowLimit": 10000
     },
     "inputWidgets": {},
     "nuid": "b8542db6-ff22-4cb2-816e-0ce510cc7888",
     "showTitle": false,
     "title": ""
    }
   },
   "outputs": [
    {
     "ename": "AttributeError",
     "evalue": "'DataFrame' object has no attribute 'Station_Name'",
     "output_type": "error",
     "traceback": [
      "\u001b[0;31m---------------------------------------------------------------------------\u001b[0m",
      "\u001b[0;31mAttributeError\u001b[0m                            Traceback (most recent call last)",
      "\u001b[0;32m<ipython-input-6-267e01c48fb1>\u001b[0m in \u001b[0;36m<module>\u001b[0;34m\u001b[0m\n\u001b[1;32m      1\u001b[0m \u001b[0;31m#df2=df1\u001b[0m\u001b[0;34m\u001b[0m\u001b[0;34m\u001b[0m\u001b[0;34m\u001b[0m\u001b[0m\n\u001b[0;32m----> 2\u001b[0;31m \u001b[0mdf2\u001b[0m \u001b[0;34m=\u001b[0m \u001b[0mdf1\u001b[0m\u001b[0;34m.\u001b[0m\u001b[0mfilter\u001b[0m\u001b[0;34m(\u001b[0m\u001b[0mdf1\u001b[0m\u001b[0;34m.\u001b[0m\u001b[0mStation_Name\u001b[0m\u001b[0;34m==\u001b[0m\u001b[0;34m'MANAUS'\u001b[0m\u001b[0;34m)\u001b[0m\u001b[0;34m\u001b[0m\u001b[0;34m\u001b[0m\u001b[0m\n\u001b[0m\u001b[1;32m      3\u001b[0m \u001b[0;31m#df2 = df1.filter(df1.Station_Name=='PORTO ALEGRE')\u001b[0m\u001b[0;34m\u001b[0m\u001b[0;34m\u001b[0m\u001b[0;34m\u001b[0m\u001b[0m\n\u001b[1;32m      4\u001b[0m \u001b[0;31m#df2 = df1.filter(df1.Station_Name=='PORTO ALEGRE')\u001b[0m\u001b[0;34m\u001b[0m\u001b[0;34m\u001b[0m\u001b[0;34m\u001b[0m\u001b[0m\n\u001b[1;32m      5\u001b[0m \u001b[0;31m#df2 = df1.filter(df1.Station_Name=='ECOLOGIA AGRICOLA')\u001b[0m\u001b[0;34m\u001b[0m\u001b[0;34m\u001b[0m\u001b[0;34m\u001b[0m\u001b[0m\n",
      "\u001b[0;32m~/spark/python/pyspark/sql/dataframe.py\u001b[0m in \u001b[0;36m__getattr__\u001b[0;34m(self, name)\u001b[0m\n\u001b[1;32m   1302\u001b[0m         \u001b[0;32mif\u001b[0m \u001b[0mname\u001b[0m \u001b[0;32mnot\u001b[0m \u001b[0;32min\u001b[0m \u001b[0mself\u001b[0m\u001b[0;34m.\u001b[0m\u001b[0mcolumns\u001b[0m\u001b[0;34m:\u001b[0m\u001b[0;34m\u001b[0m\u001b[0;34m\u001b[0m\u001b[0m\n\u001b[1;32m   1303\u001b[0m             raise AttributeError(\n\u001b[0;32m-> 1304\u001b[0;31m                 \"'%s' object has no attribute '%s'\" % (self.__class__.__name__, name))\n\u001b[0m\u001b[1;32m   1305\u001b[0m         \u001b[0mjc\u001b[0m \u001b[0;34m=\u001b[0m \u001b[0mself\u001b[0m\u001b[0;34m.\u001b[0m\u001b[0m_jdf\u001b[0m\u001b[0;34m.\u001b[0m\u001b[0mapply\u001b[0m\u001b[0;34m(\u001b[0m\u001b[0mname\u001b[0m\u001b[0;34m)\u001b[0m\u001b[0;34m\u001b[0m\u001b[0;34m\u001b[0m\u001b[0m\n\u001b[1;32m   1306\u001b[0m         \u001b[0;32mreturn\u001b[0m \u001b[0mColumn\u001b[0m\u001b[0;34m(\u001b[0m\u001b[0mjc\u001b[0m\u001b[0;34m)\u001b[0m\u001b[0;34m\u001b[0m\u001b[0;34m\u001b[0m\u001b[0m\n",
      "\u001b[0;31mAttributeError\u001b[0m: 'DataFrame' object has no attribute 'Station_Name'"
     ]
    }
   ],
   "source": [
    "df2=df1\n",
    "#df2 = df1.filter(df1.Station_Name=='MANAUS')\n",
    "#df2 = df1.filter(df1.Station_Name=='PORTO ALEGRE')\n",
    "#df2 = df1.filter(df1.Station_Name=='PORTO ALEGRE')\n",
    "#df2 = df1.filter(df1.Station_Name=='ECOLOGIA AGRICOLA')\n",
    "#df2 = df1.filter(df1.Station_Name=='BRASILIA')\n"
   ]
  },
  {
   "cell_type": "code",
   "execution_count": 131,
   "metadata": {
    "application/vnd.databricks.v1+cell": {
     "cellMetadata": {
      "byteLimit": 2048000,
      "rowLimit": 10000
     },
     "inputWidgets": {},
     "nuid": "ab52f8fb-c82d-4315-af79-23be2c0b6e15",
     "showTitle": false,
     "title": ""
    }
   },
   "outputs": [
    {
     "ename": "KeyboardInterrupt",
     "evalue": "",
     "output_type": "error",
     "traceback": [
      "\u001b[0;31m---------------------------------------------------------------------------\u001b[0m",
      "\u001b[0;31mKeyboardInterrupt\u001b[0m                         Traceback (most recent call last)",
      "\u001b[0;32m<ipython-input-131-b9dfcea03f46>\u001b[0m in \u001b[0;36m<module>\u001b[0;34m\u001b[0m\n\u001b[0;32m----> 1\u001b[0;31m \u001b[0mdf2\u001b[0m\u001b[0;34m.\u001b[0m\u001b[0mdescribe\u001b[0m\u001b[0;34m(\u001b[0m\u001b[0;34m)\u001b[0m\u001b[0;34m.\u001b[0m\u001b[0mshow\u001b[0m\u001b[0;34m(\u001b[0m\u001b[0;34m)\u001b[0m\u001b[0;34m\u001b[0m\u001b[0;34m\u001b[0m\u001b[0m\n\u001b[0m",
      "\u001b[0;32m~/spark/python/pyspark/sql/dataframe.py\u001b[0m in \u001b[0;36mdescribe\u001b[0;34m(self, *cols)\u001b[0m\n\u001b[1;32m   1173\u001b[0m         \u001b[0;32mif\u001b[0m \u001b[0mlen\u001b[0m\u001b[0;34m(\u001b[0m\u001b[0mcols\u001b[0m\u001b[0;34m)\u001b[0m \u001b[0;34m==\u001b[0m \u001b[0;36m1\u001b[0m \u001b[0;32mand\u001b[0m \u001b[0misinstance\u001b[0m\u001b[0;34m(\u001b[0m\u001b[0mcols\u001b[0m\u001b[0;34m[\u001b[0m\u001b[0;36m0\u001b[0m\u001b[0;34m]\u001b[0m\u001b[0;34m,\u001b[0m \u001b[0mlist\u001b[0m\u001b[0;34m)\u001b[0m\u001b[0;34m:\u001b[0m\u001b[0;34m\u001b[0m\u001b[0;34m\u001b[0m\u001b[0m\n\u001b[1;32m   1174\u001b[0m             \u001b[0mcols\u001b[0m \u001b[0;34m=\u001b[0m \u001b[0mcols\u001b[0m\u001b[0;34m[\u001b[0m\u001b[0;36m0\u001b[0m\u001b[0;34m]\u001b[0m\u001b[0;34m\u001b[0m\u001b[0;34m\u001b[0m\u001b[0m\n\u001b[0;32m-> 1175\u001b[0;31m         \u001b[0mjdf\u001b[0m \u001b[0;34m=\u001b[0m \u001b[0mself\u001b[0m\u001b[0;34m.\u001b[0m\u001b[0m_jdf\u001b[0m\u001b[0;34m.\u001b[0m\u001b[0mdescribe\u001b[0m\u001b[0;34m(\u001b[0m\u001b[0mself\u001b[0m\u001b[0;34m.\u001b[0m\u001b[0m_jseq\u001b[0m\u001b[0;34m(\u001b[0m\u001b[0mcols\u001b[0m\u001b[0;34m)\u001b[0m\u001b[0;34m)\u001b[0m\u001b[0;34m\u001b[0m\u001b[0;34m\u001b[0m\u001b[0m\n\u001b[0m\u001b[1;32m   1176\u001b[0m         \u001b[0;32mreturn\u001b[0m \u001b[0mDataFrame\u001b[0m\u001b[0;34m(\u001b[0m\u001b[0mjdf\u001b[0m\u001b[0;34m,\u001b[0m \u001b[0mself\u001b[0m\u001b[0;34m.\u001b[0m\u001b[0msql_ctx\u001b[0m\u001b[0;34m)\u001b[0m\u001b[0;34m\u001b[0m\u001b[0;34m\u001b[0m\u001b[0m\n\u001b[1;32m   1177\u001b[0m \u001b[0;34m\u001b[0m\u001b[0m\n",
      "\u001b[0;32m~/spark/python/lib/py4j-0.10.7-src.zip/py4j/java_gateway.py\u001b[0m in \u001b[0;36m__call__\u001b[0;34m(self, *args)\u001b[0m\n\u001b[1;32m   1253\u001b[0m             \u001b[0mproto\u001b[0m\u001b[0;34m.\u001b[0m\u001b[0mEND_COMMAND_PART\u001b[0m\u001b[0;34m\u001b[0m\u001b[0;34m\u001b[0m\u001b[0m\n\u001b[1;32m   1254\u001b[0m \u001b[0;34m\u001b[0m\u001b[0m\n\u001b[0;32m-> 1255\u001b[0;31m         \u001b[0manswer\u001b[0m \u001b[0;34m=\u001b[0m \u001b[0mself\u001b[0m\u001b[0;34m.\u001b[0m\u001b[0mgateway_client\u001b[0m\u001b[0;34m.\u001b[0m\u001b[0msend_command\u001b[0m\u001b[0;34m(\u001b[0m\u001b[0mcommand\u001b[0m\u001b[0;34m)\u001b[0m\u001b[0;34m\u001b[0m\u001b[0;34m\u001b[0m\u001b[0m\n\u001b[0m\u001b[1;32m   1256\u001b[0m         return_value = get_return_value(\n\u001b[1;32m   1257\u001b[0m             answer, self.gateway_client, self.target_id, self.name)\n",
      "\u001b[0;32m~/spark/python/lib/py4j-0.10.7-src.zip/py4j/java_gateway.py\u001b[0m in \u001b[0;36msend_command\u001b[0;34m(self, command, retry, binary)\u001b[0m\n\u001b[1;32m    983\u001b[0m         \u001b[0mconnection\u001b[0m \u001b[0;34m=\u001b[0m \u001b[0mself\u001b[0m\u001b[0;34m.\u001b[0m\u001b[0m_get_connection\u001b[0m\u001b[0;34m(\u001b[0m\u001b[0;34m)\u001b[0m\u001b[0;34m\u001b[0m\u001b[0;34m\u001b[0m\u001b[0m\n\u001b[1;32m    984\u001b[0m         \u001b[0;32mtry\u001b[0m\u001b[0;34m:\u001b[0m\u001b[0;34m\u001b[0m\u001b[0;34m\u001b[0m\u001b[0m\n\u001b[0;32m--> 985\u001b[0;31m             \u001b[0mresponse\u001b[0m \u001b[0;34m=\u001b[0m \u001b[0mconnection\u001b[0m\u001b[0;34m.\u001b[0m\u001b[0msend_command\u001b[0m\u001b[0;34m(\u001b[0m\u001b[0mcommand\u001b[0m\u001b[0;34m)\u001b[0m\u001b[0;34m\u001b[0m\u001b[0;34m\u001b[0m\u001b[0m\n\u001b[0m\u001b[1;32m    986\u001b[0m             \u001b[0;32mif\u001b[0m \u001b[0mbinary\u001b[0m\u001b[0;34m:\u001b[0m\u001b[0;34m\u001b[0m\u001b[0;34m\u001b[0m\u001b[0m\n\u001b[1;32m    987\u001b[0m                 \u001b[0;32mreturn\u001b[0m \u001b[0mresponse\u001b[0m\u001b[0;34m,\u001b[0m \u001b[0mself\u001b[0m\u001b[0;34m.\u001b[0m\u001b[0m_create_connection_guard\u001b[0m\u001b[0;34m(\u001b[0m\u001b[0mconnection\u001b[0m\u001b[0;34m)\u001b[0m\u001b[0;34m\u001b[0m\u001b[0;34m\u001b[0m\u001b[0m\n",
      "\u001b[0;32m~/spark/python/lib/py4j-0.10.7-src.zip/py4j/java_gateway.py\u001b[0m in \u001b[0;36msend_command\u001b[0;34m(self, command)\u001b[0m\n\u001b[1;32m   1150\u001b[0m \u001b[0;34m\u001b[0m\u001b[0m\n\u001b[1;32m   1151\u001b[0m         \u001b[0;32mtry\u001b[0m\u001b[0;34m:\u001b[0m\u001b[0;34m\u001b[0m\u001b[0;34m\u001b[0m\u001b[0m\n\u001b[0;32m-> 1152\u001b[0;31m             \u001b[0manswer\u001b[0m \u001b[0;34m=\u001b[0m \u001b[0msmart_decode\u001b[0m\u001b[0;34m(\u001b[0m\u001b[0mself\u001b[0m\u001b[0;34m.\u001b[0m\u001b[0mstream\u001b[0m\u001b[0;34m.\u001b[0m\u001b[0mreadline\u001b[0m\u001b[0;34m(\u001b[0m\u001b[0;34m)\u001b[0m\u001b[0;34m[\u001b[0m\u001b[0;34m:\u001b[0m\u001b[0;34m-\u001b[0m\u001b[0;36m1\u001b[0m\u001b[0;34m]\u001b[0m\u001b[0;34m)\u001b[0m\u001b[0;34m\u001b[0m\u001b[0;34m\u001b[0m\u001b[0m\n\u001b[0m\u001b[1;32m   1153\u001b[0m             \u001b[0mlogger\u001b[0m\u001b[0;34m.\u001b[0m\u001b[0mdebug\u001b[0m\u001b[0;34m(\u001b[0m\u001b[0;34m\"Answer received: {0}\"\u001b[0m\u001b[0;34m.\u001b[0m\u001b[0mformat\u001b[0m\u001b[0;34m(\u001b[0m\u001b[0manswer\u001b[0m\u001b[0;34m)\u001b[0m\u001b[0;34m)\u001b[0m\u001b[0;34m\u001b[0m\u001b[0;34m\u001b[0m\u001b[0m\n\u001b[1;32m   1154\u001b[0m             \u001b[0;32mif\u001b[0m \u001b[0manswer\u001b[0m\u001b[0;34m.\u001b[0m\u001b[0mstartswith\u001b[0m\u001b[0;34m(\u001b[0m\u001b[0mproto\u001b[0m\u001b[0;34m.\u001b[0m\u001b[0mRETURN_MESSAGE\u001b[0m\u001b[0;34m)\u001b[0m\u001b[0;34m:\u001b[0m\u001b[0;34m\u001b[0m\u001b[0;34m\u001b[0m\u001b[0m\n",
      "\u001b[0;32m/usr/lib/python3.6/socket.py\u001b[0m in \u001b[0;36mreadinto\u001b[0;34m(self, b)\u001b[0m\n\u001b[1;32m    584\u001b[0m         \u001b[0;32mwhile\u001b[0m \u001b[0;32mTrue\u001b[0m\u001b[0;34m:\u001b[0m\u001b[0;34m\u001b[0m\u001b[0;34m\u001b[0m\u001b[0m\n\u001b[1;32m    585\u001b[0m             \u001b[0;32mtry\u001b[0m\u001b[0;34m:\u001b[0m\u001b[0;34m\u001b[0m\u001b[0;34m\u001b[0m\u001b[0m\n\u001b[0;32m--> 586\u001b[0;31m                 \u001b[0;32mreturn\u001b[0m \u001b[0mself\u001b[0m\u001b[0;34m.\u001b[0m\u001b[0m_sock\u001b[0m\u001b[0;34m.\u001b[0m\u001b[0mrecv_into\u001b[0m\u001b[0;34m(\u001b[0m\u001b[0mb\u001b[0m\u001b[0;34m)\u001b[0m\u001b[0;34m\u001b[0m\u001b[0;34m\u001b[0m\u001b[0m\n\u001b[0m\u001b[1;32m    587\u001b[0m             \u001b[0;32mexcept\u001b[0m \u001b[0mtimeout\u001b[0m\u001b[0;34m:\u001b[0m\u001b[0;34m\u001b[0m\u001b[0;34m\u001b[0m\u001b[0m\n\u001b[1;32m    588\u001b[0m                 \u001b[0mself\u001b[0m\u001b[0;34m.\u001b[0m\u001b[0m_timeout_occurred\u001b[0m \u001b[0;34m=\u001b[0m \u001b[0;32mTrue\u001b[0m\u001b[0;34m\u001b[0m\u001b[0;34m\u001b[0m\u001b[0m\n",
      "\u001b[0;31mKeyboardInterrupt\u001b[0m: "
     ]
    }
   ],
   "source": [
    "df2.describe().show()"
   ]
  },
  {
   "cell_type": "code",
   "execution_count": 204,
   "metadata": {
    "application/vnd.databricks.v1+cell": {
     "cellMetadata": {
      "byteLimit": 2048000,
      "rowLimit": 10000
     },
     "inputWidgets": {},
     "nuid": "0fe393a2-38d5-40c4-806a-a0c54c562a4b",
     "showTitle": false,
     "title": ""
    }
   },
   "outputs": [
    {
     "name": "stdout",
     "output_type": "stream",
     "text": [
      "+----------+-----+-------------------+--------------------+---------------+-------------------------------------+-------------------------------------+----------------------------------------------------+----------------------------------------------------+-------------------------------+------+-----+------------+------------+-----------+------------+---------+\n",
      "|      Date| Time|Total_Precipitation|Atmospheric_Pressure|Solar_Radiation|Maximum_Temperature_For_The_Last_Hour|Minimum_Temperature_For_The_Last_Hour|Maximum_Relative_Humid_Temperature_For_The_Last_Hour|Minimum_Relative_Humid_Temperature_For_The_Last_Hour|Wind_speed_In_Metres_Per_Second|Region|State|Station_Name|Station_Code|   Latitude|   Longitude|Elevation|\n",
      "+----------+-----+-------------------+--------------------+---------------+-------------------------------------+-------------------------------------+----------------------------------------------------+----------------------------------------------------+-------------------------------+------+-----+------------+------------+-----------+------------+---------+\n",
      "|2000-05-09|00:00|            -9999.0|             -9999.0|        -9999.0|                              -9999.0|                              -9999.0|                                             -9999.0|                                             -9999.0|                        -9999.0|     N|   AM|      MANAUS|        A101|-3.10333333|-60.01638888|    61.25|\n",
      "|2000-05-09|01:00|            -9999.0|             -9999.0|        -9999.0|                              -9999.0|                              -9999.0|                                             -9999.0|                                             -9999.0|                        -9999.0|     N|   AM|      MANAUS|        A101|-3.10333333|-60.01638888|    61.25|\n",
      "|2000-05-09|02:00|            -9999.0|             -9999.0|        -9999.0|                              -9999.0|                              -9999.0|                                             -9999.0|                                             -9999.0|                        -9999.0|     N|   AM|      MANAUS|        A101|-3.10333333|-60.01638888|    61.25|\n",
      "|2000-05-09|03:00|            -9999.0|             -9999.0|        -9999.0|                              -9999.0|                              -9999.0|                                             -9999.0|                                             -9999.0|                        -9999.0|     N|   AM|      MANAUS|        A101|-3.10333333|-60.01638888|    61.25|\n",
      "|2000-05-09|04:00|            -9999.0|             -9999.0|        -9999.0|                              -9999.0|                              -9999.0|                                             -9999.0|                                             -9999.0|                        -9999.0|     N|   AM|      MANAUS|        A101|-3.10333333|-60.01638888|    61.25|\n",
      "|2000-05-09|05:00|            -9999.0|             -9999.0|        -9999.0|                              -9999.0|                              -9999.0|                                             -9999.0|                                             -9999.0|                        -9999.0|     N|   AM|      MANAUS|        A101|-3.10333333|-60.01638888|    61.25|\n",
      "|2000-05-09|06:00|            -9999.0|             -9999.0|        -9999.0|                              -9999.0|                              -9999.0|                                             -9999.0|                                             -9999.0|                        -9999.0|     N|   AM|      MANAUS|        A101|-3.10333333|-60.01638888|    61.25|\n",
      "|2000-05-09|07:00|            -9999.0|             -9999.0|        -9999.0|                              -9999.0|                              -9999.0|                                             -9999.0|                                             -9999.0|                        -9999.0|     N|   AM|      MANAUS|        A101|-3.10333333|-60.01638888|    61.25|\n",
      "|2000-05-09|08:00|            -9999.0|             -9999.0|        -9999.0|                              -9999.0|                              -9999.0|                                             -9999.0|                                             -9999.0|                        -9999.0|     N|   AM|      MANAUS|        A101|-3.10333333|-60.01638888|    61.25|\n",
      "|2000-05-09|09:00|            -9999.0|             -9999.0|        -9999.0|                              -9999.0|                              -9999.0|                                             -9999.0|                                             -9999.0|                        -9999.0|     N|   AM|      MANAUS|        A101|-3.10333333|-60.01638888|    61.25|\n",
      "|2000-05-09|10:00|            -9999.0|             -9999.0|        -9999.0|                              -9999.0|                              -9999.0|                                             -9999.0|                                             -9999.0|                        -9999.0|     N|   AM|      MANAUS|        A101|-3.10333333|-60.01638888|    61.25|\n",
      "|2000-05-09|11:00|            -9999.0|             -9999.0|        -9999.0|                              -9999.0|                              -9999.0|                                             -9999.0|                                             -9999.0|                        -9999.0|     N|   AM|      MANAUS|        A101|-3.10333333|-60.01638888|    61.25|\n",
      "|2000-05-09|12:00|            -9999.0|             -9999.0|        -9999.0|                              -9999.0|                              -9999.0|                                             -9999.0|                                             -9999.0|                        -9999.0|     N|   AM|      MANAUS|        A101|-3.10333333|-60.01638888|    61.25|\n",
      "|2000-05-09|13:00|            -9999.0|             -9999.0|        -9999.0|                              -9999.0|                              -9999.0|                                             -9999.0|                                             -9999.0|                        -9999.0|     N|   AM|      MANAUS|        A101|-3.10333333|-60.01638888|    61.25|\n",
      "|2000-05-09|14:00|            -9999.0|             -9999.0|        -9999.0|                              -9999.0|                              -9999.0|                                             -9999.0|                                             -9999.0|                        -9999.0|     N|   AM|      MANAUS|        A101|-3.10333333|-60.01638888|    61.25|\n",
      "|2000-05-09|15:00|            -9999.0|             -9999.0|        -9999.0|                              -9999.0|                              -9999.0|                                             -9999.0|                                             -9999.0|                        -9999.0|     N|   AM|      MANAUS|        A101|-3.10333333|-60.01638888|    61.25|\n",
      "|2000-05-09|16:00|            -9999.0|             -9999.0|        -9999.0|                              -9999.0|                              -9999.0|                                             -9999.0|                                             -9999.0|                        -9999.0|     N|   AM|      MANAUS|        A101|-3.10333333|-60.01638888|    61.25|\n",
      "|2000-05-09|17:00|            -9999.0|             -9999.0|        -9999.0|                              -9999.0|                              -9999.0|                                             -9999.0|                                             -9999.0|                        -9999.0|     N|   AM|      MANAUS|        A101|-3.10333333|-60.01638888|    61.25|\n",
      "|2000-05-09|18:00|            -9999.0|             -9999.0|        -9999.0|                              -9999.0|                              -9999.0|                                             -9999.0|                                             -9999.0|                        -9999.0|     N|   AM|      MANAUS|        A101|-3.10333333|-60.01638888|    61.25|\n",
      "|2000-05-09|19:00|            -9999.0|             -9999.0|        -9999.0|                              -9999.0|                              -9999.0|                                             -9999.0|                                             -9999.0|                        -9999.0|     N|   AM|      MANAUS|        A101|-3.10333333|-60.01638888|    61.25|\n",
      "+----------+-----+-------------------+--------------------+---------------+-------------------------------------+-------------------------------------+----------------------------------------------------+----------------------------------------------------+-------------------------------+------+-----+------------+------------+-----------+------------+---------+\n",
      "only showing top 20 rows\n",
      "\n"
     ]
    }
   ],
   "source": [
    "df3 = df2.select('Date','Time','Total_Precipitation','Atmospheric_Pressure','Solar_Radiation','Maximum_Temperature_For_The_Last_Hour',\n",
    "'Minimum_Temperature_For_The_Last_Hour',\n",
    "'Maximum_Relative_Humid_Temperature_For_The_Last_Hour',\n",
    "'Minimum_Relative_Humid_Temperature_For_The_Last_Hour',\n",
    "'Wind_speed_In_Metres_Per_Second',\n",
    "'Region','State','Station_Name','Station_Code','Latitude','Longitude','Elevation')\n",
    "\n",
    "df3.show()"
   ]
  },
  {
   "cell_type": "code",
   "execution_count": 205,
   "metadata": {},
   "outputs": [
    {
     "data": {
      "text/plain": [
       "3399371"
      ]
     },
     "execution_count": 205,
     "metadata": {},
     "output_type": "execute_result"
    }
   ],
   "source": [
    "df4 = df3.filter((df3.Total_Precipitation>=0) & (df3.Atmospheric_Pressure>=100) & (df3.Atmospheric_Pressure<=1050) & (df3.Solar_Radiation>=0) & (df3.Maximum_Temperature_For_The_Last_Hour>-273) & (df3.Maximum_Temperature_For_The_Last_Hour<135) & (df3.Minimum_Temperature_For_The_Last_Hour>-273) &(df3.Minimum_Temperature_For_The_Last_Hour<135) & (df3.Maximum_Relative_Humid_Temperature_For_The_Last_Hour>=0) & (df3.Maximum_Relative_Humid_Temperature_For_The_Last_Hour<=100) & (df3.Minimum_Relative_Humid_Temperature_For_The_Last_Hour>=0) & (df3.Minimum_Relative_Humid_Temperature_For_The_Last_Hour<=100) & (df3.Wind_speed_In_Metres_Per_Second<=150) & (df3.Wind_speed_In_Metres_Per_Second>=0) & (df3.Latitude>=-90) & (df3.Latitude<=90) & (df3.Longitude>=-180) & (df3.Longitude<=180)  )\n",
    "\n",
    "df4.count()"
   ]
  },
  {
   "cell_type": "code",
   "execution_count": 206,
   "metadata": {},
   "outputs": [
    {
     "data": {
      "text/plain": [
       "8392320"
      ]
     },
     "execution_count": 206,
     "metadata": {},
     "output_type": "execute_result"
    }
   ],
   "source": [
    "df3.count()"
   ]
  },
  {
   "cell_type": "code",
   "execution_count": null,
   "metadata": {},
   "outputs": [],
   "source": []
  },
  {
   "cell_type": "code",
   "execution_count": 183,
   "metadata": {
    "application/vnd.databricks.v1+cell": {
     "cellMetadata": {
      "byteLimit": 2048000,
      "rowLimit": 10000
     },
     "inputWidgets": {},
     "nuid": "d9f43d56-b78d-4615-9eb6-85b3c9a21627",
     "showTitle": false,
     "title": ""
    }
   },
   "outputs": [
    {
     "name": "stdout",
     "output_type": "stream",
     "text": [
      "+-------+-------+-------------------+--------------------+------------------+-------------------------------------+-------------------------------------+----------------------------------------------------+----------------------------------------------------+-------------------------------+-------+-------+------------+------------+------------------+------------------+-------------------+\n",
      "|summary|   Time|Total_Precipitation|Atmospheric_Pressure|   Solar_Radiation|Maximum_Temperature_For_The_Last_Hour|Minimum_Temperature_For_The_Last_Hour|Maximum_Relative_Humid_Temperature_For_The_Last_Hour|Minimum_Relative_Humid_Temperature_For_The_Last_Hour|Wind_speed_In_Metres_Per_Second| Region|  State|Station_Name|Station_Code|          Latitude|         Longitude|          Elevation|\n",
      "+-------+-------+-------------------+--------------------+------------------+-------------------------------------+-------------------------------------+----------------------------------------------------+----------------------------------------------------+-------------------------------+-------+-------+------------+------------+------------------+------------------+-------------------+\n",
      "|  count|3399371|            3399371|             3399371|           3399371|                              3399371|                              3399371|                                             3399371|                                             3399371|                        3399371|3399371|3399371|     3399371|     3399371|           3399371|           3399371|            3399371|\n",
      "|   mean|   null|0.27777821249868223|   993.0904165211837|1454.2625568083035|                    28.87051148580123|                    27.25260808543703|                                   73.53005894325744|                                   66.26781660489543|             1.6630043322719477|   null|   null|        null|        null|-5.738152070779198|-54.85226444252689|-126.47159431850211|\n",
      "| stddev|   null|  1.979628550967991|  18.040346474719417|2205.2283322981325|                   3.8025662894831758|                   3.5799131506409982|                                  18.357042560405052|                                  19.196490456861515|             1.2991115466355196|   null|   null|        null|        null|  4.03524956920473| 7.344715033292303| 1695.8831131649526|\n",
      "|    min|  00:00|                0.0|               852.1|               0.0|                                  0.0|                                 -0.2|                                                 7.0|                                                 7.0|                            0.0|      N|     AC|       ALMAS|        A009|      -12.75055555|      -72.78666666|            -9999.0|\n",
      "|    max|  23:00|               97.2|              1049.2|           45305.0|                                 45.0|                                 41.3|                                               100.0|                                               100.0|                           19.9|      N|     TO|    XINGUARA|        S121|        4.47749999|      -45.91999999|              798.0|\n",
      "+-------+-------+-------------------+--------------------+------------------+-------------------------------------+-------------------------------------+----------------------------------------------------+----------------------------------------------------+-------------------------------+-------+-------+------------+------------+------------------+------------------+-------------------+\n",
      "\n"
     ]
    }
   ],
   "source": [
    "df4.describe().show()"
   ]
  },
  {
   "cell_type": "code",
   "execution_count": 81,
   "metadata": {},
   "outputs": [
    {
     "data": {
      "text/plain": [
       "6182"
      ]
     },
     "execution_count": 81,
     "metadata": {},
     "output_type": "execute_result"
    }
   ],
   "source": [
    "#df4.select(df4.Date).distinct().count()"
   ]
  },
  {
   "cell_type": "code",
   "execution_count": 184,
   "metadata": {},
   "outputs": [],
   "source": [
    "from pyspark.sql.functions import col, count\n",
    "grouped_df = df4.groupBy(\"Date\").agg(count(\"*\").alias(\"Count\"))\n"
   ]
  },
  {
   "cell_type": "code",
   "execution_count": 185,
   "metadata": {},
   "outputs": [
    {
     "name": "stdout",
     "output_type": "stream",
     "text": [
      "+----------+-----+\n",
      "|      Date|Count|\n",
      "+----------+-----+\n",
      "|2001-01-30|    3|\n",
      "|2002-11-17|    5|\n",
      "|2008-03-08|    3|\n",
      "|2001-01-04|    4|\n",
      "|2000-12-20|    4|\n",
      "+----------+-----+\n",
      "only showing top 5 rows\n",
      "\n"
     ]
    }
   ],
   "source": [
    "df5 = grouped_df.filter(grouped_df.Count<6)\n",
    "df5.show(5)"
   ]
  },
  {
   "cell_type": "code",
   "execution_count": 91,
   "metadata": {},
   "outputs": [
    {
     "data": {
      "text/plain": [
       "129"
      ]
     },
     "execution_count": 91,
     "metadata": {},
     "output_type": "execute_result"
    }
   ],
   "source": [
    "df5.count()"
   ]
  },
  {
   "cell_type": "code",
   "execution_count": 90,
   "metadata": {},
   "outputs": [
    {
     "data": {
      "text/plain": [
       "0"
      ]
     },
     "execution_count": 90,
     "metadata": {},
     "output_type": "execute_result"
    }
   ],
   "source": [
    "# values_to_filter = df5.select(\"Date\")\n",
    "\n",
    "# # Remove rows from df1 that match column values in df2\n",
    "# result_df = df4.filter(~col(\"Date\").isin(values_to_filter[\"Date\"]))\n",
    "\n",
    "# # Show the resulting DataFrame\n",
    "# result_df.show()\n",
    "\n",
    "# #values_to_filter.show()"
   ]
  },
  {
   "cell_type": "code",
   "execution_count": 186,
   "metadata": {},
   "outputs": [
    {
     "name": "stdout",
     "output_type": "stream",
     "text": [
      "+----------+-----+-------------------+--------------------+---------------+-------------------------------------+-------------------------------------+----------------------------------------------------+----------------------------------------------------+-------------------------------+------+-----+------------+------------+-----------+------------+---------+\n",
      "|      Date| Time|Total_Precipitation|Atmospheric_Pressure|Solar_Radiation|Maximum_Temperature_For_The_Last_Hour|Minimum_Temperature_For_The_Last_Hour|Maximum_Relative_Humid_Temperature_For_The_Last_Hour|Minimum_Relative_Humid_Temperature_For_The_Last_Hour|Wind_speed_In_Metres_Per_Second|Region|State|Station_Name|Station_Code|   Latitude|   Longitude|Elevation|\n",
      "+----------+-----+-------------------+--------------------+---------------+-------------------------------------+-------------------------------------+----------------------------------------------------+----------------------------------------------------+-------------------------------+------+-----+------------+------------+-----------+------------+---------+\n",
      "|2000-07-03|11:00|                0.0|              1005.4|           59.0|                                 26.0|                                 25.5|                                                90.0|                                                88.0|                            1.3|     N|   AM|      MANAUS|        A101|-3.10333333|-60.01638888|    61.25|\n",
      "|2000-07-03|12:00|                0.0|              1006.1|          346.0|                                 26.6|                                 26.0|                                                90.0|                                                87.0|                            1.3|     N|   AM|      MANAUS|        A101|-3.10333333|-60.01638888|    61.25|\n",
      "|2000-07-03|13:00|                0.0|              1006.6|          863.0|                                 27.5|                                 26.5|                                                88.0|                                                83.0|                            1.7|     N|   AM|      MANAUS|        A101|-3.10333333|-60.01638888|    61.25|\n",
      "|2000-07-03|14:00|                0.0|              1006.8|         1481.0|                                 29.1|                                 27.5|                                                83.0|                                                76.0|                            1.7|     N|   AM|      MANAUS|        A101|-3.10333333|-60.01638888|    61.25|\n",
      "|2000-07-03|15:00|                0.0|              1006.7|         2337.0|                                 30.0|                                 28.0|                                                80.0|                                                70.0|                            2.0|     N|   AM|      MANAUS|        A101|-3.10333333|-60.01638888|    61.25|\n",
      "+----------+-----+-------------------+--------------------+---------------+-------------------------------------+-------------------------------------+----------------------------------------------------+----------------------------------------------------+-------------------------------+------+-----+------------+------------+-----------+------------+---------+\n",
      "only showing top 5 rows\n",
      "\n"
     ]
    }
   ],
   "source": [
    "from pyspark.sql.functions import col\n",
    "\n",
    "# Assuming df4 and df5 are your DataFrames\n",
    "values_to_filter = df5.select(\"Date\")\n",
    "\n",
    "# Perform a left anti join to keep only rows from df4 where Date has no match in values_to_filter\n",
    "result_df = df4.join(values_to_filter, \"Date\", \"left_anti\")\n",
    "\n",
    "# Show the resulting DataFrame\n",
    "result_df.show(5)"
   ]
  },
  {
   "cell_type": "code",
   "execution_count": 187,
   "metadata": {},
   "outputs": [
    {
     "data": {
      "text/plain": [
       "3399286"
      ]
     },
     "execution_count": 187,
     "metadata": {},
     "output_type": "execute_result"
    }
   ],
   "source": [
    "result_df.count()"
   ]
  },
  {
   "cell_type": "code",
   "execution_count": 188,
   "metadata": {},
   "outputs": [
    {
     "data": {
      "text/plain": [
       "7454"
      ]
     },
     "execution_count": 188,
     "metadata": {},
     "output_type": "execute_result"
    }
   ],
   "source": [
    "\n",
    "from pyspark.sql.functions import col, count\n",
    "grouped_df = result_df.groupBy(\"Date\").agg(count(\"*\").alias(\"Count\"))\n",
    "\n",
    "df6 = grouped_df.filter(grouped_df.Count>=6)\n",
    "df6.count()"
   ]
  },
  {
   "cell_type": "code",
   "execution_count": 189,
   "metadata": {},
   "outputs": [
    {
     "name": "stdout",
     "output_type": "stream",
     "text": [
      "+----------+-----+\n",
      "|      Date|Count|\n",
      "+----------+-----+\n",
      "|2000-07-03|   11|\n",
      "|2000-12-26|   13|\n",
      "|2001-05-16|   12|\n",
      "|2002-06-20|   10|\n",
      "|2002-12-06|    6|\n",
      "|2002-12-25|   10|\n",
      "|2005-01-16|   39|\n",
      "|2005-06-06|   41|\n",
      "|2006-05-17|   48|\n",
      "|2007-04-20|  111|\n",
      "|2007-11-15|  116|\n",
      "|2007-11-23|  130|\n",
      "|2009-07-25|  573|\n",
      "|2009-11-22|  654|\n",
      "|2010-08-11|  584|\n",
      "|2012-04-17|  571|\n",
      "|2012-10-06|  645|\n",
      "|2013-01-22|  738|\n",
      "|2013-03-26|  685|\n",
      "|2013-05-21|  628|\n",
      "+----------+-----+\n",
      "only showing top 20 rows\n",
      "\n"
     ]
    }
   ],
   "source": [
    "df6.show()"
   ]
  },
  {
   "cell_type": "code",
   "execution_count": 89,
   "metadata": {},
   "outputs": [
    {
     "name": "stdout",
     "output_type": "stream",
     "text": [
      "root\n",
      " |-- Date: date (nullable = true)\n",
      " |-- Time: string (nullable = true)\n",
      " |-- Total_Precipitation: double (nullable = true)\n",
      " |-- Atmospheric_Pressure: double (nullable = true)\n",
      " |-- Solar_Radiation: double (nullable = true)\n",
      " |-- Maximum_Temperature_For_The_Last_Hour: double (nullable = true)\n",
      " |-- Minimum_Temperature_For_The_Last_Hour: double (nullable = true)\n",
      " |-- Maximum_Relative_Humid_Temperature_For_The_Last_Hour: double (nullable = true)\n",
      " |-- Minimum_Relative_Humid_Temperature_For_The_Last_Hour: double (nullable = true)\n",
      " |-- Wind_speed_In_Metres_Per_Second: double (nullable = true)\n",
      " |-- Region: string (nullable = true)\n",
      " |-- State: string (nullable = true)\n",
      " |-- Station_Name: string (nullable = true)\n",
      " |-- Station_Code: string (nullable = true)\n",
      " |-- Latitude: double (nullable = true)\n",
      " |-- Longitude: double (nullable = true)\n",
      " |-- Elevation: double (nullable = true)\n",
      "\n"
     ]
    }
   ],
   "source": [
    "df4.printSchema()"
   ]
  },
  {
   "cell_type": "code",
   "execution_count": 190,
   "metadata": {},
   "outputs": [],
   "source": [
    "output_csv_path = \"final_weather_data_north2\"\n",
    "df_transformed_single_partition = result_df.coalesce(1)\n",
    "\n",
    "# Write the DataFrame to a single CSV file\n",
    "df_transformed_single_partition.write.mode(\"overwrite\").csv(output_csv_path, header=True, compression=\"none\")"
   ]
  },
  {
   "cell_type": "code",
   "execution_count": 212,
   "metadata": {},
   "outputs": [
    {
     "data": {
      "text/plain": [
       "2597472"
      ]
     },
     "execution_count": 212,
     "metadata": {},
     "output_type": "execute_result"
    }
   ],
   "source": [
    "# df1.filter(df1.Date>\"2018-01-01\").count()"
   ]
  },
  {
   "cell_type": "code",
   "execution_count": null,
   "metadata": {},
   "outputs": [],
   "source": []
  },
  {
   "cell_type": "code",
   "execution_count": null,
   "metadata": {},
   "outputs": [],
   "source": []
  },
  {
   "cell_type": "code",
   "execution_count": null,
   "metadata": {},
   "outputs": [],
   "source": []
  },
  {
   "cell_type": "code",
   "execution_count": null,
   "metadata": {},
   "outputs": [],
   "source": []
  },
  {
   "cell_type": "code",
   "execution_count": null,
   "metadata": {},
   "outputs": [],
   "source": []
  },
  {
   "cell_type": "code",
   "execution_count": 12,
   "metadata": {
    "scrolled": true
   },
   "outputs": [
    {
     "name": "stdout",
     "output_type": "stream",
     "text": [
      "+-----+----------+-----+--------------------------------+-----------------------------------------------------+-----------------------------------------------+------------------------------------------------+-----------------------+--------------------------------------------+------------------------------------+------------------------------------------+------------------------------------------+------------------------------------------------+------------------------------------------------+----------------------------------------+----------------------------------------+-----------------------------------+------------------------------------+--------------------------+-------------------------------+------+-----+-------+------------+-----------+------------+------+\n",
      "|index|      Data| Hora|PRECIPITAÇÃO TOTAL, HORÁRIO (mm)|PRESSAO ATMOSFERICA AO NIVEL DA ESTACAO, HORARIA (mB)|PRESSÃO ATMOSFERICA MAX.NA HORA ANT. (AUT) (mB)|PRESSÃO ATMOSFERICA MIN. NA HORA ANT. (AUT) (mB)|RADIACAO GLOBAL (Kj/m²)|TEMPERATURA DO AR - BULBO SECO, HORARIA (°C)|TEMPERATURA DO PONTO DE ORVALHO (°C)|TEMPERATURA MÁXIMA NA HORA ANT. (AUT) (°C)|TEMPERATURA MÍNIMA NA HORA ANT. (AUT) (°C)|TEMPERATURA ORVALHO MAX. NA HORA ANT. (AUT) (°C)|TEMPERATURA ORVALHO MIN. NA HORA ANT. (AUT) (°C)|UMIDADE REL. MAX. NA HORA ANT. (AUT) (%)|UMIDADE REL. MIN. NA HORA ANT. (AUT) (%)|UMIDADE RELATIVA DO AR, HORARIA (%)|VENTO, DIREÇÃO HORARIA (gr) (° (gr))|VENTO, RAJADA MAXIMA (m/s)|VENTO, VELOCIDADE HORARIA (m/s)|region|state|station|station_code|   latitude|   longitude|height|\n",
      "+-----+----------+-----+--------------------------------+-----------------------------------------------------+-----------------------------------------------+------------------------------------------------+-----------------------+--------------------------------------------+------------------------------------+------------------------------------------+------------------------------------------+------------------------------------------------+------------------------------------------------+----------------------------------------+----------------------------------------+-----------------------------------+------------------------------------+--------------------------+-------------------------------+------+-----+-------+------------+-----------+------------+------+\n",
      "|    0|2000-05-09|00:00|                         -9999.0|                                              -9999.0|                                        -9999.0|                                         -9999.0|                  -9999|                                     -9999.0|                             -9999.0|                                   -9999.0|                                   -9999.0|                                         -9999.0|                                         -9999.0|                                   -9999|                                   -9999|                              -9999|                               -9999|                   -9999.0|                        -9999.0|     N|   AM| MANAUS|        A101|-3.10333333|-60.01638888| 61.25|\n",
      "|    1|2000-05-09|01:00|                         -9999.0|                                              -9999.0|                                        -9999.0|                                         -9999.0|                  -9999|                                     -9999.0|                             -9999.0|                                   -9999.0|                                   -9999.0|                                         -9999.0|                                         -9999.0|                                   -9999|                                   -9999|                              -9999|                               -9999|                   -9999.0|                        -9999.0|     N|   AM| MANAUS|        A101|-3.10333333|-60.01638888| 61.25|\n",
      "|    2|2000-05-09|02:00|                         -9999.0|                                              -9999.0|                                        -9999.0|                                         -9999.0|                  -9999|                                     -9999.0|                             -9999.0|                                   -9999.0|                                   -9999.0|                                         -9999.0|                                         -9999.0|                                   -9999|                                   -9999|                              -9999|                               -9999|                   -9999.0|                        -9999.0|     N|   AM| MANAUS|        A101|-3.10333333|-60.01638888| 61.25|\n",
      "|    3|2000-05-09|03:00|                         -9999.0|                                              -9999.0|                                        -9999.0|                                         -9999.0|                  -9999|                                     -9999.0|                             -9999.0|                                   -9999.0|                                   -9999.0|                                         -9999.0|                                         -9999.0|                                   -9999|                                   -9999|                              -9999|                               -9999|                   -9999.0|                        -9999.0|     N|   AM| MANAUS|        A101|-3.10333333|-60.01638888| 61.25|\n",
      "|    4|2000-05-09|04:00|                         -9999.0|                                              -9999.0|                                        -9999.0|                                         -9999.0|                  -9999|                                     -9999.0|                             -9999.0|                                   -9999.0|                                   -9999.0|                                         -9999.0|                                         -9999.0|                                   -9999|                                   -9999|                              -9999|                               -9999|                   -9999.0|                        -9999.0|     N|   AM| MANAUS|        A101|-3.10333333|-60.01638888| 61.25|\n",
      "+-----+----------+-----+--------------------------------+-----------------------------------------------------+-----------------------------------------------+------------------------------------------------+-----------------------+--------------------------------------------+------------------------------------+------------------------------------------+------------------------------------------+------------------------------------------------+------------------------------------------------+----------------------------------------+----------------------------------------+-----------------------------------+------------------------------------+--------------------------+-------------------------------+------+-----+-------+------------+-----------+------------+------+\n",
      "only showing top 5 rows\n",
      "\n"
     ]
    }
   ],
   "source": [
    "#Extra\n",
    "#df1.show(5)\n",
    "df2 = df1.filter(df1.station=='MANAUS')"
   ]
  },
  {
   "cell_type": "code",
   "execution_count": 14,
   "metadata": {},
   "outputs": [
    {
     "name": "stdout",
     "output_type": "stream",
     "text": [
      "+----------+-----+--------------------------------+-----------------------------------------------------+-----------------------------------------------+------------------------------------------------+-----------------------+--------------------------------------------+------------------------------------+------------------------------------------+------------------------------------------+------------------------------------------------+------------------------------------------------+----------------------------------------+----------------------------------------+-----------------------------------+------------------------------------+--------------------------+-------------------------------+------+-----+-------+------------+-----------+------------+------+\n",
      "|      Data| Hora|PRECIPITAÇÃO TOTAL, HORÁRIO (mm)|PRESSAO ATMOSFERICA AO NIVEL DA ESTACAO, HORARIA (mB)|PRESSÃO ATMOSFERICA MAX.NA HORA ANT. (AUT) (mB)|PRESSÃO ATMOSFERICA MIN. NA HORA ANT. (AUT) (mB)|RADIACAO GLOBAL (Kj/m²)|TEMPERATURA DO AR - BULBO SECO, HORARIA (°C)|TEMPERATURA DO PONTO DE ORVALHO (°C)|TEMPERATURA MÁXIMA NA HORA ANT. (AUT) (°C)|TEMPERATURA MÍNIMA NA HORA ANT. (AUT) (°C)|TEMPERATURA ORVALHO MAX. NA HORA ANT. (AUT) (°C)|TEMPERATURA ORVALHO MIN. NA HORA ANT. (AUT) (°C)|UMIDADE REL. MAX. NA HORA ANT. (AUT) (%)|UMIDADE REL. MIN. NA HORA ANT. (AUT) (%)|UMIDADE RELATIVA DO AR, HORARIA (%)|VENTO, DIREÇÃO HORARIA (gr) (° (gr))|VENTO, RAJADA MAXIMA (m/s)|VENTO, VELOCIDADE HORARIA (m/s)|region|state|station|station_code|   latitude|   longitude|height|\n",
      "+----------+-----+--------------------------------+-----------------------------------------------------+-----------------------------------------------+------------------------------------------------+-----------------------+--------------------------------------------+------------------------------------+------------------------------------------+------------------------------------------+------------------------------------------------+------------------------------------------------+----------------------------------------+----------------------------------------+-----------------------------------+------------------------------------+--------------------------+-------------------------------+------+-----+-------+------------+-----------+------------+------+\n",
      "|2000-05-09|00:00|                         -9999.0|                                              -9999.0|                                        -9999.0|                                         -9999.0|                  -9999|                                     -9999.0|                             -9999.0|                                   -9999.0|                                   -9999.0|                                         -9999.0|                                         -9999.0|                                   -9999|                                   -9999|                              -9999|                               -9999|                   -9999.0|                        -9999.0|     N|   AM| MANAUS|        A101|-3.10333333|-60.01638888| 61.25|\n",
      "|2000-05-09|01:00|                         -9999.0|                                              -9999.0|                                        -9999.0|                                         -9999.0|                  -9999|                                     -9999.0|                             -9999.0|                                   -9999.0|                                   -9999.0|                                         -9999.0|                                         -9999.0|                                   -9999|                                   -9999|                              -9999|                               -9999|                   -9999.0|                        -9999.0|     N|   AM| MANAUS|        A101|-3.10333333|-60.01638888| 61.25|\n",
      "|2000-05-09|02:00|                         -9999.0|                                              -9999.0|                                        -9999.0|                                         -9999.0|                  -9999|                                     -9999.0|                             -9999.0|                                   -9999.0|                                   -9999.0|                                         -9999.0|                                         -9999.0|                                   -9999|                                   -9999|                              -9999|                               -9999|                   -9999.0|                        -9999.0|     N|   AM| MANAUS|        A101|-3.10333333|-60.01638888| 61.25|\n",
      "|2000-05-09|03:00|                         -9999.0|                                              -9999.0|                                        -9999.0|                                         -9999.0|                  -9999|                                     -9999.0|                             -9999.0|                                   -9999.0|                                   -9999.0|                                         -9999.0|                                         -9999.0|                                   -9999|                                   -9999|                              -9999|                               -9999|                   -9999.0|                        -9999.0|     N|   AM| MANAUS|        A101|-3.10333333|-60.01638888| 61.25|\n",
      "|2000-05-09|04:00|                         -9999.0|                                              -9999.0|                                        -9999.0|                                         -9999.0|                  -9999|                                     -9999.0|                             -9999.0|                                   -9999.0|                                   -9999.0|                                         -9999.0|                                         -9999.0|                                   -9999|                                   -9999|                              -9999|                               -9999|                   -9999.0|                        -9999.0|     N|   AM| MANAUS|        A101|-3.10333333|-60.01638888| 61.25|\n",
      "+----------+-----+--------------------------------+-----------------------------------------------------+-----------------------------------------------+------------------------------------------------+-----------------------+--------------------------------------------+------------------------------------+------------------------------------------+------------------------------------------+------------------------------------------------+------------------------------------------------+----------------------------------------+----------------------------------------+-----------------------------------+------------------------------------+--------------------------+-------------------------------+------+-----+-------+------------+-----------+------------+------+\n",
      "only showing top 5 rows\n",
      "\n"
     ]
    }
   ],
   "source": [
    "#df2.count()\n",
    "df2 = df2.drop('index')\n",
    "df2.show(5)"
   ]
  },
  {
   "cell_type": "code",
   "execution_count": 15,
   "metadata": {},
   "outputs": [],
   "source": [
    "output_csv_path = \"north_raw_data1\"\n",
    "df_transformed_single_partition = df2.coalesce(1)\n",
    "\n",
    "# Write the DataFrame to a single CSV file\n",
    "df_transformed_single_partition.write.mode(\"overwrite\").csv(output_csv_path, header=True, compression=\"none\")"
   ]
  },
  {
   "cell_type": "code",
   "execution_count": null,
   "metadata": {},
   "outputs": [],
   "source": []
  }
 ],
 "metadata": {
  "application/vnd.databricks.v1+notebook": {
   "dashboards": [],
   "language": "python",
   "notebookMetadata": {
    "pythonIndentUnit": 4
   },
   "notebookName": "Brazil_Weather_Analysis",
   "widgets": {}
  },
  "kernelspec": {
   "display_name": "Python 3",
   "language": "python",
   "name": "python3"
  },
  "language_info": {
   "codemirror_mode": {
    "name": "ipython",
    "version": 3
   },
   "file_extension": ".py",
   "mimetype": "text/x-python",
   "name": "python",
   "nbconvert_exporter": "python",
   "pygments_lexer": "ipython3",
   "version": "3.6.9"
  }
 },
 "nbformat": 4,
 "nbformat_minor": 1
}
