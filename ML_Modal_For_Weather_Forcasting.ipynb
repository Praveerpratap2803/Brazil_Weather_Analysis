{
 "cells": [
  {
   "cell_type": "code",
   "execution_count": 222,
   "metadata": {
    "executionInfo": {
     "elapsed": 510,
     "status": "ok",
     "timestamp": 1708510721430,
     "user": {
      "displayName": "Prajwal Ambadkar",
      "userId": "05706935455536576109"
     },
     "user_tz": -330
    },
    "id": "6B6kpO4jUwhb"
   },
   "outputs": [],
   "source": [
    "import pandas as pd"
   ]
  },
  {
   "cell_type": "code",
   "execution_count": 223,
   "metadata": {
    "executionInfo": {
     "elapsed": 862,
     "status": "ok",
     "timestamp": 1708510723827,
     "user": {
      "displayName": "Prajwal Ambadkar",
      "userId": "05706935455536576109"
     },
     "user_tz": -330
    },
    "id": "oVIdvFC1U_BT"
   },
   "outputs": [],
   "source": [
    "df = pd.read_csv(\"/content/final_north_with_2009 (1).csv\")"
   ]
  },
  {
   "cell_type": "code",
   "execution_count": 224,
   "metadata": {
    "colab": {
     "base_uri": "https://localhost:8080/"
    },
    "executionInfo": {
     "elapsed": 15,
     "status": "ok",
     "timestamp": 1708510723828,
     "user": {
      "displayName": "Prajwal Ambadkar",
      "userId": "05706935455536576109"
     },
     "user_tz": -330
    },
    "id": "SLye7S5rVTRi",
    "outputId": "59f185b8-ae25-4880-d8db-c88d928b3d96"
   },
   "outputs": [
    {
     "name": "stdout",
     "output_type": "stream",
     "text": [
      "<class 'pandas.core.frame.DataFrame'>\n",
      "RangeIndex: 87246 entries, 0 to 87245\n",
      "Data columns (total 17 columns):\n",
      " #   Column                                                Non-Null Count  Dtype  \n",
      "---  ------                                                --------------  -----  \n",
      " 0   Date                                                  87234 non-null  object \n",
      " 1   Time                                                  87246 non-null  object \n",
      " 2   Total_Precipitation                                   87246 non-null  float64\n",
      " 3   Atmospheric_Pressure                                  87246 non-null  float64\n",
      " 4   Solar_Radiation                                       87246 non-null  float64\n",
      " 5   Maximum_Temperature_For_The_Last_Hour                 87246 non-null  float64\n",
      " 6   Minimum_Temperature_For_The_Last_Hour                 87246 non-null  float64\n",
      " 7   Maximum_Relative_Humid_Temperature_For_The_Last_Hour  87246 non-null  float64\n",
      " 8   Minimum_Relative_Humid_Temperature_For_The_Last_Hour  87246 non-null  float64\n",
      " 9   Wind_speed_In_Metres_Per_Second                       87246 non-null  float64\n",
      " 10  Region                                                87246 non-null  object \n",
      " 11  State                                                 87246 non-null  object \n",
      " 12  Station_Name                                          87246 non-null  object \n",
      " 13  Station_Code                                          87246 non-null  object \n",
      " 14  Latitude                                              87246 non-null  float64\n",
      " 15  Longitude                                             87246 non-null  float64\n",
      " 16  Elevation                                             87246 non-null  float64\n",
      "dtypes: float64(11), object(6)\n",
      "memory usage: 11.3+ MB\n"
     ]
    }
   ],
   "source": [
    "df.info()"
   ]
  },
  {
   "cell_type": "code",
   "execution_count": 225,
   "metadata": {
    "colab": {
     "base_uri": "https://localhost:8080/",
     "height": 313
    },
    "executionInfo": {
     "elapsed": 688,
     "status": "ok",
     "timestamp": 1708510727725,
     "user": {
      "displayName": "Prajwal Ambadkar",
      "userId": "05706935455536576109"
     },
     "user_tz": -330
    },
    "id": "ibYMDSjLVV1T",
    "outputId": "30d79447-c4a0-4567-8ceb-5fb2736ffc98"
   },
   "outputs": [
    {
     "data": {
      "application/vnd.google.colaboratory.intrinsic+json": {
       "repr_error": "'str' object has no attribute 'empty'",
       "type": "dataframe",
       "variable_name": "df"
      },
      "text/html": [
       "\n",
       "  <div id=\"df-bb725d6a-16d5-4a20-add4-8eb7fca2ce57\" class=\"colab-df-container\">\n",
       "    <div>\n",
       "<style scoped>\n",
       "    .dataframe tbody tr th:only-of-type {\n",
       "        vertical-align: middle;\n",
       "    }\n",
       "\n",
       "    .dataframe tbody tr th {\n",
       "        vertical-align: top;\n",
       "    }\n",
       "\n",
       "    .dataframe thead th {\n",
       "        text-align: right;\n",
       "    }\n",
       "</style>\n",
       "<table border=\"1\" class=\"dataframe\">\n",
       "  <thead>\n",
       "    <tr style=\"text-align: right;\">\n",
       "      <th></th>\n",
       "      <th>Date</th>\n",
       "      <th>Time</th>\n",
       "      <th>Total_Precipitation</th>\n",
       "      <th>Atmospheric_Pressure</th>\n",
       "      <th>Solar_Radiation</th>\n",
       "      <th>Maximum_Temperature_For_The_Last_Hour</th>\n",
       "      <th>Minimum_Temperature_For_The_Last_Hour</th>\n",
       "      <th>Maximum_Relative_Humid_Temperature_For_The_Last_Hour</th>\n",
       "      <th>Minimum_Relative_Humid_Temperature_For_The_Last_Hour</th>\n",
       "      <th>Wind_speed_In_Metres_Per_Second</th>\n",
       "      <th>Region</th>\n",
       "      <th>State</th>\n",
       "      <th>Station_Name</th>\n",
       "      <th>Station_Code</th>\n",
       "      <th>Latitude</th>\n",
       "      <th>Longitude</th>\n",
       "      <th>Elevation</th>\n",
       "    </tr>\n",
       "  </thead>\n",
       "  <tbody>\n",
       "    <tr>\n",
       "      <th>0</th>\n",
       "      <td>2000-07-03</td>\n",
       "      <td>11:00</td>\n",
       "      <td>0.0</td>\n",
       "      <td>1005.4</td>\n",
       "      <td>59.0</td>\n",
       "      <td>26.0</td>\n",
       "      <td>25.5</td>\n",
       "      <td>90.0</td>\n",
       "      <td>88.0</td>\n",
       "      <td>1.3</td>\n",
       "      <td>N</td>\n",
       "      <td>AM</td>\n",
       "      <td>MANAUS</td>\n",
       "      <td>A101</td>\n",
       "      <td>-3.103333</td>\n",
       "      <td>-60.016389</td>\n",
       "      <td>61.25</td>\n",
       "    </tr>\n",
       "    <tr>\n",
       "      <th>1</th>\n",
       "      <td>2000-07-03</td>\n",
       "      <td>12:00</td>\n",
       "      <td>0.0</td>\n",
       "      <td>1006.1</td>\n",
       "      <td>346.0</td>\n",
       "      <td>26.6</td>\n",
       "      <td>26.0</td>\n",
       "      <td>90.0</td>\n",
       "      <td>87.0</td>\n",
       "      <td>1.3</td>\n",
       "      <td>N</td>\n",
       "      <td>AM</td>\n",
       "      <td>MANAUS</td>\n",
       "      <td>A101</td>\n",
       "      <td>-3.103333</td>\n",
       "      <td>-60.016389</td>\n",
       "      <td>61.25</td>\n",
       "    </tr>\n",
       "    <tr>\n",
       "      <th>2</th>\n",
       "      <td>2000-07-03</td>\n",
       "      <td>13:00</td>\n",
       "      <td>0.0</td>\n",
       "      <td>1006.6</td>\n",
       "      <td>863.0</td>\n",
       "      <td>27.5</td>\n",
       "      <td>26.5</td>\n",
       "      <td>88.0</td>\n",
       "      <td>83.0</td>\n",
       "      <td>1.7</td>\n",
       "      <td>N</td>\n",
       "      <td>AM</td>\n",
       "      <td>MANAUS</td>\n",
       "      <td>A101</td>\n",
       "      <td>-3.103333</td>\n",
       "      <td>-60.016389</td>\n",
       "      <td>61.25</td>\n",
       "    </tr>\n",
       "    <tr>\n",
       "      <th>3</th>\n",
       "      <td>2000-07-03</td>\n",
       "      <td>14:00</td>\n",
       "      <td>0.0</td>\n",
       "      <td>1006.8</td>\n",
       "      <td>1481.0</td>\n",
       "      <td>29.1</td>\n",
       "      <td>27.5</td>\n",
       "      <td>83.0</td>\n",
       "      <td>76.0</td>\n",
       "      <td>1.7</td>\n",
       "      <td>N</td>\n",
       "      <td>AM</td>\n",
       "      <td>MANAUS</td>\n",
       "      <td>A101</td>\n",
       "      <td>-3.103333</td>\n",
       "      <td>-60.016389</td>\n",
       "      <td>61.25</td>\n",
       "    </tr>\n",
       "    <tr>\n",
       "      <th>4</th>\n",
       "      <td>2000-07-03</td>\n",
       "      <td>15:00</td>\n",
       "      <td>0.0</td>\n",
       "      <td>1006.7</td>\n",
       "      <td>2337.0</td>\n",
       "      <td>30.0</td>\n",
       "      <td>28.0</td>\n",
       "      <td>80.0</td>\n",
       "      <td>70.0</td>\n",
       "      <td>2.0</td>\n",
       "      <td>N</td>\n",
       "      <td>AM</td>\n",
       "      <td>MANAUS</td>\n",
       "      <td>A101</td>\n",
       "      <td>-3.103333</td>\n",
       "      <td>-60.016389</td>\n",
       "      <td>61.25</td>\n",
       "    </tr>\n",
       "  </tbody>\n",
       "</table>\n",
       "</div>\n",
       "    <div class=\"colab-df-buttons\">\n",
       "\n",
       "  <div class=\"colab-df-container\">\n",
       "    <button class=\"colab-df-convert\" onclick=\"convertToInteractive('df-bb725d6a-16d5-4a20-add4-8eb7fca2ce57')\"\n",
       "            title=\"Convert this dataframe to an interactive table.\"\n",
       "            style=\"display:none;\">\n",
       "\n",
       "  <svg xmlns=\"http://www.w3.org/2000/svg\" height=\"24px\" viewBox=\"0 -960 960 960\">\n",
       "    <path d=\"M120-120v-720h720v720H120Zm60-500h600v-160H180v160Zm220 220h160v-160H400v160Zm0 220h160v-160H400v160ZM180-400h160v-160H180v160Zm440 0h160v-160H620v160ZM180-180h160v-160H180v160Zm440 0h160v-160H620v160Z\"/>\n",
       "  </svg>\n",
       "    </button>\n",
       "\n",
       "  <style>\n",
       "    .colab-df-container {\n",
       "      display:flex;\n",
       "      gap: 12px;\n",
       "    }\n",
       "\n",
       "    .colab-df-convert {\n",
       "      background-color: #E8F0FE;\n",
       "      border: none;\n",
       "      border-radius: 50%;\n",
       "      cursor: pointer;\n",
       "      display: none;\n",
       "      fill: #1967D2;\n",
       "      height: 32px;\n",
       "      padding: 0 0 0 0;\n",
       "      width: 32px;\n",
       "    }\n",
       "\n",
       "    .colab-df-convert:hover {\n",
       "      background-color: #E2EBFA;\n",
       "      box-shadow: 0px 1px 2px rgba(60, 64, 67, 0.3), 0px 1px 3px 1px rgba(60, 64, 67, 0.15);\n",
       "      fill: #174EA6;\n",
       "    }\n",
       "\n",
       "    .colab-df-buttons div {\n",
       "      margin-bottom: 4px;\n",
       "    }\n",
       "\n",
       "    [theme=dark] .colab-df-convert {\n",
       "      background-color: #3B4455;\n",
       "      fill: #D2E3FC;\n",
       "    }\n",
       "\n",
       "    [theme=dark] .colab-df-convert:hover {\n",
       "      background-color: #434B5C;\n",
       "      box-shadow: 0px 1px 3px 1px rgba(0, 0, 0, 0.15);\n",
       "      filter: drop-shadow(0px 1px 2px rgba(0, 0, 0, 0.3));\n",
       "      fill: #FFFFFF;\n",
       "    }\n",
       "  </style>\n",
       "\n",
       "    <script>\n",
       "      const buttonEl =\n",
       "        document.querySelector('#df-bb725d6a-16d5-4a20-add4-8eb7fca2ce57 button.colab-df-convert');\n",
       "      buttonEl.style.display =\n",
       "        google.colab.kernel.accessAllowed ? 'block' : 'none';\n",
       "\n",
       "      async function convertToInteractive(key) {\n",
       "        const element = document.querySelector('#df-bb725d6a-16d5-4a20-add4-8eb7fca2ce57');\n",
       "        const dataTable =\n",
       "          await google.colab.kernel.invokeFunction('convertToInteractive',\n",
       "                                                    [key], {});\n",
       "        if (!dataTable) return;\n",
       "\n",
       "        const docLinkHtml = 'Like what you see? Visit the ' +\n",
       "          '<a target=\"_blank\" href=https://colab.research.google.com/notebooks/data_table.ipynb>data table notebook</a>'\n",
       "          + ' to learn more about interactive tables.';\n",
       "        element.innerHTML = '';\n",
       "        dataTable['output_type'] = 'display_data';\n",
       "        await google.colab.output.renderOutput(dataTable, element);\n",
       "        const docLink = document.createElement('div');\n",
       "        docLink.innerHTML = docLinkHtml;\n",
       "        element.appendChild(docLink);\n",
       "      }\n",
       "    </script>\n",
       "  </div>\n",
       "\n",
       "\n",
       "<div id=\"df-71d03d0c-2df6-4fdb-9d2f-b260d001de30\">\n",
       "  <button class=\"colab-df-quickchart\" onclick=\"quickchart('df-71d03d0c-2df6-4fdb-9d2f-b260d001de30')\"\n",
       "            title=\"Suggest charts\"\n",
       "            style=\"display:none;\">\n",
       "\n",
       "<svg xmlns=\"http://www.w3.org/2000/svg\" height=\"24px\"viewBox=\"0 0 24 24\"\n",
       "     width=\"24px\">\n",
       "    <g>\n",
       "        <path d=\"M19 3H5c-1.1 0-2 .9-2 2v14c0 1.1.9 2 2 2h14c1.1 0 2-.9 2-2V5c0-1.1-.9-2-2-2zM9 17H7v-7h2v7zm4 0h-2V7h2v10zm4 0h-2v-4h2v4z\"/>\n",
       "    </g>\n",
       "</svg>\n",
       "  </button>\n",
       "\n",
       "<style>\n",
       "  .colab-df-quickchart {\n",
       "      --bg-color: #E8F0FE;\n",
       "      --fill-color: #1967D2;\n",
       "      --hover-bg-color: #E2EBFA;\n",
       "      --hover-fill-color: #174EA6;\n",
       "      --disabled-fill-color: #AAA;\n",
       "      --disabled-bg-color: #DDD;\n",
       "  }\n",
       "\n",
       "  [theme=dark] .colab-df-quickchart {\n",
       "      --bg-color: #3B4455;\n",
       "      --fill-color: #D2E3FC;\n",
       "      --hover-bg-color: #434B5C;\n",
       "      --hover-fill-color: #FFFFFF;\n",
       "      --disabled-bg-color: #3B4455;\n",
       "      --disabled-fill-color: #666;\n",
       "  }\n",
       "\n",
       "  .colab-df-quickchart {\n",
       "    background-color: var(--bg-color);\n",
       "    border: none;\n",
       "    border-radius: 50%;\n",
       "    cursor: pointer;\n",
       "    display: none;\n",
       "    fill: var(--fill-color);\n",
       "    height: 32px;\n",
       "    padding: 0;\n",
       "    width: 32px;\n",
       "  }\n",
       "\n",
       "  .colab-df-quickchart:hover {\n",
       "    background-color: var(--hover-bg-color);\n",
       "    box-shadow: 0 1px 2px rgba(60, 64, 67, 0.3), 0 1px 3px 1px rgba(60, 64, 67, 0.15);\n",
       "    fill: var(--button-hover-fill-color);\n",
       "  }\n",
       "\n",
       "  .colab-df-quickchart-complete:disabled,\n",
       "  .colab-df-quickchart-complete:disabled:hover {\n",
       "    background-color: var(--disabled-bg-color);\n",
       "    fill: var(--disabled-fill-color);\n",
       "    box-shadow: none;\n",
       "  }\n",
       "\n",
       "  .colab-df-spinner {\n",
       "    border: 2px solid var(--fill-color);\n",
       "    border-color: transparent;\n",
       "    border-bottom-color: var(--fill-color);\n",
       "    animation:\n",
       "      spin 1s steps(1) infinite;\n",
       "  }\n",
       "\n",
       "  @keyframes spin {\n",
       "    0% {\n",
       "      border-color: transparent;\n",
       "      border-bottom-color: var(--fill-color);\n",
       "      border-left-color: var(--fill-color);\n",
       "    }\n",
       "    20% {\n",
       "      border-color: transparent;\n",
       "      border-left-color: var(--fill-color);\n",
       "      border-top-color: var(--fill-color);\n",
       "    }\n",
       "    30% {\n",
       "      border-color: transparent;\n",
       "      border-left-color: var(--fill-color);\n",
       "      border-top-color: var(--fill-color);\n",
       "      border-right-color: var(--fill-color);\n",
       "    }\n",
       "    40% {\n",
       "      border-color: transparent;\n",
       "      border-right-color: var(--fill-color);\n",
       "      border-top-color: var(--fill-color);\n",
       "    }\n",
       "    60% {\n",
       "      border-color: transparent;\n",
       "      border-right-color: var(--fill-color);\n",
       "    }\n",
       "    80% {\n",
       "      border-color: transparent;\n",
       "      border-right-color: var(--fill-color);\n",
       "      border-bottom-color: var(--fill-color);\n",
       "    }\n",
       "    90% {\n",
       "      border-color: transparent;\n",
       "      border-bottom-color: var(--fill-color);\n",
       "    }\n",
       "  }\n",
       "</style>\n",
       "\n",
       "  <script>\n",
       "    async function quickchart(key) {\n",
       "      const quickchartButtonEl =\n",
       "        document.querySelector('#' + key + ' button');\n",
       "      quickchartButtonEl.disabled = true;  // To prevent multiple clicks.\n",
       "      quickchartButtonEl.classList.add('colab-df-spinner');\n",
       "      try {\n",
       "        const charts = await google.colab.kernel.invokeFunction(\n",
       "            'suggestCharts', [key], {});\n",
       "      } catch (error) {\n",
       "        console.error('Error during call to suggestCharts:', error);\n",
       "      }\n",
       "      quickchartButtonEl.classList.remove('colab-df-spinner');\n",
       "      quickchartButtonEl.classList.add('colab-df-quickchart-complete');\n",
       "    }\n",
       "    (() => {\n",
       "      let quickchartButtonEl =\n",
       "        document.querySelector('#df-71d03d0c-2df6-4fdb-9d2f-b260d001de30 button');\n",
       "      quickchartButtonEl.style.display =\n",
       "        google.colab.kernel.accessAllowed ? 'block' : 'none';\n",
       "    })();\n",
       "  </script>\n",
       "</div>\n",
       "\n",
       "    </div>\n",
       "  </div>\n"
      ],
      "text/plain": [
       "         Date   Time  Total_Precipitation  Atmospheric_Pressure  \\\n",
       "0  2000-07-03  11:00                  0.0                1005.4   \n",
       "1  2000-07-03  12:00                  0.0                1006.1   \n",
       "2  2000-07-03  13:00                  0.0                1006.6   \n",
       "3  2000-07-03  14:00                  0.0                1006.8   \n",
       "4  2000-07-03  15:00                  0.0                1006.7   \n",
       "\n",
       "   Solar_Radiation  Maximum_Temperature_For_The_Last_Hour  \\\n",
       "0             59.0                                   26.0   \n",
       "1            346.0                                   26.6   \n",
       "2            863.0                                   27.5   \n",
       "3           1481.0                                   29.1   \n",
       "4           2337.0                                   30.0   \n",
       "\n",
       "   Minimum_Temperature_For_The_Last_Hour  \\\n",
       "0                                   25.5   \n",
       "1                                   26.0   \n",
       "2                                   26.5   \n",
       "3                                   27.5   \n",
       "4                                   28.0   \n",
       "\n",
       "   Maximum_Relative_Humid_Temperature_For_The_Last_Hour  \\\n",
       "0                                               90.0      \n",
       "1                                               90.0      \n",
       "2                                               88.0      \n",
       "3                                               83.0      \n",
       "4                                               80.0      \n",
       "\n",
       "   Minimum_Relative_Humid_Temperature_For_The_Last_Hour  \\\n",
       "0                                               88.0      \n",
       "1                                               87.0      \n",
       "2                                               83.0      \n",
       "3                                               76.0      \n",
       "4                                               70.0      \n",
       "\n",
       "   Wind_speed_In_Metres_Per_Second Region State Station_Name Station_Code  \\\n",
       "0                              1.3      N    AM       MANAUS         A101   \n",
       "1                              1.3      N    AM       MANAUS         A101   \n",
       "2                              1.7      N    AM       MANAUS         A101   \n",
       "3                              1.7      N    AM       MANAUS         A101   \n",
       "4                              2.0      N    AM       MANAUS         A101   \n",
       "\n",
       "   Latitude  Longitude  Elevation  \n",
       "0 -3.103333 -60.016389      61.25  \n",
       "1 -3.103333 -60.016389      61.25  \n",
       "2 -3.103333 -60.016389      61.25  \n",
       "3 -3.103333 -60.016389      61.25  \n",
       "4 -3.103333 -60.016389      61.25  "
      ]
     },
     "execution_count": 225,
     "metadata": {},
     "output_type": "execute_result"
    }
   ],
   "source": [
    "df.head()"
   ]
  },
  {
   "cell_type": "code",
   "execution_count": 226,
   "metadata": {
    "executionInfo": {
     "elapsed": 510,
     "status": "ok",
     "timestamp": 1708510728195,
     "user": {
      "displayName": "Prajwal Ambadkar",
      "userId": "05706935455536576109"
     },
     "user_tz": -330
    },
    "id": "VXXVFqKSVmeb"
   },
   "outputs": [],
   "source": [
    "df = pd.read_csv(\"/content/final_north_with_2009 (1).csv\",\n",
    "                 parse_dates=['Date'])\n",
    "# date format is MM - DD - YYYY"
   ]
  },
  {
   "cell_type": "code",
   "execution_count": 227,
   "metadata": {
    "colab": {
     "base_uri": "https://localhost:8080/",
     "height": 313
    },
    "executionInfo": {
     "elapsed": 33,
     "status": "ok",
     "timestamp": 1708510730118,
     "user": {
      "displayName": "Prajwal Ambadkar",
      "userId": "05706935455536576109"
     },
     "user_tz": -330
    },
    "id": "ow0362lNWGr1",
    "outputId": "5daf488e-2fae-417d-ef25-a1b5a622bb1c"
   },
   "outputs": [
    {
     "data": {
      "application/vnd.google.colaboratory.intrinsic+json": {
       "repr_error": "'str' object has no attribute 'empty'",
       "type": "dataframe",
       "variable_name": "df"
      },
      "text/html": [
       "\n",
       "  <div id=\"df-d37503bc-5aef-40d2-ba58-fb475d6c2380\" class=\"colab-df-container\">\n",
       "    <div>\n",
       "<style scoped>\n",
       "    .dataframe tbody tr th:only-of-type {\n",
       "        vertical-align: middle;\n",
       "    }\n",
       "\n",
       "    .dataframe tbody tr th {\n",
       "        vertical-align: top;\n",
       "    }\n",
       "\n",
       "    .dataframe thead th {\n",
       "        text-align: right;\n",
       "    }\n",
       "</style>\n",
       "<table border=\"1\" class=\"dataframe\">\n",
       "  <thead>\n",
       "    <tr style=\"text-align: right;\">\n",
       "      <th></th>\n",
       "      <th>Date</th>\n",
       "      <th>Time</th>\n",
       "      <th>Total_Precipitation</th>\n",
       "      <th>Atmospheric_Pressure</th>\n",
       "      <th>Solar_Radiation</th>\n",
       "      <th>Maximum_Temperature_For_The_Last_Hour</th>\n",
       "      <th>Minimum_Temperature_For_The_Last_Hour</th>\n",
       "      <th>Maximum_Relative_Humid_Temperature_For_The_Last_Hour</th>\n",
       "      <th>Minimum_Relative_Humid_Temperature_For_The_Last_Hour</th>\n",
       "      <th>Wind_speed_In_Metres_Per_Second</th>\n",
       "      <th>Region</th>\n",
       "      <th>State</th>\n",
       "      <th>Station_Name</th>\n",
       "      <th>Station_Code</th>\n",
       "      <th>Latitude</th>\n",
       "      <th>Longitude</th>\n",
       "      <th>Elevation</th>\n",
       "    </tr>\n",
       "  </thead>\n",
       "  <tbody>\n",
       "    <tr>\n",
       "      <th>0</th>\n",
       "      <td>2000-07-03</td>\n",
       "      <td>11:00</td>\n",
       "      <td>0.0</td>\n",
       "      <td>1005.4</td>\n",
       "      <td>59.0</td>\n",
       "      <td>26.0</td>\n",
       "      <td>25.5</td>\n",
       "      <td>90.0</td>\n",
       "      <td>88.0</td>\n",
       "      <td>1.3</td>\n",
       "      <td>N</td>\n",
       "      <td>AM</td>\n",
       "      <td>MANAUS</td>\n",
       "      <td>A101</td>\n",
       "      <td>-3.103333</td>\n",
       "      <td>-60.016389</td>\n",
       "      <td>61.25</td>\n",
       "    </tr>\n",
       "    <tr>\n",
       "      <th>1</th>\n",
       "      <td>2000-07-03</td>\n",
       "      <td>12:00</td>\n",
       "      <td>0.0</td>\n",
       "      <td>1006.1</td>\n",
       "      <td>346.0</td>\n",
       "      <td>26.6</td>\n",
       "      <td>26.0</td>\n",
       "      <td>90.0</td>\n",
       "      <td>87.0</td>\n",
       "      <td>1.3</td>\n",
       "      <td>N</td>\n",
       "      <td>AM</td>\n",
       "      <td>MANAUS</td>\n",
       "      <td>A101</td>\n",
       "      <td>-3.103333</td>\n",
       "      <td>-60.016389</td>\n",
       "      <td>61.25</td>\n",
       "    </tr>\n",
       "    <tr>\n",
       "      <th>2</th>\n",
       "      <td>2000-07-03</td>\n",
       "      <td>13:00</td>\n",
       "      <td>0.0</td>\n",
       "      <td>1006.6</td>\n",
       "      <td>863.0</td>\n",
       "      <td>27.5</td>\n",
       "      <td>26.5</td>\n",
       "      <td>88.0</td>\n",
       "      <td>83.0</td>\n",
       "      <td>1.7</td>\n",
       "      <td>N</td>\n",
       "      <td>AM</td>\n",
       "      <td>MANAUS</td>\n",
       "      <td>A101</td>\n",
       "      <td>-3.103333</td>\n",
       "      <td>-60.016389</td>\n",
       "      <td>61.25</td>\n",
       "    </tr>\n",
       "    <tr>\n",
       "      <th>3</th>\n",
       "      <td>2000-07-03</td>\n",
       "      <td>14:00</td>\n",
       "      <td>0.0</td>\n",
       "      <td>1006.8</td>\n",
       "      <td>1481.0</td>\n",
       "      <td>29.1</td>\n",
       "      <td>27.5</td>\n",
       "      <td>83.0</td>\n",
       "      <td>76.0</td>\n",
       "      <td>1.7</td>\n",
       "      <td>N</td>\n",
       "      <td>AM</td>\n",
       "      <td>MANAUS</td>\n",
       "      <td>A101</td>\n",
       "      <td>-3.103333</td>\n",
       "      <td>-60.016389</td>\n",
       "      <td>61.25</td>\n",
       "    </tr>\n",
       "    <tr>\n",
       "      <th>4</th>\n",
       "      <td>2000-07-03</td>\n",
       "      <td>15:00</td>\n",
       "      <td>0.0</td>\n",
       "      <td>1006.7</td>\n",
       "      <td>2337.0</td>\n",
       "      <td>30.0</td>\n",
       "      <td>28.0</td>\n",
       "      <td>80.0</td>\n",
       "      <td>70.0</td>\n",
       "      <td>2.0</td>\n",
       "      <td>N</td>\n",
       "      <td>AM</td>\n",
       "      <td>MANAUS</td>\n",
       "      <td>A101</td>\n",
       "      <td>-3.103333</td>\n",
       "      <td>-60.016389</td>\n",
       "      <td>61.25</td>\n",
       "    </tr>\n",
       "  </tbody>\n",
       "</table>\n",
       "</div>\n",
       "    <div class=\"colab-df-buttons\">\n",
       "\n",
       "  <div class=\"colab-df-container\">\n",
       "    <button class=\"colab-df-convert\" onclick=\"convertToInteractive('df-d37503bc-5aef-40d2-ba58-fb475d6c2380')\"\n",
       "            title=\"Convert this dataframe to an interactive table.\"\n",
       "            style=\"display:none;\">\n",
       "\n",
       "  <svg xmlns=\"http://www.w3.org/2000/svg\" height=\"24px\" viewBox=\"0 -960 960 960\">\n",
       "    <path d=\"M120-120v-720h720v720H120Zm60-500h600v-160H180v160Zm220 220h160v-160H400v160Zm0 220h160v-160H400v160ZM180-400h160v-160H180v160Zm440 0h160v-160H620v160ZM180-180h160v-160H180v160Zm440 0h160v-160H620v160Z\"/>\n",
       "  </svg>\n",
       "    </button>\n",
       "\n",
       "  <style>\n",
       "    .colab-df-container {\n",
       "      display:flex;\n",
       "      gap: 12px;\n",
       "    }\n",
       "\n",
       "    .colab-df-convert {\n",
       "      background-color: #E8F0FE;\n",
       "      border: none;\n",
       "      border-radius: 50%;\n",
       "      cursor: pointer;\n",
       "      display: none;\n",
       "      fill: #1967D2;\n",
       "      height: 32px;\n",
       "      padding: 0 0 0 0;\n",
       "      width: 32px;\n",
       "    }\n",
       "\n",
       "    .colab-df-convert:hover {\n",
       "      background-color: #E2EBFA;\n",
       "      box-shadow: 0px 1px 2px rgba(60, 64, 67, 0.3), 0px 1px 3px 1px rgba(60, 64, 67, 0.15);\n",
       "      fill: #174EA6;\n",
       "    }\n",
       "\n",
       "    .colab-df-buttons div {\n",
       "      margin-bottom: 4px;\n",
       "    }\n",
       "\n",
       "    [theme=dark] .colab-df-convert {\n",
       "      background-color: #3B4455;\n",
       "      fill: #D2E3FC;\n",
       "    }\n",
       "\n",
       "    [theme=dark] .colab-df-convert:hover {\n",
       "      background-color: #434B5C;\n",
       "      box-shadow: 0px 1px 3px 1px rgba(0, 0, 0, 0.15);\n",
       "      filter: drop-shadow(0px 1px 2px rgba(0, 0, 0, 0.3));\n",
       "      fill: #FFFFFF;\n",
       "    }\n",
       "  </style>\n",
       "\n",
       "    <script>\n",
       "      const buttonEl =\n",
       "        document.querySelector('#df-d37503bc-5aef-40d2-ba58-fb475d6c2380 button.colab-df-convert');\n",
       "      buttonEl.style.display =\n",
       "        google.colab.kernel.accessAllowed ? 'block' : 'none';\n",
       "\n",
       "      async function convertToInteractive(key) {\n",
       "        const element = document.querySelector('#df-d37503bc-5aef-40d2-ba58-fb475d6c2380');\n",
       "        const dataTable =\n",
       "          await google.colab.kernel.invokeFunction('convertToInteractive',\n",
       "                                                    [key], {});\n",
       "        if (!dataTable) return;\n",
       "\n",
       "        const docLinkHtml = 'Like what you see? Visit the ' +\n",
       "          '<a target=\"_blank\" href=https://colab.research.google.com/notebooks/data_table.ipynb>data table notebook</a>'\n",
       "          + ' to learn more about interactive tables.';\n",
       "        element.innerHTML = '';\n",
       "        dataTable['output_type'] = 'display_data';\n",
       "        await google.colab.output.renderOutput(dataTable, element);\n",
       "        const docLink = document.createElement('div');\n",
       "        docLink.innerHTML = docLinkHtml;\n",
       "        element.appendChild(docLink);\n",
       "      }\n",
       "    </script>\n",
       "  </div>\n",
       "\n",
       "\n",
       "<div id=\"df-039ccdf7-71cc-4387-ae90-16282159508c\">\n",
       "  <button class=\"colab-df-quickchart\" onclick=\"quickchart('df-039ccdf7-71cc-4387-ae90-16282159508c')\"\n",
       "            title=\"Suggest charts\"\n",
       "            style=\"display:none;\">\n",
       "\n",
       "<svg xmlns=\"http://www.w3.org/2000/svg\" height=\"24px\"viewBox=\"0 0 24 24\"\n",
       "     width=\"24px\">\n",
       "    <g>\n",
       "        <path d=\"M19 3H5c-1.1 0-2 .9-2 2v14c0 1.1.9 2 2 2h14c1.1 0 2-.9 2-2V5c0-1.1-.9-2-2-2zM9 17H7v-7h2v7zm4 0h-2V7h2v10zm4 0h-2v-4h2v4z\"/>\n",
       "    </g>\n",
       "</svg>\n",
       "  </button>\n",
       "\n",
       "<style>\n",
       "  .colab-df-quickchart {\n",
       "      --bg-color: #E8F0FE;\n",
       "      --fill-color: #1967D2;\n",
       "      --hover-bg-color: #E2EBFA;\n",
       "      --hover-fill-color: #174EA6;\n",
       "      --disabled-fill-color: #AAA;\n",
       "      --disabled-bg-color: #DDD;\n",
       "  }\n",
       "\n",
       "  [theme=dark] .colab-df-quickchart {\n",
       "      --bg-color: #3B4455;\n",
       "      --fill-color: #D2E3FC;\n",
       "      --hover-bg-color: #434B5C;\n",
       "      --hover-fill-color: #FFFFFF;\n",
       "      --disabled-bg-color: #3B4455;\n",
       "      --disabled-fill-color: #666;\n",
       "  }\n",
       "\n",
       "  .colab-df-quickchart {\n",
       "    background-color: var(--bg-color);\n",
       "    border: none;\n",
       "    border-radius: 50%;\n",
       "    cursor: pointer;\n",
       "    display: none;\n",
       "    fill: var(--fill-color);\n",
       "    height: 32px;\n",
       "    padding: 0;\n",
       "    width: 32px;\n",
       "  }\n",
       "\n",
       "  .colab-df-quickchart:hover {\n",
       "    background-color: var(--hover-bg-color);\n",
       "    box-shadow: 0 1px 2px rgba(60, 64, 67, 0.3), 0 1px 3px 1px rgba(60, 64, 67, 0.15);\n",
       "    fill: var(--button-hover-fill-color);\n",
       "  }\n",
       "\n",
       "  .colab-df-quickchart-complete:disabled,\n",
       "  .colab-df-quickchart-complete:disabled:hover {\n",
       "    background-color: var(--disabled-bg-color);\n",
       "    fill: var(--disabled-fill-color);\n",
       "    box-shadow: none;\n",
       "  }\n",
       "\n",
       "  .colab-df-spinner {\n",
       "    border: 2px solid var(--fill-color);\n",
       "    border-color: transparent;\n",
       "    border-bottom-color: var(--fill-color);\n",
       "    animation:\n",
       "      spin 1s steps(1) infinite;\n",
       "  }\n",
       "\n",
       "  @keyframes spin {\n",
       "    0% {\n",
       "      border-color: transparent;\n",
       "      border-bottom-color: var(--fill-color);\n",
       "      border-left-color: var(--fill-color);\n",
       "    }\n",
       "    20% {\n",
       "      border-color: transparent;\n",
       "      border-left-color: var(--fill-color);\n",
       "      border-top-color: var(--fill-color);\n",
       "    }\n",
       "    30% {\n",
       "      border-color: transparent;\n",
       "      border-left-color: var(--fill-color);\n",
       "      border-top-color: var(--fill-color);\n",
       "      border-right-color: var(--fill-color);\n",
       "    }\n",
       "    40% {\n",
       "      border-color: transparent;\n",
       "      border-right-color: var(--fill-color);\n",
       "      border-top-color: var(--fill-color);\n",
       "    }\n",
       "    60% {\n",
       "      border-color: transparent;\n",
       "      border-right-color: var(--fill-color);\n",
       "    }\n",
       "    80% {\n",
       "      border-color: transparent;\n",
       "      border-right-color: var(--fill-color);\n",
       "      border-bottom-color: var(--fill-color);\n",
       "    }\n",
       "    90% {\n",
       "      border-color: transparent;\n",
       "      border-bottom-color: var(--fill-color);\n",
       "    }\n",
       "  }\n",
       "</style>\n",
       "\n",
       "  <script>\n",
       "    async function quickchart(key) {\n",
       "      const quickchartButtonEl =\n",
       "        document.querySelector('#' + key + ' button');\n",
       "      quickchartButtonEl.disabled = true;  // To prevent multiple clicks.\n",
       "      quickchartButtonEl.classList.add('colab-df-spinner');\n",
       "      try {\n",
       "        const charts = await google.colab.kernel.invokeFunction(\n",
       "            'suggestCharts', [key], {});\n",
       "      } catch (error) {\n",
       "        console.error('Error during call to suggestCharts:', error);\n",
       "      }\n",
       "      quickchartButtonEl.classList.remove('colab-df-spinner');\n",
       "      quickchartButtonEl.classList.add('colab-df-quickchart-complete');\n",
       "    }\n",
       "    (() => {\n",
       "      let quickchartButtonEl =\n",
       "        document.querySelector('#df-039ccdf7-71cc-4387-ae90-16282159508c button');\n",
       "      quickchartButtonEl.style.display =\n",
       "        google.colab.kernel.accessAllowed ? 'block' : 'none';\n",
       "    })();\n",
       "  </script>\n",
       "</div>\n",
       "\n",
       "    </div>\n",
       "  </div>\n"
      ],
      "text/plain": [
       "        Date   Time  Total_Precipitation  Atmospheric_Pressure  \\\n",
       "0 2000-07-03  11:00                  0.0                1005.4   \n",
       "1 2000-07-03  12:00                  0.0                1006.1   \n",
       "2 2000-07-03  13:00                  0.0                1006.6   \n",
       "3 2000-07-03  14:00                  0.0                1006.8   \n",
       "4 2000-07-03  15:00                  0.0                1006.7   \n",
       "\n",
       "   Solar_Radiation  Maximum_Temperature_For_The_Last_Hour  \\\n",
       "0             59.0                                   26.0   \n",
       "1            346.0                                   26.6   \n",
       "2            863.0                                   27.5   \n",
       "3           1481.0                                   29.1   \n",
       "4           2337.0                                   30.0   \n",
       "\n",
       "   Minimum_Temperature_For_The_Last_Hour  \\\n",
       "0                                   25.5   \n",
       "1                                   26.0   \n",
       "2                                   26.5   \n",
       "3                                   27.5   \n",
       "4                                   28.0   \n",
       "\n",
       "   Maximum_Relative_Humid_Temperature_For_The_Last_Hour  \\\n",
       "0                                               90.0      \n",
       "1                                               90.0      \n",
       "2                                               88.0      \n",
       "3                                               83.0      \n",
       "4                                               80.0      \n",
       "\n",
       "   Minimum_Relative_Humid_Temperature_For_The_Last_Hour  \\\n",
       "0                                               88.0      \n",
       "1                                               87.0      \n",
       "2                                               83.0      \n",
       "3                                               76.0      \n",
       "4                                               70.0      \n",
       "\n",
       "   Wind_speed_In_Metres_Per_Second Region State Station_Name Station_Code  \\\n",
       "0                              1.3      N    AM       MANAUS         A101   \n",
       "1                              1.3      N    AM       MANAUS         A101   \n",
       "2                              1.7      N    AM       MANAUS         A101   \n",
       "3                              1.7      N    AM       MANAUS         A101   \n",
       "4                              2.0      N    AM       MANAUS         A101   \n",
       "\n",
       "   Latitude  Longitude  Elevation  \n",
       "0 -3.103333 -60.016389      61.25  \n",
       "1 -3.103333 -60.016389      61.25  \n",
       "2 -3.103333 -60.016389      61.25  \n",
       "3 -3.103333 -60.016389      61.25  \n",
       "4 -3.103333 -60.016389      61.25  "
      ]
     },
     "execution_count": 227,
     "metadata": {},
     "output_type": "execute_result"
    }
   ],
   "source": [
    "df.head()"
   ]
  },
  {
   "cell_type": "markdown",
   "metadata": {
    "id": "26WlvHgvWXMb"
   },
   "source": [
    "# **Set Columns related to Date / time as index and sort over it**"
   ]
  },
  {
   "cell_type": "code",
   "execution_count": 228,
   "metadata": {
    "executionInfo": {
     "elapsed": 841,
     "status": "ok",
     "timestamp": 1708510733792,
     "user": {
      "displayName": "Prajwal Ambadkar",
      "userId": "05706935455536576109"
     },
     "user_tz": -330
    },
    "id": "ZG78ZF_RWYRC"
   },
   "outputs": [],
   "source": [
    "df.set_index('Date', inplace=True)"
   ]
  },
  {
   "cell_type": "code",
   "execution_count": 229,
   "metadata": {
    "colab": {
     "base_uri": "https://localhost:8080/",
     "height": 344
    },
    "executionInfo": {
     "elapsed": 43,
     "status": "ok",
     "timestamp": 1708510733793,
     "user": {
      "displayName": "Prajwal Ambadkar",
      "userId": "05706935455536576109"
     },
     "user_tz": -330
    },
    "id": "K91EhcRQWfzM",
    "outputId": "70fa064b-b8fd-42ed-b04b-1e1e12adb3fc"
   },
   "outputs": [
    {
     "data": {
      "application/vnd.google.colaboratory.intrinsic+json": {
       "repr_error": "'str' object has no attribute 'empty'",
       "type": "dataframe",
       "variable_name": "df"
      },
      "text/html": [
       "\n",
       "  <div id=\"df-f14d14b7-b7d8-47ec-b0d4-8676e814a3d0\" class=\"colab-df-container\">\n",
       "    <div>\n",
       "<style scoped>\n",
       "    .dataframe tbody tr th:only-of-type {\n",
       "        vertical-align: middle;\n",
       "    }\n",
       "\n",
       "    .dataframe tbody tr th {\n",
       "        vertical-align: top;\n",
       "    }\n",
       "\n",
       "    .dataframe thead th {\n",
       "        text-align: right;\n",
       "    }\n",
       "</style>\n",
       "<table border=\"1\" class=\"dataframe\">\n",
       "  <thead>\n",
       "    <tr style=\"text-align: right;\">\n",
       "      <th></th>\n",
       "      <th>Time</th>\n",
       "      <th>Total_Precipitation</th>\n",
       "      <th>Atmospheric_Pressure</th>\n",
       "      <th>Solar_Radiation</th>\n",
       "      <th>Maximum_Temperature_For_The_Last_Hour</th>\n",
       "      <th>Minimum_Temperature_For_The_Last_Hour</th>\n",
       "      <th>Maximum_Relative_Humid_Temperature_For_The_Last_Hour</th>\n",
       "      <th>Minimum_Relative_Humid_Temperature_For_The_Last_Hour</th>\n",
       "      <th>Wind_speed_In_Metres_Per_Second</th>\n",
       "      <th>Region</th>\n",
       "      <th>State</th>\n",
       "      <th>Station_Name</th>\n",
       "      <th>Station_Code</th>\n",
       "      <th>Latitude</th>\n",
       "      <th>Longitude</th>\n",
       "      <th>Elevation</th>\n",
       "    </tr>\n",
       "    <tr>\n",
       "      <th>Date</th>\n",
       "      <th></th>\n",
       "      <th></th>\n",
       "      <th></th>\n",
       "      <th></th>\n",
       "      <th></th>\n",
       "      <th></th>\n",
       "      <th></th>\n",
       "      <th></th>\n",
       "      <th></th>\n",
       "      <th></th>\n",
       "      <th></th>\n",
       "      <th></th>\n",
       "      <th></th>\n",
       "      <th></th>\n",
       "      <th></th>\n",
       "      <th></th>\n",
       "    </tr>\n",
       "  </thead>\n",
       "  <tbody>\n",
       "    <tr>\n",
       "      <th>2000-07-03</th>\n",
       "      <td>11:00</td>\n",
       "      <td>0.0</td>\n",
       "      <td>1005.4</td>\n",
       "      <td>59.0</td>\n",
       "      <td>26.0</td>\n",
       "      <td>25.5</td>\n",
       "      <td>90.0</td>\n",
       "      <td>88.0</td>\n",
       "      <td>1.3</td>\n",
       "      <td>N</td>\n",
       "      <td>AM</td>\n",
       "      <td>MANAUS</td>\n",
       "      <td>A101</td>\n",
       "      <td>-3.103333</td>\n",
       "      <td>-60.016389</td>\n",
       "      <td>61.25</td>\n",
       "    </tr>\n",
       "    <tr>\n",
       "      <th>2000-07-03</th>\n",
       "      <td>12:00</td>\n",
       "      <td>0.0</td>\n",
       "      <td>1006.1</td>\n",
       "      <td>346.0</td>\n",
       "      <td>26.6</td>\n",
       "      <td>26.0</td>\n",
       "      <td>90.0</td>\n",
       "      <td>87.0</td>\n",
       "      <td>1.3</td>\n",
       "      <td>N</td>\n",
       "      <td>AM</td>\n",
       "      <td>MANAUS</td>\n",
       "      <td>A101</td>\n",
       "      <td>-3.103333</td>\n",
       "      <td>-60.016389</td>\n",
       "      <td>61.25</td>\n",
       "    </tr>\n",
       "    <tr>\n",
       "      <th>2000-07-03</th>\n",
       "      <td>13:00</td>\n",
       "      <td>0.0</td>\n",
       "      <td>1006.6</td>\n",
       "      <td>863.0</td>\n",
       "      <td>27.5</td>\n",
       "      <td>26.5</td>\n",
       "      <td>88.0</td>\n",
       "      <td>83.0</td>\n",
       "      <td>1.7</td>\n",
       "      <td>N</td>\n",
       "      <td>AM</td>\n",
       "      <td>MANAUS</td>\n",
       "      <td>A101</td>\n",
       "      <td>-3.103333</td>\n",
       "      <td>-60.016389</td>\n",
       "      <td>61.25</td>\n",
       "    </tr>\n",
       "    <tr>\n",
       "      <th>2000-07-03</th>\n",
       "      <td>14:00</td>\n",
       "      <td>0.0</td>\n",
       "      <td>1006.8</td>\n",
       "      <td>1481.0</td>\n",
       "      <td>29.1</td>\n",
       "      <td>27.5</td>\n",
       "      <td>83.0</td>\n",
       "      <td>76.0</td>\n",
       "      <td>1.7</td>\n",
       "      <td>N</td>\n",
       "      <td>AM</td>\n",
       "      <td>MANAUS</td>\n",
       "      <td>A101</td>\n",
       "      <td>-3.103333</td>\n",
       "      <td>-60.016389</td>\n",
       "      <td>61.25</td>\n",
       "    </tr>\n",
       "    <tr>\n",
       "      <th>2000-07-03</th>\n",
       "      <td>15:00</td>\n",
       "      <td>0.0</td>\n",
       "      <td>1006.7</td>\n",
       "      <td>2337.0</td>\n",
       "      <td>30.0</td>\n",
       "      <td>28.0</td>\n",
       "      <td>80.0</td>\n",
       "      <td>70.0</td>\n",
       "      <td>2.0</td>\n",
       "      <td>N</td>\n",
       "      <td>AM</td>\n",
       "      <td>MANAUS</td>\n",
       "      <td>A101</td>\n",
       "      <td>-3.103333</td>\n",
       "      <td>-60.016389</td>\n",
       "      <td>61.25</td>\n",
       "    </tr>\n",
       "  </tbody>\n",
       "</table>\n",
       "</div>\n",
       "    <div class=\"colab-df-buttons\">\n",
       "\n",
       "  <div class=\"colab-df-container\">\n",
       "    <button class=\"colab-df-convert\" onclick=\"convertToInteractive('df-f14d14b7-b7d8-47ec-b0d4-8676e814a3d0')\"\n",
       "            title=\"Convert this dataframe to an interactive table.\"\n",
       "            style=\"display:none;\">\n",
       "\n",
       "  <svg xmlns=\"http://www.w3.org/2000/svg\" height=\"24px\" viewBox=\"0 -960 960 960\">\n",
       "    <path d=\"M120-120v-720h720v720H120Zm60-500h600v-160H180v160Zm220 220h160v-160H400v160Zm0 220h160v-160H400v160ZM180-400h160v-160H180v160Zm440 0h160v-160H620v160ZM180-180h160v-160H180v160Zm440 0h160v-160H620v160Z\"/>\n",
       "  </svg>\n",
       "    </button>\n",
       "\n",
       "  <style>\n",
       "    .colab-df-container {\n",
       "      display:flex;\n",
       "      gap: 12px;\n",
       "    }\n",
       "\n",
       "    .colab-df-convert {\n",
       "      background-color: #E8F0FE;\n",
       "      border: none;\n",
       "      border-radius: 50%;\n",
       "      cursor: pointer;\n",
       "      display: none;\n",
       "      fill: #1967D2;\n",
       "      height: 32px;\n",
       "      padding: 0 0 0 0;\n",
       "      width: 32px;\n",
       "    }\n",
       "\n",
       "    .colab-df-convert:hover {\n",
       "      background-color: #E2EBFA;\n",
       "      box-shadow: 0px 1px 2px rgba(60, 64, 67, 0.3), 0px 1px 3px 1px rgba(60, 64, 67, 0.15);\n",
       "      fill: #174EA6;\n",
       "    }\n",
       "\n",
       "    .colab-df-buttons div {\n",
       "      margin-bottom: 4px;\n",
       "    }\n",
       "\n",
       "    [theme=dark] .colab-df-convert {\n",
       "      background-color: #3B4455;\n",
       "      fill: #D2E3FC;\n",
       "    }\n",
       "\n",
       "    [theme=dark] .colab-df-convert:hover {\n",
       "      background-color: #434B5C;\n",
       "      box-shadow: 0px 1px 3px 1px rgba(0, 0, 0, 0.15);\n",
       "      filter: drop-shadow(0px 1px 2px rgba(0, 0, 0, 0.3));\n",
       "      fill: #FFFFFF;\n",
       "    }\n",
       "  </style>\n",
       "\n",
       "    <script>\n",
       "      const buttonEl =\n",
       "        document.querySelector('#df-f14d14b7-b7d8-47ec-b0d4-8676e814a3d0 button.colab-df-convert');\n",
       "      buttonEl.style.display =\n",
       "        google.colab.kernel.accessAllowed ? 'block' : 'none';\n",
       "\n",
       "      async function convertToInteractive(key) {\n",
       "        const element = document.querySelector('#df-f14d14b7-b7d8-47ec-b0d4-8676e814a3d0');\n",
       "        const dataTable =\n",
       "          await google.colab.kernel.invokeFunction('convertToInteractive',\n",
       "                                                    [key], {});\n",
       "        if (!dataTable) return;\n",
       "\n",
       "        const docLinkHtml = 'Like what you see? Visit the ' +\n",
       "          '<a target=\"_blank\" href=https://colab.research.google.com/notebooks/data_table.ipynb>data table notebook</a>'\n",
       "          + ' to learn more about interactive tables.';\n",
       "        element.innerHTML = '';\n",
       "        dataTable['output_type'] = 'display_data';\n",
       "        await google.colab.output.renderOutput(dataTable, element);\n",
       "        const docLink = document.createElement('div');\n",
       "        docLink.innerHTML = docLinkHtml;\n",
       "        element.appendChild(docLink);\n",
       "      }\n",
       "    </script>\n",
       "  </div>\n",
       "\n",
       "\n",
       "<div id=\"df-dd5d9fb3-9b79-4370-99c1-8cbbe3f0f010\">\n",
       "  <button class=\"colab-df-quickchart\" onclick=\"quickchart('df-dd5d9fb3-9b79-4370-99c1-8cbbe3f0f010')\"\n",
       "            title=\"Suggest charts\"\n",
       "            style=\"display:none;\">\n",
       "\n",
       "<svg xmlns=\"http://www.w3.org/2000/svg\" height=\"24px\"viewBox=\"0 0 24 24\"\n",
       "     width=\"24px\">\n",
       "    <g>\n",
       "        <path d=\"M19 3H5c-1.1 0-2 .9-2 2v14c0 1.1.9 2 2 2h14c1.1 0 2-.9 2-2V5c0-1.1-.9-2-2-2zM9 17H7v-7h2v7zm4 0h-2V7h2v10zm4 0h-2v-4h2v4z\"/>\n",
       "    </g>\n",
       "</svg>\n",
       "  </button>\n",
       "\n",
       "<style>\n",
       "  .colab-df-quickchart {\n",
       "      --bg-color: #E8F0FE;\n",
       "      --fill-color: #1967D2;\n",
       "      --hover-bg-color: #E2EBFA;\n",
       "      --hover-fill-color: #174EA6;\n",
       "      --disabled-fill-color: #AAA;\n",
       "      --disabled-bg-color: #DDD;\n",
       "  }\n",
       "\n",
       "  [theme=dark] .colab-df-quickchart {\n",
       "      --bg-color: #3B4455;\n",
       "      --fill-color: #D2E3FC;\n",
       "      --hover-bg-color: #434B5C;\n",
       "      --hover-fill-color: #FFFFFF;\n",
       "      --disabled-bg-color: #3B4455;\n",
       "      --disabled-fill-color: #666;\n",
       "  }\n",
       "\n",
       "  .colab-df-quickchart {\n",
       "    background-color: var(--bg-color);\n",
       "    border: none;\n",
       "    border-radius: 50%;\n",
       "    cursor: pointer;\n",
       "    display: none;\n",
       "    fill: var(--fill-color);\n",
       "    height: 32px;\n",
       "    padding: 0;\n",
       "    width: 32px;\n",
       "  }\n",
       "\n",
       "  .colab-df-quickchart:hover {\n",
       "    background-color: var(--hover-bg-color);\n",
       "    box-shadow: 0 1px 2px rgba(60, 64, 67, 0.3), 0 1px 3px 1px rgba(60, 64, 67, 0.15);\n",
       "    fill: var(--button-hover-fill-color);\n",
       "  }\n",
       "\n",
       "  .colab-df-quickchart-complete:disabled,\n",
       "  .colab-df-quickchart-complete:disabled:hover {\n",
       "    background-color: var(--disabled-bg-color);\n",
       "    fill: var(--disabled-fill-color);\n",
       "    box-shadow: none;\n",
       "  }\n",
       "\n",
       "  .colab-df-spinner {\n",
       "    border: 2px solid var(--fill-color);\n",
       "    border-color: transparent;\n",
       "    border-bottom-color: var(--fill-color);\n",
       "    animation:\n",
       "      spin 1s steps(1) infinite;\n",
       "  }\n",
       "\n",
       "  @keyframes spin {\n",
       "    0% {\n",
       "      border-color: transparent;\n",
       "      border-bottom-color: var(--fill-color);\n",
       "      border-left-color: var(--fill-color);\n",
       "    }\n",
       "    20% {\n",
       "      border-color: transparent;\n",
       "      border-left-color: var(--fill-color);\n",
       "      border-top-color: var(--fill-color);\n",
       "    }\n",
       "    30% {\n",
       "      border-color: transparent;\n",
       "      border-left-color: var(--fill-color);\n",
       "      border-top-color: var(--fill-color);\n",
       "      border-right-color: var(--fill-color);\n",
       "    }\n",
       "    40% {\n",
       "      border-color: transparent;\n",
       "      border-right-color: var(--fill-color);\n",
       "      border-top-color: var(--fill-color);\n",
       "    }\n",
       "    60% {\n",
       "      border-color: transparent;\n",
       "      border-right-color: var(--fill-color);\n",
       "    }\n",
       "    80% {\n",
       "      border-color: transparent;\n",
       "      border-right-color: var(--fill-color);\n",
       "      border-bottom-color: var(--fill-color);\n",
       "    }\n",
       "    90% {\n",
       "      border-color: transparent;\n",
       "      border-bottom-color: var(--fill-color);\n",
       "    }\n",
       "  }\n",
       "</style>\n",
       "\n",
       "  <script>\n",
       "    async function quickchart(key) {\n",
       "      const quickchartButtonEl =\n",
       "        document.querySelector('#' + key + ' button');\n",
       "      quickchartButtonEl.disabled = true;  // To prevent multiple clicks.\n",
       "      quickchartButtonEl.classList.add('colab-df-spinner');\n",
       "      try {\n",
       "        const charts = await google.colab.kernel.invokeFunction(\n",
       "            'suggestCharts', [key], {});\n",
       "      } catch (error) {\n",
       "        console.error('Error during call to suggestCharts:', error);\n",
       "      }\n",
       "      quickchartButtonEl.classList.remove('colab-df-spinner');\n",
       "      quickchartButtonEl.classList.add('colab-df-quickchart-complete');\n",
       "    }\n",
       "    (() => {\n",
       "      let quickchartButtonEl =\n",
       "        document.querySelector('#df-dd5d9fb3-9b79-4370-99c1-8cbbe3f0f010 button');\n",
       "      quickchartButtonEl.style.display =\n",
       "        google.colab.kernel.accessAllowed ? 'block' : 'none';\n",
       "    })();\n",
       "  </script>\n",
       "</div>\n",
       "\n",
       "    </div>\n",
       "  </div>\n"
      ],
      "text/plain": [
       "             Time  Total_Precipitation  Atmospheric_Pressure  Solar_Radiation  \\\n",
       "Date                                                                            \n",
       "2000-07-03  11:00                  0.0                1005.4             59.0   \n",
       "2000-07-03  12:00                  0.0                1006.1            346.0   \n",
       "2000-07-03  13:00                  0.0                1006.6            863.0   \n",
       "2000-07-03  14:00                  0.0                1006.8           1481.0   \n",
       "2000-07-03  15:00                  0.0                1006.7           2337.0   \n",
       "\n",
       "            Maximum_Temperature_For_The_Last_Hour  \\\n",
       "Date                                                \n",
       "2000-07-03                                   26.0   \n",
       "2000-07-03                                   26.6   \n",
       "2000-07-03                                   27.5   \n",
       "2000-07-03                                   29.1   \n",
       "2000-07-03                                   30.0   \n",
       "\n",
       "            Minimum_Temperature_For_The_Last_Hour  \\\n",
       "Date                                                \n",
       "2000-07-03                                   25.5   \n",
       "2000-07-03                                   26.0   \n",
       "2000-07-03                                   26.5   \n",
       "2000-07-03                                   27.5   \n",
       "2000-07-03                                   28.0   \n",
       "\n",
       "            Maximum_Relative_Humid_Temperature_For_The_Last_Hour  \\\n",
       "Date                                                               \n",
       "2000-07-03                                               90.0      \n",
       "2000-07-03                                               90.0      \n",
       "2000-07-03                                               88.0      \n",
       "2000-07-03                                               83.0      \n",
       "2000-07-03                                               80.0      \n",
       "\n",
       "            Minimum_Relative_Humid_Temperature_For_The_Last_Hour  \\\n",
       "Date                                                               \n",
       "2000-07-03                                               88.0      \n",
       "2000-07-03                                               87.0      \n",
       "2000-07-03                                               83.0      \n",
       "2000-07-03                                               76.0      \n",
       "2000-07-03                                               70.0      \n",
       "\n",
       "            Wind_speed_In_Metres_Per_Second Region State Station_Name  \\\n",
       "Date                                                                    \n",
       "2000-07-03                              1.3      N    AM       MANAUS   \n",
       "2000-07-03                              1.3      N    AM       MANAUS   \n",
       "2000-07-03                              1.7      N    AM       MANAUS   \n",
       "2000-07-03                              1.7      N    AM       MANAUS   \n",
       "2000-07-03                              2.0      N    AM       MANAUS   \n",
       "\n",
       "           Station_Code  Latitude  Longitude  Elevation  \n",
       "Date                                                     \n",
       "2000-07-03         A101 -3.103333 -60.016389      61.25  \n",
       "2000-07-03         A101 -3.103333 -60.016389      61.25  \n",
       "2000-07-03         A101 -3.103333 -60.016389      61.25  \n",
       "2000-07-03         A101 -3.103333 -60.016389      61.25  \n",
       "2000-07-03         A101 -3.103333 -60.016389      61.25  "
      ]
     },
     "execution_count": 229,
     "metadata": {},
     "output_type": "execute_result"
    }
   ],
   "source": [
    "df.head()"
   ]
  },
  {
   "cell_type": "code",
   "execution_count": 230,
   "metadata": {
    "colab": {
     "base_uri": "https://localhost:8080/",
     "height": 648
    },
    "executionInfo": {
     "elapsed": 30,
     "status": "ok",
     "timestamp": 1708510735900,
     "user": {
      "displayName": "Prajwal Ambadkar",
      "userId": "05706935455536576109"
     },
     "user_tz": -330
    },
    "id": "oYy6vmWOWky_",
    "outputId": "a5120107-2822-466a-bf81-9d7f20214e4d"
   },
   "outputs": [
    {
     "data": {
      "application/vnd.google.colaboratory.intrinsic+json": {
       "repr_error": "'str' object has no attribute 'empty'",
       "type": "dataframe"
      },
      "text/html": [
       "\n",
       "  <div id=\"df-af16af41-10bd-42d8-bece-1ec8c32a8024\" class=\"colab-df-container\">\n",
       "    <div>\n",
       "<style scoped>\n",
       "    .dataframe tbody tr th:only-of-type {\n",
       "        vertical-align: middle;\n",
       "    }\n",
       "\n",
       "    .dataframe tbody tr th {\n",
       "        vertical-align: top;\n",
       "    }\n",
       "\n",
       "    .dataframe thead th {\n",
       "        text-align: right;\n",
       "    }\n",
       "</style>\n",
       "<table border=\"1\" class=\"dataframe\">\n",
       "  <thead>\n",
       "    <tr style=\"text-align: right;\">\n",
       "      <th></th>\n",
       "      <th>Time</th>\n",
       "      <th>Total_Precipitation</th>\n",
       "      <th>Atmospheric_Pressure</th>\n",
       "      <th>Solar_Radiation</th>\n",
       "      <th>Maximum_Temperature_For_The_Last_Hour</th>\n",
       "      <th>Minimum_Temperature_For_The_Last_Hour</th>\n",
       "      <th>Maximum_Relative_Humid_Temperature_For_The_Last_Hour</th>\n",
       "      <th>Minimum_Relative_Humid_Temperature_For_The_Last_Hour</th>\n",
       "      <th>Wind_speed_In_Metres_Per_Second</th>\n",
       "      <th>Region</th>\n",
       "      <th>State</th>\n",
       "      <th>Station_Name</th>\n",
       "      <th>Station_Code</th>\n",
       "      <th>Latitude</th>\n",
       "      <th>Longitude</th>\n",
       "      <th>Elevation</th>\n",
       "    </tr>\n",
       "    <tr>\n",
       "      <th>Date</th>\n",
       "      <th></th>\n",
       "      <th></th>\n",
       "      <th></th>\n",
       "      <th></th>\n",
       "      <th></th>\n",
       "      <th></th>\n",
       "      <th></th>\n",
       "      <th></th>\n",
       "      <th></th>\n",
       "      <th></th>\n",
       "      <th></th>\n",
       "      <th></th>\n",
       "      <th></th>\n",
       "      <th></th>\n",
       "      <th></th>\n",
       "      <th></th>\n",
       "    </tr>\n",
       "  </thead>\n",
       "  <tbody>\n",
       "    <tr>\n",
       "      <th>2009-10-21</th>\n",
       "      <td>10:00</td>\n",
       "      <td>0.0</td>\n",
       "      <td>1001.7</td>\n",
       "      <td>8.0</td>\n",
       "      <td>25.4</td>\n",
       "      <td>24.9</td>\n",
       "      <td>94.0</td>\n",
       "      <td>91.0</td>\n",
       "      <td>0.2</td>\n",
       "      <td>N</td>\n",
       "      <td>AM</td>\n",
       "      <td>MANAUS</td>\n",
       "      <td>A101</td>\n",
       "      <td>-3.103333</td>\n",
       "      <td>-60.016389</td>\n",
       "      <td>61.25</td>\n",
       "    </tr>\n",
       "    <tr>\n",
       "      <th>2009-10-21</th>\n",
       "      <td>11:00</td>\n",
       "      <td>0.0</td>\n",
       "      <td>1002.7</td>\n",
       "      <td>231.0</td>\n",
       "      <td>26.3</td>\n",
       "      <td>25.2</td>\n",
       "      <td>93.0</td>\n",
       "      <td>88.0</td>\n",
       "      <td>0.7</td>\n",
       "      <td>N</td>\n",
       "      <td>AM</td>\n",
       "      <td>MANAUS</td>\n",
       "      <td>A101</td>\n",
       "      <td>-3.103333</td>\n",
       "      <td>-60.016389</td>\n",
       "      <td>61.25</td>\n",
       "    </tr>\n",
       "    <tr>\n",
       "      <th>2009-10-21</th>\n",
       "      <td>12:00</td>\n",
       "      <td>0.0</td>\n",
       "      <td>1003.5</td>\n",
       "      <td>427.0</td>\n",
       "      <td>26.7</td>\n",
       "      <td>26.2</td>\n",
       "      <td>88.0</td>\n",
       "      <td>84.0</td>\n",
       "      <td>2.3</td>\n",
       "      <td>N</td>\n",
       "      <td>AM</td>\n",
       "      <td>MANAUS</td>\n",
       "      <td>A101</td>\n",
       "      <td>-3.103333</td>\n",
       "      <td>-60.016389</td>\n",
       "      <td>61.25</td>\n",
       "    </tr>\n",
       "    <tr>\n",
       "      <th>2009-10-21</th>\n",
       "      <td>13:00</td>\n",
       "      <td>0.0</td>\n",
       "      <td>1003.6</td>\n",
       "      <td>1687.0</td>\n",
       "      <td>29.1</td>\n",
       "      <td>26.4</td>\n",
       "      <td>85.0</td>\n",
       "      <td>72.0</td>\n",
       "      <td>2.1</td>\n",
       "      <td>N</td>\n",
       "      <td>AM</td>\n",
       "      <td>MANAUS</td>\n",
       "      <td>A101</td>\n",
       "      <td>-3.103333</td>\n",
       "      <td>-60.016389</td>\n",
       "      <td>61.25</td>\n",
       "    </tr>\n",
       "    <tr>\n",
       "      <th>2009-10-21</th>\n",
       "      <td>14:00</td>\n",
       "      <td>0.0</td>\n",
       "      <td>1003.7</td>\n",
       "      <td>2471.0</td>\n",
       "      <td>30.8</td>\n",
       "      <td>29.0</td>\n",
       "      <td>72.0</td>\n",
       "      <td>64.0</td>\n",
       "      <td>2.3</td>\n",
       "      <td>N</td>\n",
       "      <td>AM</td>\n",
       "      <td>MANAUS</td>\n",
       "      <td>A101</td>\n",
       "      <td>-3.103333</td>\n",
       "      <td>-60.016389</td>\n",
       "      <td>61.25</td>\n",
       "    </tr>\n",
       "    <tr>\n",
       "      <th>...</th>\n",
       "      <td>...</td>\n",
       "      <td>...</td>\n",
       "      <td>...</td>\n",
       "      <td>...</td>\n",
       "      <td>...</td>\n",
       "      <td>...</td>\n",
       "      <td>...</td>\n",
       "      <td>...</td>\n",
       "      <td>...</td>\n",
       "      <td>...</td>\n",
       "      <td>...</td>\n",
       "      <td>...</td>\n",
       "      <td>...</td>\n",
       "      <td>...</td>\n",
       "      <td>...</td>\n",
       "      <td>...</td>\n",
       "    </tr>\n",
       "    <tr>\n",
       "      <th>2009-05-16</th>\n",
       "      <td>18:00</td>\n",
       "      <td>0.0</td>\n",
       "      <td>1001.3</td>\n",
       "      <td>1723.0</td>\n",
       "      <td>33.0</td>\n",
       "      <td>31.3</td>\n",
       "      <td>59.0</td>\n",
       "      <td>2.6</td>\n",
       "      <td>0.0</td>\n",
       "      <td>N</td>\n",
       "      <td>AM</td>\n",
       "      <td>MANAUS</td>\n",
       "      <td>A101</td>\n",
       "      <td>-3.103333</td>\n",
       "      <td>-60.016389</td>\n",
       "      <td>61.25</td>\n",
       "    </tr>\n",
       "    <tr>\n",
       "      <th>2009-05-16</th>\n",
       "      <td>19:00</td>\n",
       "      <td>0.0</td>\n",
       "      <td>1001.3</td>\n",
       "      <td>1723.0</td>\n",
       "      <td>33.0</td>\n",
       "      <td>31.3</td>\n",
       "      <td>59.0</td>\n",
       "      <td>2.6</td>\n",
       "      <td>0.0</td>\n",
       "      <td>N</td>\n",
       "      <td>AM</td>\n",
       "      <td>MANAUS</td>\n",
       "      <td>A101</td>\n",
       "      <td>-3.103333</td>\n",
       "      <td>-60.016389</td>\n",
       "      <td>61.25</td>\n",
       "    </tr>\n",
       "    <tr>\n",
       "      <th>2009-05-16</th>\n",
       "      <td>20:00</td>\n",
       "      <td>0.0</td>\n",
       "      <td>1001.3</td>\n",
       "      <td>1723.0</td>\n",
       "      <td>33.0</td>\n",
       "      <td>31.3</td>\n",
       "      <td>59.0</td>\n",
       "      <td>2.6</td>\n",
       "      <td>0.0</td>\n",
       "      <td>N</td>\n",
       "      <td>AM</td>\n",
       "      <td>MANAUS</td>\n",
       "      <td>A101</td>\n",
       "      <td>-3.103333</td>\n",
       "      <td>-60.016389</td>\n",
       "      <td>61.25</td>\n",
       "    </tr>\n",
       "    <tr>\n",
       "      <th>2009-05-16</th>\n",
       "      <td>21:00</td>\n",
       "      <td>0.0</td>\n",
       "      <td>1001.3</td>\n",
       "      <td>1723.0</td>\n",
       "      <td>33.0</td>\n",
       "      <td>31.3</td>\n",
       "      <td>59.0</td>\n",
       "      <td>2.6</td>\n",
       "      <td>0.0</td>\n",
       "      <td>N</td>\n",
       "      <td>AM</td>\n",
       "      <td>MANAUS</td>\n",
       "      <td>A101</td>\n",
       "      <td>-3.103333</td>\n",
       "      <td>-60.016389</td>\n",
       "      <td>61.25</td>\n",
       "    </tr>\n",
       "    <tr>\n",
       "      <th>2009-05-16</th>\n",
       "      <td>22:00</td>\n",
       "      <td>0.0</td>\n",
       "      <td>1001.3</td>\n",
       "      <td>1723.0</td>\n",
       "      <td>33.0</td>\n",
       "      <td>31.3</td>\n",
       "      <td>59.0</td>\n",
       "      <td>2.6</td>\n",
       "      <td>0.0</td>\n",
       "      <td>N</td>\n",
       "      <td>AM</td>\n",
       "      <td>MANAUS</td>\n",
       "      <td>A101</td>\n",
       "      <td>-3.103333</td>\n",
       "      <td>-60.016389</td>\n",
       "      <td>61.25</td>\n",
       "    </tr>\n",
       "  </tbody>\n",
       "</table>\n",
       "<p>2936 rows × 16 columns</p>\n",
       "</div>\n",
       "    <div class=\"colab-df-buttons\">\n",
       "\n",
       "  <div class=\"colab-df-container\">\n",
       "    <button class=\"colab-df-convert\" onclick=\"convertToInteractive('df-af16af41-10bd-42d8-bece-1ec8c32a8024')\"\n",
       "            title=\"Convert this dataframe to an interactive table.\"\n",
       "            style=\"display:none;\">\n",
       "\n",
       "  <svg xmlns=\"http://www.w3.org/2000/svg\" height=\"24px\" viewBox=\"0 -960 960 960\">\n",
       "    <path d=\"M120-120v-720h720v720H120Zm60-500h600v-160H180v160Zm220 220h160v-160H400v160Zm0 220h160v-160H400v160ZM180-400h160v-160H180v160Zm440 0h160v-160H620v160ZM180-180h160v-160H180v160Zm440 0h160v-160H620v160Z\"/>\n",
       "  </svg>\n",
       "    </button>\n",
       "\n",
       "  <style>\n",
       "    .colab-df-container {\n",
       "      display:flex;\n",
       "      gap: 12px;\n",
       "    }\n",
       "\n",
       "    .colab-df-convert {\n",
       "      background-color: #E8F0FE;\n",
       "      border: none;\n",
       "      border-radius: 50%;\n",
       "      cursor: pointer;\n",
       "      display: none;\n",
       "      fill: #1967D2;\n",
       "      height: 32px;\n",
       "      padding: 0 0 0 0;\n",
       "      width: 32px;\n",
       "    }\n",
       "\n",
       "    .colab-df-convert:hover {\n",
       "      background-color: #E2EBFA;\n",
       "      box-shadow: 0px 1px 2px rgba(60, 64, 67, 0.3), 0px 1px 3px 1px rgba(60, 64, 67, 0.15);\n",
       "      fill: #174EA6;\n",
       "    }\n",
       "\n",
       "    .colab-df-buttons div {\n",
       "      margin-bottom: 4px;\n",
       "    }\n",
       "\n",
       "    [theme=dark] .colab-df-convert {\n",
       "      background-color: #3B4455;\n",
       "      fill: #D2E3FC;\n",
       "    }\n",
       "\n",
       "    [theme=dark] .colab-df-convert:hover {\n",
       "      background-color: #434B5C;\n",
       "      box-shadow: 0px 1px 3px 1px rgba(0, 0, 0, 0.15);\n",
       "      filter: drop-shadow(0px 1px 2px rgba(0, 0, 0, 0.3));\n",
       "      fill: #FFFFFF;\n",
       "    }\n",
       "  </style>\n",
       "\n",
       "    <script>\n",
       "      const buttonEl =\n",
       "        document.querySelector('#df-af16af41-10bd-42d8-bece-1ec8c32a8024 button.colab-df-convert');\n",
       "      buttonEl.style.display =\n",
       "        google.colab.kernel.accessAllowed ? 'block' : 'none';\n",
       "\n",
       "      async function convertToInteractive(key) {\n",
       "        const element = document.querySelector('#df-af16af41-10bd-42d8-bece-1ec8c32a8024');\n",
       "        const dataTable =\n",
       "          await google.colab.kernel.invokeFunction('convertToInteractive',\n",
       "                                                    [key], {});\n",
       "        if (!dataTable) return;\n",
       "\n",
       "        const docLinkHtml = 'Like what you see? Visit the ' +\n",
       "          '<a target=\"_blank\" href=https://colab.research.google.com/notebooks/data_table.ipynb>data table notebook</a>'\n",
       "          + ' to learn more about interactive tables.';\n",
       "        element.innerHTML = '';\n",
       "        dataTable['output_type'] = 'display_data';\n",
       "        await google.colab.output.renderOutput(dataTable, element);\n",
       "        const docLink = document.createElement('div');\n",
       "        docLink.innerHTML = docLinkHtml;\n",
       "        element.appendChild(docLink);\n",
       "      }\n",
       "    </script>\n",
       "  </div>\n",
       "\n",
       "\n",
       "<div id=\"df-86d0bfc1-28ae-4cf3-9c8f-7a5b943f0115\">\n",
       "  <button class=\"colab-df-quickchart\" onclick=\"quickchart('df-86d0bfc1-28ae-4cf3-9c8f-7a5b943f0115')\"\n",
       "            title=\"Suggest charts\"\n",
       "            style=\"display:none;\">\n",
       "\n",
       "<svg xmlns=\"http://www.w3.org/2000/svg\" height=\"24px\"viewBox=\"0 0 24 24\"\n",
       "     width=\"24px\">\n",
       "    <g>\n",
       "        <path d=\"M19 3H5c-1.1 0-2 .9-2 2v14c0 1.1.9 2 2 2h14c1.1 0 2-.9 2-2V5c0-1.1-.9-2-2-2zM9 17H7v-7h2v7zm4 0h-2V7h2v10zm4 0h-2v-4h2v4z\"/>\n",
       "    </g>\n",
       "</svg>\n",
       "  </button>\n",
       "\n",
       "<style>\n",
       "  .colab-df-quickchart {\n",
       "      --bg-color: #E8F0FE;\n",
       "      --fill-color: #1967D2;\n",
       "      --hover-bg-color: #E2EBFA;\n",
       "      --hover-fill-color: #174EA6;\n",
       "      --disabled-fill-color: #AAA;\n",
       "      --disabled-bg-color: #DDD;\n",
       "  }\n",
       "\n",
       "  [theme=dark] .colab-df-quickchart {\n",
       "      --bg-color: #3B4455;\n",
       "      --fill-color: #D2E3FC;\n",
       "      --hover-bg-color: #434B5C;\n",
       "      --hover-fill-color: #FFFFFF;\n",
       "      --disabled-bg-color: #3B4455;\n",
       "      --disabled-fill-color: #666;\n",
       "  }\n",
       "\n",
       "  .colab-df-quickchart {\n",
       "    background-color: var(--bg-color);\n",
       "    border: none;\n",
       "    border-radius: 50%;\n",
       "    cursor: pointer;\n",
       "    display: none;\n",
       "    fill: var(--fill-color);\n",
       "    height: 32px;\n",
       "    padding: 0;\n",
       "    width: 32px;\n",
       "  }\n",
       "\n",
       "  .colab-df-quickchart:hover {\n",
       "    background-color: var(--hover-bg-color);\n",
       "    box-shadow: 0 1px 2px rgba(60, 64, 67, 0.3), 0 1px 3px 1px rgba(60, 64, 67, 0.15);\n",
       "    fill: var(--button-hover-fill-color);\n",
       "  }\n",
       "\n",
       "  .colab-df-quickchart-complete:disabled,\n",
       "  .colab-df-quickchart-complete:disabled:hover {\n",
       "    background-color: var(--disabled-bg-color);\n",
       "    fill: var(--disabled-fill-color);\n",
       "    box-shadow: none;\n",
       "  }\n",
       "\n",
       "  .colab-df-spinner {\n",
       "    border: 2px solid var(--fill-color);\n",
       "    border-color: transparent;\n",
       "    border-bottom-color: var(--fill-color);\n",
       "    animation:\n",
       "      spin 1s steps(1) infinite;\n",
       "  }\n",
       "\n",
       "  @keyframes spin {\n",
       "    0% {\n",
       "      border-color: transparent;\n",
       "      border-bottom-color: var(--fill-color);\n",
       "      border-left-color: var(--fill-color);\n",
       "    }\n",
       "    20% {\n",
       "      border-color: transparent;\n",
       "      border-left-color: var(--fill-color);\n",
       "      border-top-color: var(--fill-color);\n",
       "    }\n",
       "    30% {\n",
       "      border-color: transparent;\n",
       "      border-left-color: var(--fill-color);\n",
       "      border-top-color: var(--fill-color);\n",
       "      border-right-color: var(--fill-color);\n",
       "    }\n",
       "    40% {\n",
       "      border-color: transparent;\n",
       "      border-right-color: var(--fill-color);\n",
       "      border-top-color: var(--fill-color);\n",
       "    }\n",
       "    60% {\n",
       "      border-color: transparent;\n",
       "      border-right-color: var(--fill-color);\n",
       "    }\n",
       "    80% {\n",
       "      border-color: transparent;\n",
       "      border-right-color: var(--fill-color);\n",
       "      border-bottom-color: var(--fill-color);\n",
       "    }\n",
       "    90% {\n",
       "      border-color: transparent;\n",
       "      border-bottom-color: var(--fill-color);\n",
       "    }\n",
       "  }\n",
       "</style>\n",
       "\n",
       "  <script>\n",
       "    async function quickchart(key) {\n",
       "      const quickchartButtonEl =\n",
       "        document.querySelector('#' + key + ' button');\n",
       "      quickchartButtonEl.disabled = true;  // To prevent multiple clicks.\n",
       "      quickchartButtonEl.classList.add('colab-df-spinner');\n",
       "      try {\n",
       "        const charts = await google.colab.kernel.invokeFunction(\n",
       "            'suggestCharts', [key], {});\n",
       "      } catch (error) {\n",
       "        console.error('Error during call to suggestCharts:', error);\n",
       "      }\n",
       "      quickchartButtonEl.classList.remove('colab-df-spinner');\n",
       "      quickchartButtonEl.classList.add('colab-df-quickchart-complete');\n",
       "    }\n",
       "    (() => {\n",
       "      let quickchartButtonEl =\n",
       "        document.querySelector('#df-86d0bfc1-28ae-4cf3-9c8f-7a5b943f0115 button');\n",
       "      quickchartButtonEl.style.display =\n",
       "        google.colab.kernel.accessAllowed ? 'block' : 'none';\n",
       "    })();\n",
       "  </script>\n",
       "</div>\n",
       "\n",
       "    </div>\n",
       "  </div>\n"
      ],
      "text/plain": [
       "             Time  Total_Precipitation  Atmospheric_Pressure  Solar_Radiation  \\\n",
       "Date                                                                            \n",
       "2009-10-21  10:00                  0.0                1001.7              8.0   \n",
       "2009-10-21  11:00                  0.0                1002.7            231.0   \n",
       "2009-10-21  12:00                  0.0                1003.5            427.0   \n",
       "2009-10-21  13:00                  0.0                1003.6           1687.0   \n",
       "2009-10-21  14:00                  0.0                1003.7           2471.0   \n",
       "...           ...                  ...                   ...              ...   \n",
       "2009-05-16  18:00                  0.0                1001.3           1723.0   \n",
       "2009-05-16  19:00                  0.0                1001.3           1723.0   \n",
       "2009-05-16  20:00                  0.0                1001.3           1723.0   \n",
       "2009-05-16  21:00                  0.0                1001.3           1723.0   \n",
       "2009-05-16  22:00                  0.0                1001.3           1723.0   \n",
       "\n",
       "            Maximum_Temperature_For_The_Last_Hour  \\\n",
       "Date                                                \n",
       "2009-10-21                                   25.4   \n",
       "2009-10-21                                   26.3   \n",
       "2009-10-21                                   26.7   \n",
       "2009-10-21                                   29.1   \n",
       "2009-10-21                                   30.8   \n",
       "...                                           ...   \n",
       "2009-05-16                                   33.0   \n",
       "2009-05-16                                   33.0   \n",
       "2009-05-16                                   33.0   \n",
       "2009-05-16                                   33.0   \n",
       "2009-05-16                                   33.0   \n",
       "\n",
       "            Minimum_Temperature_For_The_Last_Hour  \\\n",
       "Date                                                \n",
       "2009-10-21                                   24.9   \n",
       "2009-10-21                                   25.2   \n",
       "2009-10-21                                   26.2   \n",
       "2009-10-21                                   26.4   \n",
       "2009-10-21                                   29.0   \n",
       "...                                           ...   \n",
       "2009-05-16                                   31.3   \n",
       "2009-05-16                                   31.3   \n",
       "2009-05-16                                   31.3   \n",
       "2009-05-16                                   31.3   \n",
       "2009-05-16                                   31.3   \n",
       "\n",
       "            Maximum_Relative_Humid_Temperature_For_The_Last_Hour  \\\n",
       "Date                                                               \n",
       "2009-10-21                                               94.0      \n",
       "2009-10-21                                               93.0      \n",
       "2009-10-21                                               88.0      \n",
       "2009-10-21                                               85.0      \n",
       "2009-10-21                                               72.0      \n",
       "...                                                       ...      \n",
       "2009-05-16                                               59.0      \n",
       "2009-05-16                                               59.0      \n",
       "2009-05-16                                               59.0      \n",
       "2009-05-16                                               59.0      \n",
       "2009-05-16                                               59.0      \n",
       "\n",
       "            Minimum_Relative_Humid_Temperature_For_The_Last_Hour  \\\n",
       "Date                                                               \n",
       "2009-10-21                                               91.0      \n",
       "2009-10-21                                               88.0      \n",
       "2009-10-21                                               84.0      \n",
       "2009-10-21                                               72.0      \n",
       "2009-10-21                                               64.0      \n",
       "...                                                       ...      \n",
       "2009-05-16                                                2.6      \n",
       "2009-05-16                                                2.6      \n",
       "2009-05-16                                                2.6      \n",
       "2009-05-16                                                2.6      \n",
       "2009-05-16                                                2.6      \n",
       "\n",
       "            Wind_speed_In_Metres_Per_Second Region State Station_Name  \\\n",
       "Date                                                                    \n",
       "2009-10-21                              0.2      N    AM       MANAUS   \n",
       "2009-10-21                              0.7      N    AM       MANAUS   \n",
       "2009-10-21                              2.3      N    AM       MANAUS   \n",
       "2009-10-21                              2.1      N    AM       MANAUS   \n",
       "2009-10-21                              2.3      N    AM       MANAUS   \n",
       "...                                     ...    ...   ...          ...   \n",
       "2009-05-16                              0.0      N    AM       MANAUS   \n",
       "2009-05-16                              0.0      N    AM       MANAUS   \n",
       "2009-05-16                              0.0      N    AM       MANAUS   \n",
       "2009-05-16                              0.0      N    AM       MANAUS   \n",
       "2009-05-16                              0.0      N    AM       MANAUS   \n",
       "\n",
       "           Station_Code  Latitude  Longitude  Elevation  \n",
       "Date                                                     \n",
       "2009-10-21         A101 -3.103333 -60.016389      61.25  \n",
       "2009-10-21         A101 -3.103333 -60.016389      61.25  \n",
       "2009-10-21         A101 -3.103333 -60.016389      61.25  \n",
       "2009-10-21         A101 -3.103333 -60.016389      61.25  \n",
       "2009-10-21         A101 -3.103333 -60.016389      61.25  \n",
       "...                 ...       ...        ...        ...  \n",
       "2009-05-16         A101 -3.103333 -60.016389      61.25  \n",
       "2009-05-16         A101 -3.103333 -60.016389      61.25  \n",
       "2009-05-16         A101 -3.103333 -60.016389      61.25  \n",
       "2009-05-16         A101 -3.103333 -60.016389      61.25  \n",
       "2009-05-16         A101 -3.103333 -60.016389      61.25  \n",
       "\n",
       "[2936 rows x 16 columns]"
      ]
     },
     "execution_count": 230,
     "metadata": {},
     "output_type": "execute_result"
    }
   ],
   "source": [
    "df.loc['2009']"
   ]
  },
  {
   "cell_type": "markdown",
   "metadata": {
    "id": "435oWsvYW3Cy"
   },
   "source": [
    "# **Check Missing Values**"
   ]
  },
  {
   "cell_type": "code",
   "execution_count": 231,
   "metadata": {
    "colab": {
     "base_uri": "https://localhost:8080/"
    },
    "executionInfo": {
     "elapsed": 631,
     "status": "ok",
     "timestamp": 1708510740135,
     "user": {
      "displayName": "Prajwal Ambadkar",
      "userId": "05706935455536576109"
     },
     "user_tz": -330
    },
    "id": "Wc0y4O9kW5B7",
    "outputId": "f1faf054-8ac6-459b-da57-a89c96d25d5a"
   },
   "outputs": [
    {
     "data": {
      "text/plain": [
       "Time                                                    0\n",
       "Total_Precipitation                                     0\n",
       "Atmospheric_Pressure                                    0\n",
       "Solar_Radiation                                         0\n",
       "Maximum_Temperature_For_The_Last_Hour                   0\n",
       "Minimum_Temperature_For_The_Last_Hour                   0\n",
       "Maximum_Relative_Humid_Temperature_For_The_Last_Hour    0\n",
       "Minimum_Relative_Humid_Temperature_For_The_Last_Hour    0\n",
       "Wind_speed_In_Metres_Per_Second                         0\n",
       "Region                                                  0\n",
       "State                                                   0\n",
       "Station_Name                                            0\n",
       "Station_Code                                            0\n",
       "Latitude                                                0\n",
       "Longitude                                               0\n",
       "Elevation                                               0\n",
       "dtype: int64"
      ]
     },
     "execution_count": 231,
     "metadata": {},
     "output_type": "execute_result"
    }
   ],
   "source": [
    "df.isna().sum()"
   ]
  },
  {
   "cell_type": "markdown",
   "metadata": {
    "id": "UDuAhYrVc4JX"
   },
   "source": [
    "# **Time series as Regression of Lag values**"
   ]
  },
  {
   "cell_type": "markdown",
   "metadata": {
    "id": "DMPNILIedFy8"
   },
   "source": [
    "# create features from given data\n",
    "lag values / historical values are features used in time series"
   ]
  },
  {
   "cell_type": "code",
   "execution_count": 232,
   "metadata": {
    "executionInfo": {
     "elapsed": 1038,
     "status": "ok",
     "timestamp": 1708510746234,
     "user": {
      "displayName": "Prajwal Ambadkar",
      "userId": "05706935455536576109"
     },
     "user_tz": -330
    },
    "id": "fMua7BNcdHjI"
   },
   "outputs": [],
   "source": [
    "df['lag1'] = df['Maximum_Temperature_For_The_Last_Hour'].shift(1)\n",
    "df['lag2'] = df['Maximum_Temperature_For_The_Last_Hour'].shift(2)\n",
    "df['lag3'] = df['Maximum_Temperature_For_The_Last_Hour'].shift(3)\n",
    "df['lag4'] = df['Maximum_Temperature_For_The_Last_Hour'].shift(4)\n",
    "df['lag5'] = df['Maximum_Temperature_For_The_Last_Hour'].shift(5)"
   ]
  },
  {
   "cell_type": "code",
   "execution_count": 233,
   "metadata": {
    "colab": {
     "base_uri": "https://localhost:8080/",
     "height": 617
    },
    "executionInfo": {
     "elapsed": 37,
     "status": "ok",
     "timestamp": 1708510746235,
     "user": {
      "displayName": "Prajwal Ambadkar",
      "userId": "05706935455536576109"
     },
     "user_tz": -330
    },
    "id": "fJBku-NcefnL",
    "outputId": "5c20df62-55e1-464f-9a78-66222a9c1297"
   },
   "outputs": [
    {
     "data": {
      "application/vnd.google.colaboratory.intrinsic+json": {
       "type": "dataframe",
       "variable_name": "df"
      },
      "text/html": [
       "\n",
       "  <div id=\"df-d2a61fc2-30a5-4144-834b-a9b20c8536fa\" class=\"colab-df-container\">\n",
       "    <div>\n",
       "<style scoped>\n",
       "    .dataframe tbody tr th:only-of-type {\n",
       "        vertical-align: middle;\n",
       "    }\n",
       "\n",
       "    .dataframe tbody tr th {\n",
       "        vertical-align: top;\n",
       "    }\n",
       "\n",
       "    .dataframe thead th {\n",
       "        text-align: right;\n",
       "    }\n",
       "</style>\n",
       "<table border=\"1\" class=\"dataframe\">\n",
       "  <thead>\n",
       "    <tr style=\"text-align: right;\">\n",
       "      <th></th>\n",
       "      <th>Time</th>\n",
       "      <th>Total_Precipitation</th>\n",
       "      <th>Atmospheric_Pressure</th>\n",
       "      <th>Solar_Radiation</th>\n",
       "      <th>Maximum_Temperature_For_The_Last_Hour</th>\n",
       "      <th>Minimum_Temperature_For_The_Last_Hour</th>\n",
       "      <th>Maximum_Relative_Humid_Temperature_For_The_Last_Hour</th>\n",
       "      <th>Minimum_Relative_Humid_Temperature_For_The_Last_Hour</th>\n",
       "      <th>Wind_speed_In_Metres_Per_Second</th>\n",
       "      <th>Region</th>\n",
       "      <th>...</th>\n",
       "      <th>Station_Name</th>\n",
       "      <th>Station_Code</th>\n",
       "      <th>Latitude</th>\n",
       "      <th>Longitude</th>\n",
       "      <th>Elevation</th>\n",
       "      <th>lag1</th>\n",
       "      <th>lag2</th>\n",
       "      <th>lag3</th>\n",
       "      <th>lag4</th>\n",
       "      <th>lag5</th>\n",
       "    </tr>\n",
       "    <tr>\n",
       "      <th>Date</th>\n",
       "      <th></th>\n",
       "      <th></th>\n",
       "      <th></th>\n",
       "      <th></th>\n",
       "      <th></th>\n",
       "      <th></th>\n",
       "      <th></th>\n",
       "      <th></th>\n",
       "      <th></th>\n",
       "      <th></th>\n",
       "      <th></th>\n",
       "      <th></th>\n",
       "      <th></th>\n",
       "      <th></th>\n",
       "      <th></th>\n",
       "      <th></th>\n",
       "      <th></th>\n",
       "      <th></th>\n",
       "      <th></th>\n",
       "      <th></th>\n",
       "      <th></th>\n",
       "    </tr>\n",
       "  </thead>\n",
       "  <tbody>\n",
       "    <tr>\n",
       "      <th>2000-07-03</th>\n",
       "      <td>11:00</td>\n",
       "      <td>0.0</td>\n",
       "      <td>1005.4</td>\n",
       "      <td>59.0</td>\n",
       "      <td>26.0</td>\n",
       "      <td>25.5</td>\n",
       "      <td>90.0</td>\n",
       "      <td>88.0</td>\n",
       "      <td>1.3</td>\n",
       "      <td>N</td>\n",
       "      <td>...</td>\n",
       "      <td>MANAUS</td>\n",
       "      <td>A101</td>\n",
       "      <td>-3.103333</td>\n",
       "      <td>-60.016389</td>\n",
       "      <td>61.25</td>\n",
       "      <td>NaN</td>\n",
       "      <td>NaN</td>\n",
       "      <td>NaN</td>\n",
       "      <td>NaN</td>\n",
       "      <td>NaN</td>\n",
       "    </tr>\n",
       "    <tr>\n",
       "      <th>2000-07-03</th>\n",
       "      <td>12:00</td>\n",
       "      <td>0.0</td>\n",
       "      <td>1006.1</td>\n",
       "      <td>346.0</td>\n",
       "      <td>26.6</td>\n",
       "      <td>26.0</td>\n",
       "      <td>90.0</td>\n",
       "      <td>87.0</td>\n",
       "      <td>1.3</td>\n",
       "      <td>N</td>\n",
       "      <td>...</td>\n",
       "      <td>MANAUS</td>\n",
       "      <td>A101</td>\n",
       "      <td>-3.103333</td>\n",
       "      <td>-60.016389</td>\n",
       "      <td>61.25</td>\n",
       "      <td>26.0</td>\n",
       "      <td>NaN</td>\n",
       "      <td>NaN</td>\n",
       "      <td>NaN</td>\n",
       "      <td>NaN</td>\n",
       "    </tr>\n",
       "    <tr>\n",
       "      <th>2000-07-03</th>\n",
       "      <td>13:00</td>\n",
       "      <td>0.0</td>\n",
       "      <td>1006.6</td>\n",
       "      <td>863.0</td>\n",
       "      <td>27.5</td>\n",
       "      <td>26.5</td>\n",
       "      <td>88.0</td>\n",
       "      <td>83.0</td>\n",
       "      <td>1.7</td>\n",
       "      <td>N</td>\n",
       "      <td>...</td>\n",
       "      <td>MANAUS</td>\n",
       "      <td>A101</td>\n",
       "      <td>-3.103333</td>\n",
       "      <td>-60.016389</td>\n",
       "      <td>61.25</td>\n",
       "      <td>26.6</td>\n",
       "      <td>26.0</td>\n",
       "      <td>NaN</td>\n",
       "      <td>NaN</td>\n",
       "      <td>NaN</td>\n",
       "    </tr>\n",
       "    <tr>\n",
       "      <th>2000-07-03</th>\n",
       "      <td>14:00</td>\n",
       "      <td>0.0</td>\n",
       "      <td>1006.8</td>\n",
       "      <td>1481.0</td>\n",
       "      <td>29.1</td>\n",
       "      <td>27.5</td>\n",
       "      <td>83.0</td>\n",
       "      <td>76.0</td>\n",
       "      <td>1.7</td>\n",
       "      <td>N</td>\n",
       "      <td>...</td>\n",
       "      <td>MANAUS</td>\n",
       "      <td>A101</td>\n",
       "      <td>-3.103333</td>\n",
       "      <td>-60.016389</td>\n",
       "      <td>61.25</td>\n",
       "      <td>27.5</td>\n",
       "      <td>26.6</td>\n",
       "      <td>26.0</td>\n",
       "      <td>NaN</td>\n",
       "      <td>NaN</td>\n",
       "    </tr>\n",
       "    <tr>\n",
       "      <th>2000-07-03</th>\n",
       "      <td>15:00</td>\n",
       "      <td>0.0</td>\n",
       "      <td>1006.7</td>\n",
       "      <td>2337.0</td>\n",
       "      <td>30.0</td>\n",
       "      <td>28.0</td>\n",
       "      <td>80.0</td>\n",
       "      <td>70.0</td>\n",
       "      <td>2.0</td>\n",
       "      <td>N</td>\n",
       "      <td>...</td>\n",
       "      <td>MANAUS</td>\n",
       "      <td>A101</td>\n",
       "      <td>-3.103333</td>\n",
       "      <td>-60.016389</td>\n",
       "      <td>61.25</td>\n",
       "      <td>29.1</td>\n",
       "      <td>27.5</td>\n",
       "      <td>26.6</td>\n",
       "      <td>26.0</td>\n",
       "      <td>NaN</td>\n",
       "    </tr>\n",
       "    <tr>\n",
       "      <th>2000-07-03</th>\n",
       "      <td>16:00</td>\n",
       "      <td>0.0</td>\n",
       "      <td>1006.4</td>\n",
       "      <td>2044.0</td>\n",
       "      <td>29.7</td>\n",
       "      <td>28.8</td>\n",
       "      <td>77.0</td>\n",
       "      <td>70.0</td>\n",
       "      <td>1.9</td>\n",
       "      <td>N</td>\n",
       "      <td>...</td>\n",
       "      <td>MANAUS</td>\n",
       "      <td>A101</td>\n",
       "      <td>-3.103333</td>\n",
       "      <td>-60.016389</td>\n",
       "      <td>61.25</td>\n",
       "      <td>30.0</td>\n",
       "      <td>29.1</td>\n",
       "      <td>27.5</td>\n",
       "      <td>26.6</td>\n",
       "      <td>26.0</td>\n",
       "    </tr>\n",
       "    <tr>\n",
       "      <th>2000-07-03</th>\n",
       "      <td>18:00</td>\n",
       "      <td>0.0</td>\n",
       "      <td>1003.5</td>\n",
       "      <td>2988.0</td>\n",
       "      <td>31.7</td>\n",
       "      <td>31.0</td>\n",
       "      <td>65.0</td>\n",
       "      <td>60.0</td>\n",
       "      <td>3.6</td>\n",
       "      <td>N</td>\n",
       "      <td>...</td>\n",
       "      <td>MANAUS</td>\n",
       "      <td>A101</td>\n",
       "      <td>-3.103333</td>\n",
       "      <td>-60.016389</td>\n",
       "      <td>61.25</td>\n",
       "      <td>29.7</td>\n",
       "      <td>30.0</td>\n",
       "      <td>29.1</td>\n",
       "      <td>27.5</td>\n",
       "      <td>26.6</td>\n",
       "    </tr>\n",
       "    <tr>\n",
       "      <th>2000-07-03</th>\n",
       "      <td>19:00</td>\n",
       "      <td>0.0</td>\n",
       "      <td>1002.3</td>\n",
       "      <td>2362.0</td>\n",
       "      <td>31.9</td>\n",
       "      <td>30.3</td>\n",
       "      <td>64.0</td>\n",
       "      <td>58.0</td>\n",
       "      <td>2.6</td>\n",
       "      <td>N</td>\n",
       "      <td>...</td>\n",
       "      <td>MANAUS</td>\n",
       "      <td>A101</td>\n",
       "      <td>-3.103333</td>\n",
       "      <td>-60.016389</td>\n",
       "      <td>61.25</td>\n",
       "      <td>31.7</td>\n",
       "      <td>29.7</td>\n",
       "      <td>30.0</td>\n",
       "      <td>29.1</td>\n",
       "      <td>27.5</td>\n",
       "    </tr>\n",
       "    <tr>\n",
       "      <th>2000-07-03</th>\n",
       "      <td>20:00</td>\n",
       "      <td>0.0</td>\n",
       "      <td>1001.5</td>\n",
       "      <td>1560.0</td>\n",
       "      <td>31.2</td>\n",
       "      <td>30.3</td>\n",
       "      <td>64.0</td>\n",
       "      <td>61.0</td>\n",
       "      <td>2.2</td>\n",
       "      <td>N</td>\n",
       "      <td>...</td>\n",
       "      <td>MANAUS</td>\n",
       "      <td>A101</td>\n",
       "      <td>-3.103333</td>\n",
       "      <td>-60.016389</td>\n",
       "      <td>61.25</td>\n",
       "      <td>31.9</td>\n",
       "      <td>31.7</td>\n",
       "      <td>29.7</td>\n",
       "      <td>30.0</td>\n",
       "      <td>29.1</td>\n",
       "    </tr>\n",
       "    <tr>\n",
       "      <th>2000-07-03</th>\n",
       "      <td>21:00</td>\n",
       "      <td>0.0</td>\n",
       "      <td>1001.7</td>\n",
       "      <td>995.0</td>\n",
       "      <td>30.7</td>\n",
       "      <td>29.6</td>\n",
       "      <td>67.0</td>\n",
       "      <td>64.0</td>\n",
       "      <td>2.1</td>\n",
       "      <td>N</td>\n",
       "      <td>...</td>\n",
       "      <td>MANAUS</td>\n",
       "      <td>A101</td>\n",
       "      <td>-3.103333</td>\n",
       "      <td>-60.016389</td>\n",
       "      <td>61.25</td>\n",
       "      <td>31.2</td>\n",
       "      <td>31.9</td>\n",
       "      <td>31.7</td>\n",
       "      <td>29.7</td>\n",
       "      <td>30.0</td>\n",
       "    </tr>\n",
       "  </tbody>\n",
       "</table>\n",
       "<p>10 rows × 21 columns</p>\n",
       "</div>\n",
       "    <div class=\"colab-df-buttons\">\n",
       "\n",
       "  <div class=\"colab-df-container\">\n",
       "    <button class=\"colab-df-convert\" onclick=\"convertToInteractive('df-d2a61fc2-30a5-4144-834b-a9b20c8536fa')\"\n",
       "            title=\"Convert this dataframe to an interactive table.\"\n",
       "            style=\"display:none;\">\n",
       "\n",
       "  <svg xmlns=\"http://www.w3.org/2000/svg\" height=\"24px\" viewBox=\"0 -960 960 960\">\n",
       "    <path d=\"M120-120v-720h720v720H120Zm60-500h600v-160H180v160Zm220 220h160v-160H400v160Zm0 220h160v-160H400v160ZM180-400h160v-160H180v160Zm440 0h160v-160H620v160ZM180-180h160v-160H180v160Zm440 0h160v-160H620v160Z\"/>\n",
       "  </svg>\n",
       "    </button>\n",
       "\n",
       "  <style>\n",
       "    .colab-df-container {\n",
       "      display:flex;\n",
       "      gap: 12px;\n",
       "    }\n",
       "\n",
       "    .colab-df-convert {\n",
       "      background-color: #E8F0FE;\n",
       "      border: none;\n",
       "      border-radius: 50%;\n",
       "      cursor: pointer;\n",
       "      display: none;\n",
       "      fill: #1967D2;\n",
       "      height: 32px;\n",
       "      padding: 0 0 0 0;\n",
       "      width: 32px;\n",
       "    }\n",
       "\n",
       "    .colab-df-convert:hover {\n",
       "      background-color: #E2EBFA;\n",
       "      box-shadow: 0px 1px 2px rgba(60, 64, 67, 0.3), 0px 1px 3px 1px rgba(60, 64, 67, 0.15);\n",
       "      fill: #174EA6;\n",
       "    }\n",
       "\n",
       "    .colab-df-buttons div {\n",
       "      margin-bottom: 4px;\n",
       "    }\n",
       "\n",
       "    [theme=dark] .colab-df-convert {\n",
       "      background-color: #3B4455;\n",
       "      fill: #D2E3FC;\n",
       "    }\n",
       "\n",
       "    [theme=dark] .colab-df-convert:hover {\n",
       "      background-color: #434B5C;\n",
       "      box-shadow: 0px 1px 3px 1px rgba(0, 0, 0, 0.15);\n",
       "      filter: drop-shadow(0px 1px 2px rgba(0, 0, 0, 0.3));\n",
       "      fill: #FFFFFF;\n",
       "    }\n",
       "  </style>\n",
       "\n",
       "    <script>\n",
       "      const buttonEl =\n",
       "        document.querySelector('#df-d2a61fc2-30a5-4144-834b-a9b20c8536fa button.colab-df-convert');\n",
       "      buttonEl.style.display =\n",
       "        google.colab.kernel.accessAllowed ? 'block' : 'none';\n",
       "\n",
       "      async function convertToInteractive(key) {\n",
       "        const element = document.querySelector('#df-d2a61fc2-30a5-4144-834b-a9b20c8536fa');\n",
       "        const dataTable =\n",
       "          await google.colab.kernel.invokeFunction('convertToInteractive',\n",
       "                                                    [key], {});\n",
       "        if (!dataTable) return;\n",
       "\n",
       "        const docLinkHtml = 'Like what you see? Visit the ' +\n",
       "          '<a target=\"_blank\" href=https://colab.research.google.com/notebooks/data_table.ipynb>data table notebook</a>'\n",
       "          + ' to learn more about interactive tables.';\n",
       "        element.innerHTML = '';\n",
       "        dataTable['output_type'] = 'display_data';\n",
       "        await google.colab.output.renderOutput(dataTable, element);\n",
       "        const docLink = document.createElement('div');\n",
       "        docLink.innerHTML = docLinkHtml;\n",
       "        element.appendChild(docLink);\n",
       "      }\n",
       "    </script>\n",
       "  </div>\n",
       "\n",
       "\n",
       "<div id=\"df-d31073c9-25ee-4106-a354-45d0156dfce2\">\n",
       "  <button class=\"colab-df-quickchart\" onclick=\"quickchart('df-d31073c9-25ee-4106-a354-45d0156dfce2')\"\n",
       "            title=\"Suggest charts\"\n",
       "            style=\"display:none;\">\n",
       "\n",
       "<svg xmlns=\"http://www.w3.org/2000/svg\" height=\"24px\"viewBox=\"0 0 24 24\"\n",
       "     width=\"24px\">\n",
       "    <g>\n",
       "        <path d=\"M19 3H5c-1.1 0-2 .9-2 2v14c0 1.1.9 2 2 2h14c1.1 0 2-.9 2-2V5c0-1.1-.9-2-2-2zM9 17H7v-7h2v7zm4 0h-2V7h2v10zm4 0h-2v-4h2v4z\"/>\n",
       "    </g>\n",
       "</svg>\n",
       "  </button>\n",
       "\n",
       "<style>\n",
       "  .colab-df-quickchart {\n",
       "      --bg-color: #E8F0FE;\n",
       "      --fill-color: #1967D2;\n",
       "      --hover-bg-color: #E2EBFA;\n",
       "      --hover-fill-color: #174EA6;\n",
       "      --disabled-fill-color: #AAA;\n",
       "      --disabled-bg-color: #DDD;\n",
       "  }\n",
       "\n",
       "  [theme=dark] .colab-df-quickchart {\n",
       "      --bg-color: #3B4455;\n",
       "      --fill-color: #D2E3FC;\n",
       "      --hover-bg-color: #434B5C;\n",
       "      --hover-fill-color: #FFFFFF;\n",
       "      --disabled-bg-color: #3B4455;\n",
       "      --disabled-fill-color: #666;\n",
       "  }\n",
       "\n",
       "  .colab-df-quickchart {\n",
       "    background-color: var(--bg-color);\n",
       "    border: none;\n",
       "    border-radius: 50%;\n",
       "    cursor: pointer;\n",
       "    display: none;\n",
       "    fill: var(--fill-color);\n",
       "    height: 32px;\n",
       "    padding: 0;\n",
       "    width: 32px;\n",
       "  }\n",
       "\n",
       "  .colab-df-quickchart:hover {\n",
       "    background-color: var(--hover-bg-color);\n",
       "    box-shadow: 0 1px 2px rgba(60, 64, 67, 0.3), 0 1px 3px 1px rgba(60, 64, 67, 0.15);\n",
       "    fill: var(--button-hover-fill-color);\n",
       "  }\n",
       "\n",
       "  .colab-df-quickchart-complete:disabled,\n",
       "  .colab-df-quickchart-complete:disabled:hover {\n",
       "    background-color: var(--disabled-bg-color);\n",
       "    fill: var(--disabled-fill-color);\n",
       "    box-shadow: none;\n",
       "  }\n",
       "\n",
       "  .colab-df-spinner {\n",
       "    border: 2px solid var(--fill-color);\n",
       "    border-color: transparent;\n",
       "    border-bottom-color: var(--fill-color);\n",
       "    animation:\n",
       "      spin 1s steps(1) infinite;\n",
       "  }\n",
       "\n",
       "  @keyframes spin {\n",
       "    0% {\n",
       "      border-color: transparent;\n",
       "      border-bottom-color: var(--fill-color);\n",
       "      border-left-color: var(--fill-color);\n",
       "    }\n",
       "    20% {\n",
       "      border-color: transparent;\n",
       "      border-left-color: var(--fill-color);\n",
       "      border-top-color: var(--fill-color);\n",
       "    }\n",
       "    30% {\n",
       "      border-color: transparent;\n",
       "      border-left-color: var(--fill-color);\n",
       "      border-top-color: var(--fill-color);\n",
       "      border-right-color: var(--fill-color);\n",
       "    }\n",
       "    40% {\n",
       "      border-color: transparent;\n",
       "      border-right-color: var(--fill-color);\n",
       "      border-top-color: var(--fill-color);\n",
       "    }\n",
       "    60% {\n",
       "      border-color: transparent;\n",
       "      border-right-color: var(--fill-color);\n",
       "    }\n",
       "    80% {\n",
       "      border-color: transparent;\n",
       "      border-right-color: var(--fill-color);\n",
       "      border-bottom-color: var(--fill-color);\n",
       "    }\n",
       "    90% {\n",
       "      border-color: transparent;\n",
       "      border-bottom-color: var(--fill-color);\n",
       "    }\n",
       "  }\n",
       "</style>\n",
       "\n",
       "  <script>\n",
       "    async function quickchart(key) {\n",
       "      const quickchartButtonEl =\n",
       "        document.querySelector('#' + key + ' button');\n",
       "      quickchartButtonEl.disabled = true;  // To prevent multiple clicks.\n",
       "      quickchartButtonEl.classList.add('colab-df-spinner');\n",
       "      try {\n",
       "        const charts = await google.colab.kernel.invokeFunction(\n",
       "            'suggestCharts', [key], {});\n",
       "      } catch (error) {\n",
       "        console.error('Error during call to suggestCharts:', error);\n",
       "      }\n",
       "      quickchartButtonEl.classList.remove('colab-df-spinner');\n",
       "      quickchartButtonEl.classList.add('colab-df-quickchart-complete');\n",
       "    }\n",
       "    (() => {\n",
       "      let quickchartButtonEl =\n",
       "        document.querySelector('#df-d31073c9-25ee-4106-a354-45d0156dfce2 button');\n",
       "      quickchartButtonEl.style.display =\n",
       "        google.colab.kernel.accessAllowed ? 'block' : 'none';\n",
       "    })();\n",
       "  </script>\n",
       "</div>\n",
       "\n",
       "    </div>\n",
       "  </div>\n"
      ],
      "text/plain": [
       "             Time  Total_Precipitation  Atmospheric_Pressure  Solar_Radiation  \\\n",
       "Date                                                                            \n",
       "2000-07-03  11:00                  0.0                1005.4             59.0   \n",
       "2000-07-03  12:00                  0.0                1006.1            346.0   \n",
       "2000-07-03  13:00                  0.0                1006.6            863.0   \n",
       "2000-07-03  14:00                  0.0                1006.8           1481.0   \n",
       "2000-07-03  15:00                  0.0                1006.7           2337.0   \n",
       "2000-07-03  16:00                  0.0                1006.4           2044.0   \n",
       "2000-07-03  18:00                  0.0                1003.5           2988.0   \n",
       "2000-07-03  19:00                  0.0                1002.3           2362.0   \n",
       "2000-07-03  20:00                  0.0                1001.5           1560.0   \n",
       "2000-07-03  21:00                  0.0                1001.7            995.0   \n",
       "\n",
       "            Maximum_Temperature_For_The_Last_Hour  \\\n",
       "Date                                                \n",
       "2000-07-03                                   26.0   \n",
       "2000-07-03                                   26.6   \n",
       "2000-07-03                                   27.5   \n",
       "2000-07-03                                   29.1   \n",
       "2000-07-03                                   30.0   \n",
       "2000-07-03                                   29.7   \n",
       "2000-07-03                                   31.7   \n",
       "2000-07-03                                   31.9   \n",
       "2000-07-03                                   31.2   \n",
       "2000-07-03                                   30.7   \n",
       "\n",
       "            Minimum_Temperature_For_The_Last_Hour  \\\n",
       "Date                                                \n",
       "2000-07-03                                   25.5   \n",
       "2000-07-03                                   26.0   \n",
       "2000-07-03                                   26.5   \n",
       "2000-07-03                                   27.5   \n",
       "2000-07-03                                   28.0   \n",
       "2000-07-03                                   28.8   \n",
       "2000-07-03                                   31.0   \n",
       "2000-07-03                                   30.3   \n",
       "2000-07-03                                   30.3   \n",
       "2000-07-03                                   29.6   \n",
       "\n",
       "            Maximum_Relative_Humid_Temperature_For_The_Last_Hour  \\\n",
       "Date                                                               \n",
       "2000-07-03                                               90.0      \n",
       "2000-07-03                                               90.0      \n",
       "2000-07-03                                               88.0      \n",
       "2000-07-03                                               83.0      \n",
       "2000-07-03                                               80.0      \n",
       "2000-07-03                                               77.0      \n",
       "2000-07-03                                               65.0      \n",
       "2000-07-03                                               64.0      \n",
       "2000-07-03                                               64.0      \n",
       "2000-07-03                                               67.0      \n",
       "\n",
       "            Minimum_Relative_Humid_Temperature_For_The_Last_Hour  \\\n",
       "Date                                                               \n",
       "2000-07-03                                               88.0      \n",
       "2000-07-03                                               87.0      \n",
       "2000-07-03                                               83.0      \n",
       "2000-07-03                                               76.0      \n",
       "2000-07-03                                               70.0      \n",
       "2000-07-03                                               70.0      \n",
       "2000-07-03                                               60.0      \n",
       "2000-07-03                                               58.0      \n",
       "2000-07-03                                               61.0      \n",
       "2000-07-03                                               64.0      \n",
       "\n",
       "            Wind_speed_In_Metres_Per_Second Region  ... Station_Name  \\\n",
       "Date                                                ...                \n",
       "2000-07-03                              1.3      N  ...       MANAUS   \n",
       "2000-07-03                              1.3      N  ...       MANAUS   \n",
       "2000-07-03                              1.7      N  ...       MANAUS   \n",
       "2000-07-03                              1.7      N  ...       MANAUS   \n",
       "2000-07-03                              2.0      N  ...       MANAUS   \n",
       "2000-07-03                              1.9      N  ...       MANAUS   \n",
       "2000-07-03                              3.6      N  ...       MANAUS   \n",
       "2000-07-03                              2.6      N  ...       MANAUS   \n",
       "2000-07-03                              2.2      N  ...       MANAUS   \n",
       "2000-07-03                              2.1      N  ...       MANAUS   \n",
       "\n",
       "           Station_Code  Latitude  Longitude  Elevation  lag1  lag2  lag3  \\\n",
       "Date                                                                        \n",
       "2000-07-03         A101 -3.103333 -60.016389      61.25   NaN   NaN   NaN   \n",
       "2000-07-03         A101 -3.103333 -60.016389      61.25  26.0   NaN   NaN   \n",
       "2000-07-03         A101 -3.103333 -60.016389      61.25  26.6  26.0   NaN   \n",
       "2000-07-03         A101 -3.103333 -60.016389      61.25  27.5  26.6  26.0   \n",
       "2000-07-03         A101 -3.103333 -60.016389      61.25  29.1  27.5  26.6   \n",
       "2000-07-03         A101 -3.103333 -60.016389      61.25  30.0  29.1  27.5   \n",
       "2000-07-03         A101 -3.103333 -60.016389      61.25  29.7  30.0  29.1   \n",
       "2000-07-03         A101 -3.103333 -60.016389      61.25  31.7  29.7  30.0   \n",
       "2000-07-03         A101 -3.103333 -60.016389      61.25  31.9  31.7  29.7   \n",
       "2000-07-03         A101 -3.103333 -60.016389      61.25  31.2  31.9  31.7   \n",
       "\n",
       "            lag4  lag5  \n",
       "Date                    \n",
       "2000-07-03   NaN   NaN  \n",
       "2000-07-03   NaN   NaN  \n",
       "2000-07-03   NaN   NaN  \n",
       "2000-07-03   NaN   NaN  \n",
       "2000-07-03  26.0   NaN  \n",
       "2000-07-03  26.6  26.0  \n",
       "2000-07-03  27.5  26.6  \n",
       "2000-07-03  29.1  27.5  \n",
       "2000-07-03  30.0  29.1  \n",
       "2000-07-03  29.7  30.0  \n",
       "\n",
       "[10 rows x 21 columns]"
      ]
     },
     "execution_count": 233,
     "metadata": {},
     "output_type": "execute_result"
    }
   ],
   "source": [
    "df.head(10)"
   ]
  },
  {
   "cell_type": "code",
   "execution_count": 234,
   "metadata": {
    "executionInfo": {
     "elapsed": 4,
     "status": "ok",
     "timestamp": 1708510749005,
     "user": {
      "displayName": "Prajwal Ambadkar",
      "userId": "05706935455536576109"
     },
     "user_tz": -330
    },
    "id": "Y1xHL1rtfaTp"
   },
   "outputs": [],
   "source": [
    "df.dropna(inplace=True)"
   ]
  },
  {
   "cell_type": "code",
   "execution_count": 235,
   "metadata": {
    "colab": {
     "base_uri": "https://localhost:8080/"
    },
    "executionInfo": {
     "elapsed": 859,
     "status": "ok",
     "timestamp": 1708510751610,
     "user": {
      "displayName": "Prajwal Ambadkar",
      "userId": "05706935455536576109"
     },
     "user_tz": -330
    },
    "id": "ipoANQoRfiKa",
    "outputId": "9dca0a26-84d9-4311-a194-38dbbc19ede3"
   },
   "outputs": [
    {
     "data": {
      "text/plain": [
       "(87241, 21)"
      ]
     },
     "execution_count": 235,
     "metadata": {},
     "output_type": "execute_result"
    }
   ],
   "source": [
    "df.shape"
   ]
  },
  {
   "cell_type": "markdown",
   "metadata": {
    "id": "9m399A_Wfs6e"
   },
   "source": [
    "# **X & Y split**"
   ]
  },
  {
   "cell_type": "code",
   "execution_count": 236,
   "metadata": {
    "executionInfo": {
     "elapsed": 434,
     "status": "ok",
     "timestamp": 1708510756444,
     "user": {
      "displayName": "Prajwal Ambadkar",
      "userId": "05706935455536576109"
     },
     "user_tz": -330
    },
    "id": "0GOg_uz4fuYm"
   },
   "outputs": [],
   "source": [
    "X = df.loc[:,['lag1','lag2','lag3','lag4','lag5']]\n",
    "y = df.loc[:,'Maximum_Temperature_For_The_Last_Hour']"
   ]
  },
  {
   "cell_type": "code",
   "execution_count": 237,
   "metadata": {
    "colab": {
     "base_uri": "https://localhost:8080/"
    },
    "executionInfo": {
     "elapsed": 17,
     "status": "ok",
     "timestamp": 1708510756886,
     "user": {
      "displayName": "Prajwal Ambadkar",
      "userId": "05706935455536576109"
     },
     "user_tz": -330
    },
    "id": "8nkyTWRcf1KE",
    "outputId": "4664fb32-74a0-4b3b-be23-161164675bab"
   },
   "outputs": [
    {
     "data": {
      "text/plain": [
       "((87241, 5), (87241,))"
      ]
     },
     "execution_count": 237,
     "metadata": {},
     "output_type": "execute_result"
    }
   ],
   "source": [
    "X.shape,y.shape"
   ]
  },
  {
   "cell_type": "markdown",
   "metadata": {
    "id": "epjVqzqSf63t"
   },
   "source": [
    "# **Train test split**"
   ]
  },
  {
   "cell_type": "code",
   "execution_count": 238,
   "metadata": {
    "executionInfo": {
     "elapsed": 590,
     "status": "ok",
     "timestamp": 1708510762348,
     "user": {
      "displayName": "Prajwal Ambadkar",
      "userId": "05706935455536576109"
     },
     "user_tz": -330
    },
    "id": "3Z0O4xbnf8SV"
   },
   "outputs": [],
   "source": [
    "from sklearn.model_selection import train_test_split"
   ]
  },
  {
   "cell_type": "code",
   "execution_count": 239,
   "metadata": {
    "executionInfo": {
     "elapsed": 4,
     "status": "ok",
     "timestamp": 1708510762957,
     "user": {
      "displayName": "Prajwal Ambadkar",
      "userId": "05706935455536576109"
     },
     "user_tz": -330
    },
    "id": "vI6qDezTf_Rb"
   },
   "outputs": [],
   "source": [
    "X_train,X_test,y_train,y_test = train_test_split(X,y,\n",
    "                                                 test_size=0.1,\n",
    "                                                 random_state=7)"
   ]
  },
  {
   "cell_type": "code",
   "execution_count": 240,
   "metadata": {
    "colab": {
     "base_uri": "https://localhost:8080/"
    },
    "executionInfo": {
     "elapsed": 15,
     "status": "ok",
     "timestamp": 1708510763652,
     "user": {
      "displayName": "Prajwal Ambadkar",
      "userId": "05706935455536576109"
     },
     "user_tz": -330
    },
    "id": "kM-8XGQVgBH-",
    "outputId": "823adb16-9510-4516-e4af-5938b2329640"
   },
   "outputs": [
    {
     "data": {
      "text/plain": [
       "((78516, 5), (8725, 5), (78516,), (8725,))"
      ]
     },
     "execution_count": 240,
     "metadata": {},
     "output_type": "execute_result"
    }
   ],
   "source": [
    "X_train.shape,X_test.shape,y_train.shape,y_test.shape"
   ]
  },
  {
   "cell_type": "code",
   "execution_count": 105,
   "metadata": {
    "executionInfo": {
     "elapsed": 531,
     "status": "ok",
     "timestamp": 1708503042708,
     "user": {
      "displayName": "Prajwal Ambadkar",
      "userId": "05706935455536576109"
     },
     "user_tz": -330
    },
    "id": "wdHjHcKXtmYx"
   },
   "outputs": [],
   "source": []
  },
  {
   "cell_type": "markdown",
   "metadata": {
    "id": "YiNg6sSTK6om"
   },
   "source": [
    "#  For Maximum Temperatue Col"
   ]
  },
  {
   "cell_type": "markdown",
   "metadata": {
    "id": "Cs-YOmvHtmvO"
   },
   "source": [
    "# Elasticnet"
   ]
  },
  {
   "cell_type": "code",
   "execution_count": 241,
   "metadata": {
    "executionInfo": {
     "elapsed": 740,
     "status": "ok",
     "timestamp": 1708510776100,
     "user": {
      "displayName": "Prajwal Ambadkar",
      "userId": "05706935455536576109"
     },
     "user_tz": -330
    },
    "id": "7miJYd6WtmvP"
   },
   "outputs": [],
   "source": [
    "from sklearn.linear_model import ElasticNet\n",
    "from sklearn.metrics import mean_absolute_error"
   ]
  },
  {
   "cell_type": "code",
   "execution_count": 242,
   "metadata": {
    "executionInfo": {
     "elapsed": 4,
     "status": "ok",
     "timestamp": 1708510776545,
     "user": {
      "displayName": "Prajwal Ambadkar",
      "userId": "05706935455536576109"
     },
     "user_tz": -330
    },
    "id": "AUHhERUstmvP"
   },
   "outputs": [],
   "source": [
    "en = ElasticNet(random_state=7)"
   ]
  },
  {
   "cell_type": "code",
   "execution_count": 243,
   "metadata": {
    "colab": {
     "base_uri": "https://localhost:8080/",
     "height": 74
    },
    "executionInfo": {
     "elapsed": 22,
     "status": "ok",
     "timestamp": 1708510777037,
     "user": {
      "displayName": "Prajwal Ambadkar",
      "userId": "05706935455536576109"
     },
     "user_tz": -330
    },
    "id": "7Mnkt6UttmvP",
    "outputId": "3b03c8d8-5ce1-40ae-c928-886199767499"
   },
   "outputs": [
    {
     "data": {
      "text/html": [
       "<style>#sk-container-id-18 {color: black;background-color: white;}#sk-container-id-18 pre{padding: 0;}#sk-container-id-18 div.sk-toggleable {background-color: white;}#sk-container-id-18 label.sk-toggleable__label {cursor: pointer;display: block;width: 100%;margin-bottom: 0;padding: 0.3em;box-sizing: border-box;text-align: center;}#sk-container-id-18 label.sk-toggleable__label-arrow:before {content: \"▸\";float: left;margin-right: 0.25em;color: #696969;}#sk-container-id-18 label.sk-toggleable__label-arrow:hover:before {color: black;}#sk-container-id-18 div.sk-estimator:hover label.sk-toggleable__label-arrow:before {color: black;}#sk-container-id-18 div.sk-toggleable__content {max-height: 0;max-width: 0;overflow: hidden;text-align: left;background-color: #f0f8ff;}#sk-container-id-18 div.sk-toggleable__content pre {margin: 0.2em;color: black;border-radius: 0.25em;background-color: #f0f8ff;}#sk-container-id-18 input.sk-toggleable__control:checked~div.sk-toggleable__content {max-height: 200px;max-width: 100%;overflow: auto;}#sk-container-id-18 input.sk-toggleable__control:checked~label.sk-toggleable__label-arrow:before {content: \"▾\";}#sk-container-id-18 div.sk-estimator input.sk-toggleable__control:checked~label.sk-toggleable__label {background-color: #d4ebff;}#sk-container-id-18 div.sk-label input.sk-toggleable__control:checked~label.sk-toggleable__label {background-color: #d4ebff;}#sk-container-id-18 input.sk-hidden--visually {border: 0;clip: rect(1px 1px 1px 1px);clip: rect(1px, 1px, 1px, 1px);height: 1px;margin: -1px;overflow: hidden;padding: 0;position: absolute;width: 1px;}#sk-container-id-18 div.sk-estimator {font-family: monospace;background-color: #f0f8ff;border: 1px dotted black;border-radius: 0.25em;box-sizing: border-box;margin-bottom: 0.5em;}#sk-container-id-18 div.sk-estimator:hover {background-color: #d4ebff;}#sk-container-id-18 div.sk-parallel-item::after {content: \"\";width: 100%;border-bottom: 1px solid gray;flex-grow: 1;}#sk-container-id-18 div.sk-label:hover label.sk-toggleable__label {background-color: #d4ebff;}#sk-container-id-18 div.sk-serial::before {content: \"\";position: absolute;border-left: 1px solid gray;box-sizing: border-box;top: 0;bottom: 0;left: 50%;z-index: 0;}#sk-container-id-18 div.sk-serial {display: flex;flex-direction: column;align-items: center;background-color: white;padding-right: 0.2em;padding-left: 0.2em;position: relative;}#sk-container-id-18 div.sk-item {position: relative;z-index: 1;}#sk-container-id-18 div.sk-parallel {display: flex;align-items: stretch;justify-content: center;background-color: white;position: relative;}#sk-container-id-18 div.sk-item::before, #sk-container-id-18 div.sk-parallel-item::before {content: \"\";position: absolute;border-left: 1px solid gray;box-sizing: border-box;top: 0;bottom: 0;left: 50%;z-index: -1;}#sk-container-id-18 div.sk-parallel-item {display: flex;flex-direction: column;z-index: 1;position: relative;background-color: white;}#sk-container-id-18 div.sk-parallel-item:first-child::after {align-self: flex-end;width: 50%;}#sk-container-id-18 div.sk-parallel-item:last-child::after {align-self: flex-start;width: 50%;}#sk-container-id-18 div.sk-parallel-item:only-child::after {width: 0;}#sk-container-id-18 div.sk-dashed-wrapped {border: 1px dashed gray;margin: 0 0.4em 0.5em 0.4em;box-sizing: border-box;padding-bottom: 0.4em;background-color: white;}#sk-container-id-18 div.sk-label label {font-family: monospace;font-weight: bold;display: inline-block;line-height: 1.2em;}#sk-container-id-18 div.sk-label-container {text-align: center;}#sk-container-id-18 div.sk-container {/* jupyter's `normalize.less` sets `[hidden] { display: none; }` but bootstrap.min.css set `[hidden] { display: none !important; }` so we also need the `!important` here to be able to override the default hidden behavior on the sphinx rendered scikit-learn.org. See: https://github.com/scikit-learn/scikit-learn/issues/21755 */display: inline-block !important;position: relative;}#sk-container-id-18 div.sk-text-repr-fallback {display: none;}</style><div id=\"sk-container-id-18\" class=\"sk-top-container\"><div class=\"sk-text-repr-fallback\"><pre>ElasticNet(random_state=7)</pre><b>In a Jupyter environment, please rerun this cell to show the HTML representation or trust the notebook. <br />On GitHub, the HTML representation is unable to render, please try loading this page with nbviewer.org.</b></div><div class=\"sk-container\" hidden><div class=\"sk-item\"><div class=\"sk-estimator sk-toggleable\"><input class=\"sk-toggleable__control sk-hidden--visually\" id=\"sk-estimator-id-18\" type=\"checkbox\" checked><label for=\"sk-estimator-id-18\" class=\"sk-toggleable__label sk-toggleable__label-arrow\">ElasticNet</label><div class=\"sk-toggleable__content\"><pre>ElasticNet(random_state=7)</pre></div></div></div></div></div>"
      ],
      "text/plain": [
       "ElasticNet(random_state=7)"
      ]
     },
     "execution_count": 243,
     "metadata": {},
     "output_type": "execute_result"
    }
   ],
   "source": [
    "en.fit(X_train,y_train)"
   ]
  },
  {
   "cell_type": "code",
   "execution_count": 244,
   "metadata": {
    "executionInfo": {
     "elapsed": 3,
     "status": "ok",
     "timestamp": 1708510778810,
     "user": {
      "displayName": "Prajwal Ambadkar",
      "userId": "05706935455536576109"
     },
     "user_tz": -330
    },
    "id": "KIBLtlGmtmvP"
   },
   "outputs": [],
   "source": [
    "y_pred = en.predict(X_test)"
   ]
  },
  {
   "cell_type": "code",
   "execution_count": 245,
   "metadata": {
    "colab": {
     "base_uri": "https://localhost:8080/"
    },
    "executionInfo": {
     "elapsed": 13,
     "status": "ok",
     "timestamp": 1708510779452,
     "user": {
      "displayName": "Prajwal Ambadkar",
      "userId": "05706935455536576109"
     },
     "user_tz": -330
    },
    "id": "z_kmwKxXtmvQ",
    "outputId": "26373c28-fe92-48d6-a219-29de42bf2529"
   },
   "outputs": [
    {
     "data": {
      "text/plain": [
       "((8725,), (8725,))"
      ]
     },
     "execution_count": 245,
     "metadata": {},
     "output_type": "execute_result"
    }
   ],
   "source": [
    "y_pred.shape,y_test.shape"
   ]
  },
  {
   "cell_type": "code",
   "execution_count": 246,
   "metadata": {
    "colab": {
     "base_uri": "https://localhost:8080/"
    },
    "executionInfo": {
     "elapsed": 14,
     "status": "ok",
     "timestamp": 1708510779965,
     "user": {
      "displayName": "Prajwal Ambadkar",
      "userId": "05706935455536576109"
     },
     "user_tz": -330
    },
    "id": "6mj-4n4KtmvQ",
    "outputId": "2f371e0e-e94c-464f-f880-beb1db6e0692"
   },
   "outputs": [
    {
     "name": "stdout",
     "output_type": "stream",
     "text": [
      "1.153712704374349\n"
     ]
    }
   ],
   "source": [
    "E = mean_absolute_error(y_test, y_pred)\n",
    "print(E)"
   ]
  },
  {
   "cell_type": "markdown",
   "metadata": {
    "id": "mdx1Gh_ZtmvQ"
   },
   "source": [
    "# Lasso"
   ]
  },
  {
   "cell_type": "code",
   "execution_count": 135,
   "metadata": {
    "executionInfo": {
     "elapsed": 2,
     "status": "ok",
     "timestamp": 1708503279577,
     "user": {
      "displayName": "Prajwal Ambadkar",
      "userId": "05706935455536576109"
     },
     "user_tz": -330
    },
    "id": "S4rgeiIPtmvQ"
   },
   "outputs": [],
   "source": []
  },
  {
   "cell_type": "code",
   "execution_count": 247,
   "metadata": {
    "executionInfo": {
     "elapsed": 736,
     "status": "ok",
     "timestamp": 1708510783259,
     "user": {
      "displayName": "Prajwal Ambadkar",
      "userId": "05706935455536576109"
     },
     "user_tz": -330
    },
    "id": "PWgDQnB5tmvR"
   },
   "outputs": [],
   "source": [
    "from sklearn.linear_model import Lasso\n",
    "from sklearn.metrics import mean_absolute_error"
   ]
  },
  {
   "cell_type": "code",
   "execution_count": 248,
   "metadata": {
    "executionInfo": {
     "elapsed": 3,
     "status": "ok",
     "timestamp": 1708510783259,
     "user": {
      "displayName": "Prajwal Ambadkar",
      "userId": "05706935455536576109"
     },
     "user_tz": -330
    },
    "id": "HimDapGjtmvR"
   },
   "outputs": [],
   "source": [
    "en = Lasso(random_state=7)"
   ]
  },
  {
   "cell_type": "code",
   "execution_count": 249,
   "metadata": {
    "colab": {
     "base_uri": "https://localhost:8080/",
     "height": 74
    },
    "executionInfo": {
     "elapsed": 23,
     "status": "ok",
     "timestamp": 1708510784382,
     "user": {
      "displayName": "Prajwal Ambadkar",
      "userId": "05706935455536576109"
     },
     "user_tz": -330
    },
    "id": "MJxFHuBctmvR",
    "outputId": "cb6e3c37-fc49-4e9e-e378-8f929a972457"
   },
   "outputs": [
    {
     "data": {
      "text/html": [
       "<style>#sk-container-id-19 {color: black;background-color: white;}#sk-container-id-19 pre{padding: 0;}#sk-container-id-19 div.sk-toggleable {background-color: white;}#sk-container-id-19 label.sk-toggleable__label {cursor: pointer;display: block;width: 100%;margin-bottom: 0;padding: 0.3em;box-sizing: border-box;text-align: center;}#sk-container-id-19 label.sk-toggleable__label-arrow:before {content: \"▸\";float: left;margin-right: 0.25em;color: #696969;}#sk-container-id-19 label.sk-toggleable__label-arrow:hover:before {color: black;}#sk-container-id-19 div.sk-estimator:hover label.sk-toggleable__label-arrow:before {color: black;}#sk-container-id-19 div.sk-toggleable__content {max-height: 0;max-width: 0;overflow: hidden;text-align: left;background-color: #f0f8ff;}#sk-container-id-19 div.sk-toggleable__content pre {margin: 0.2em;color: black;border-radius: 0.25em;background-color: #f0f8ff;}#sk-container-id-19 input.sk-toggleable__control:checked~div.sk-toggleable__content {max-height: 200px;max-width: 100%;overflow: auto;}#sk-container-id-19 input.sk-toggleable__control:checked~label.sk-toggleable__label-arrow:before {content: \"▾\";}#sk-container-id-19 div.sk-estimator input.sk-toggleable__control:checked~label.sk-toggleable__label {background-color: #d4ebff;}#sk-container-id-19 div.sk-label input.sk-toggleable__control:checked~label.sk-toggleable__label {background-color: #d4ebff;}#sk-container-id-19 input.sk-hidden--visually {border: 0;clip: rect(1px 1px 1px 1px);clip: rect(1px, 1px, 1px, 1px);height: 1px;margin: -1px;overflow: hidden;padding: 0;position: absolute;width: 1px;}#sk-container-id-19 div.sk-estimator {font-family: monospace;background-color: #f0f8ff;border: 1px dotted black;border-radius: 0.25em;box-sizing: border-box;margin-bottom: 0.5em;}#sk-container-id-19 div.sk-estimator:hover {background-color: #d4ebff;}#sk-container-id-19 div.sk-parallel-item::after {content: \"\";width: 100%;border-bottom: 1px solid gray;flex-grow: 1;}#sk-container-id-19 div.sk-label:hover label.sk-toggleable__label {background-color: #d4ebff;}#sk-container-id-19 div.sk-serial::before {content: \"\";position: absolute;border-left: 1px solid gray;box-sizing: border-box;top: 0;bottom: 0;left: 50%;z-index: 0;}#sk-container-id-19 div.sk-serial {display: flex;flex-direction: column;align-items: center;background-color: white;padding-right: 0.2em;padding-left: 0.2em;position: relative;}#sk-container-id-19 div.sk-item {position: relative;z-index: 1;}#sk-container-id-19 div.sk-parallel {display: flex;align-items: stretch;justify-content: center;background-color: white;position: relative;}#sk-container-id-19 div.sk-item::before, #sk-container-id-19 div.sk-parallel-item::before {content: \"\";position: absolute;border-left: 1px solid gray;box-sizing: border-box;top: 0;bottom: 0;left: 50%;z-index: -1;}#sk-container-id-19 div.sk-parallel-item {display: flex;flex-direction: column;z-index: 1;position: relative;background-color: white;}#sk-container-id-19 div.sk-parallel-item:first-child::after {align-self: flex-end;width: 50%;}#sk-container-id-19 div.sk-parallel-item:last-child::after {align-self: flex-start;width: 50%;}#sk-container-id-19 div.sk-parallel-item:only-child::after {width: 0;}#sk-container-id-19 div.sk-dashed-wrapped {border: 1px dashed gray;margin: 0 0.4em 0.5em 0.4em;box-sizing: border-box;padding-bottom: 0.4em;background-color: white;}#sk-container-id-19 div.sk-label label {font-family: monospace;font-weight: bold;display: inline-block;line-height: 1.2em;}#sk-container-id-19 div.sk-label-container {text-align: center;}#sk-container-id-19 div.sk-container {/* jupyter's `normalize.less` sets `[hidden] { display: none; }` but bootstrap.min.css set `[hidden] { display: none !important; }` so we also need the `!important` here to be able to override the default hidden behavior on the sphinx rendered scikit-learn.org. See: https://github.com/scikit-learn/scikit-learn/issues/21755 */display: inline-block !important;position: relative;}#sk-container-id-19 div.sk-text-repr-fallback {display: none;}</style><div id=\"sk-container-id-19\" class=\"sk-top-container\"><div class=\"sk-text-repr-fallback\"><pre>Lasso(random_state=7)</pre><b>In a Jupyter environment, please rerun this cell to show the HTML representation or trust the notebook. <br />On GitHub, the HTML representation is unable to render, please try loading this page with nbviewer.org.</b></div><div class=\"sk-container\" hidden><div class=\"sk-item\"><div class=\"sk-estimator sk-toggleable\"><input class=\"sk-toggleable__control sk-hidden--visually\" id=\"sk-estimator-id-19\" type=\"checkbox\" checked><label for=\"sk-estimator-id-19\" class=\"sk-toggleable__label sk-toggleable__label-arrow\">Lasso</label><div class=\"sk-toggleable__content\"><pre>Lasso(random_state=7)</pre></div></div></div></div></div>"
      ],
      "text/plain": [
       "Lasso(random_state=7)"
      ]
     },
     "execution_count": 249,
     "metadata": {},
     "output_type": "execute_result"
    }
   ],
   "source": [
    "en.fit(X_train,y_train)"
   ]
  },
  {
   "cell_type": "code",
   "execution_count": 250,
   "metadata": {
    "executionInfo": {
     "elapsed": 2,
     "status": "ok",
     "timestamp": 1708510785903,
     "user": {
      "displayName": "Prajwal Ambadkar",
      "userId": "05706935455536576109"
     },
     "user_tz": -330
    },
    "id": "OhUDa65StmvR"
   },
   "outputs": [],
   "source": [
    "y_pred = en.predict(X_test)"
   ]
  },
  {
   "cell_type": "code",
   "execution_count": 251,
   "metadata": {
    "colab": {
     "base_uri": "https://localhost:8080/"
    },
    "executionInfo": {
     "elapsed": 15,
     "status": "ok",
     "timestamp": 1708510786647,
     "user": {
      "displayName": "Prajwal Ambadkar",
      "userId": "05706935455536576109"
     },
     "user_tz": -330
    },
    "id": "dQyq3knytmvS",
    "outputId": "dd86c7bb-4a38-4cfe-de0a-097a6de015fa"
   },
   "outputs": [
    {
     "data": {
      "text/plain": [
       "((8725,), (8725,))"
      ]
     },
     "execution_count": 251,
     "metadata": {},
     "output_type": "execute_result"
    }
   ],
   "source": [
    "y_pred.shape,y_test.shape"
   ]
  },
  {
   "cell_type": "code",
   "execution_count": 252,
   "metadata": {
    "colab": {
     "base_uri": "https://localhost:8080/"
    },
    "executionInfo": {
     "elapsed": 12,
     "status": "ok",
     "timestamp": 1708510786647,
     "user": {
      "displayName": "Prajwal Ambadkar",
      "userId": "05706935455536576109"
     },
     "user_tz": -330
    },
    "id": "Ywl8zP3BtmvS",
    "outputId": "33477f22-7ddb-4599-976e-db01dc277343"
   },
   "outputs": [
    {
     "name": "stdout",
     "output_type": "stream",
     "text": [
      "1.1705510479697392\n"
     ]
    }
   ],
   "source": [
    "L=mean_absolute_error(y_test, y_pred)\n",
    "print(L)"
   ]
  },
  {
   "cell_type": "markdown",
   "metadata": {
    "id": "LxCSf_uktmvS"
   },
   "source": [
    "## Ridge"
   ]
  },
  {
   "cell_type": "code",
   "execution_count": 141,
   "metadata": {
    "executionInfo": {
     "elapsed": 3,
     "status": "ok",
     "timestamp": 1708503284397,
     "user": {
      "displayName": "Prajwal Ambadkar",
      "userId": "05706935455536576109"
     },
     "user_tz": -330
    },
    "id": "7eTtrn9atmvS"
   },
   "outputs": [],
   "source": []
  },
  {
   "cell_type": "code",
   "execution_count": 253,
   "metadata": {
    "executionInfo": {
     "elapsed": 526,
     "status": "ok",
     "timestamp": 1708510789886,
     "user": {
      "displayName": "Prajwal Ambadkar",
      "userId": "05706935455536576109"
     },
     "user_tz": -330
    },
    "id": "QZe-SlGctmvS"
   },
   "outputs": [],
   "source": [
    "from sklearn.linear_model import Ridge\n",
    "from sklearn.metrics import mean_absolute_error"
   ]
  },
  {
   "cell_type": "code",
   "execution_count": 254,
   "metadata": {
    "executionInfo": {
     "elapsed": 2,
     "status": "ok",
     "timestamp": 1708510790411,
     "user": {
      "displayName": "Prajwal Ambadkar",
      "userId": "05706935455536576109"
     },
     "user_tz": -330
    },
    "id": "wWRiVZprtmvS"
   },
   "outputs": [],
   "source": [
    "en = Ridge(random_state=7)"
   ]
  },
  {
   "cell_type": "code",
   "execution_count": 255,
   "metadata": {
    "colab": {
     "base_uri": "https://localhost:8080/",
     "height": 74
    },
    "executionInfo": {
     "elapsed": 30,
     "status": "ok",
     "timestamp": 1708510791032,
     "user": {
      "displayName": "Prajwal Ambadkar",
      "userId": "05706935455536576109"
     },
     "user_tz": -330
    },
    "id": "6Skk0IZ1tmvT",
    "outputId": "e2ed2931-5e40-429a-c283-acafe31e8ea3"
   },
   "outputs": [
    {
     "data": {
      "text/html": [
       "<style>#sk-container-id-20 {color: black;background-color: white;}#sk-container-id-20 pre{padding: 0;}#sk-container-id-20 div.sk-toggleable {background-color: white;}#sk-container-id-20 label.sk-toggleable__label {cursor: pointer;display: block;width: 100%;margin-bottom: 0;padding: 0.3em;box-sizing: border-box;text-align: center;}#sk-container-id-20 label.sk-toggleable__label-arrow:before {content: \"▸\";float: left;margin-right: 0.25em;color: #696969;}#sk-container-id-20 label.sk-toggleable__label-arrow:hover:before {color: black;}#sk-container-id-20 div.sk-estimator:hover label.sk-toggleable__label-arrow:before {color: black;}#sk-container-id-20 div.sk-toggleable__content {max-height: 0;max-width: 0;overflow: hidden;text-align: left;background-color: #f0f8ff;}#sk-container-id-20 div.sk-toggleable__content pre {margin: 0.2em;color: black;border-radius: 0.25em;background-color: #f0f8ff;}#sk-container-id-20 input.sk-toggleable__control:checked~div.sk-toggleable__content {max-height: 200px;max-width: 100%;overflow: auto;}#sk-container-id-20 input.sk-toggleable__control:checked~label.sk-toggleable__label-arrow:before {content: \"▾\";}#sk-container-id-20 div.sk-estimator input.sk-toggleable__control:checked~label.sk-toggleable__label {background-color: #d4ebff;}#sk-container-id-20 div.sk-label input.sk-toggleable__control:checked~label.sk-toggleable__label {background-color: #d4ebff;}#sk-container-id-20 input.sk-hidden--visually {border: 0;clip: rect(1px 1px 1px 1px);clip: rect(1px, 1px, 1px, 1px);height: 1px;margin: -1px;overflow: hidden;padding: 0;position: absolute;width: 1px;}#sk-container-id-20 div.sk-estimator {font-family: monospace;background-color: #f0f8ff;border: 1px dotted black;border-radius: 0.25em;box-sizing: border-box;margin-bottom: 0.5em;}#sk-container-id-20 div.sk-estimator:hover {background-color: #d4ebff;}#sk-container-id-20 div.sk-parallel-item::after {content: \"\";width: 100%;border-bottom: 1px solid gray;flex-grow: 1;}#sk-container-id-20 div.sk-label:hover label.sk-toggleable__label {background-color: #d4ebff;}#sk-container-id-20 div.sk-serial::before {content: \"\";position: absolute;border-left: 1px solid gray;box-sizing: border-box;top: 0;bottom: 0;left: 50%;z-index: 0;}#sk-container-id-20 div.sk-serial {display: flex;flex-direction: column;align-items: center;background-color: white;padding-right: 0.2em;padding-left: 0.2em;position: relative;}#sk-container-id-20 div.sk-item {position: relative;z-index: 1;}#sk-container-id-20 div.sk-parallel {display: flex;align-items: stretch;justify-content: center;background-color: white;position: relative;}#sk-container-id-20 div.sk-item::before, #sk-container-id-20 div.sk-parallel-item::before {content: \"\";position: absolute;border-left: 1px solid gray;box-sizing: border-box;top: 0;bottom: 0;left: 50%;z-index: -1;}#sk-container-id-20 div.sk-parallel-item {display: flex;flex-direction: column;z-index: 1;position: relative;background-color: white;}#sk-container-id-20 div.sk-parallel-item:first-child::after {align-self: flex-end;width: 50%;}#sk-container-id-20 div.sk-parallel-item:last-child::after {align-self: flex-start;width: 50%;}#sk-container-id-20 div.sk-parallel-item:only-child::after {width: 0;}#sk-container-id-20 div.sk-dashed-wrapped {border: 1px dashed gray;margin: 0 0.4em 0.5em 0.4em;box-sizing: border-box;padding-bottom: 0.4em;background-color: white;}#sk-container-id-20 div.sk-label label {font-family: monospace;font-weight: bold;display: inline-block;line-height: 1.2em;}#sk-container-id-20 div.sk-label-container {text-align: center;}#sk-container-id-20 div.sk-container {/* jupyter's `normalize.less` sets `[hidden] { display: none; }` but bootstrap.min.css set `[hidden] { display: none !important; }` so we also need the `!important` here to be able to override the default hidden behavior on the sphinx rendered scikit-learn.org. See: https://github.com/scikit-learn/scikit-learn/issues/21755 */display: inline-block !important;position: relative;}#sk-container-id-20 div.sk-text-repr-fallback {display: none;}</style><div id=\"sk-container-id-20\" class=\"sk-top-container\"><div class=\"sk-text-repr-fallback\"><pre>Ridge(random_state=7)</pre><b>In a Jupyter environment, please rerun this cell to show the HTML representation or trust the notebook. <br />On GitHub, the HTML representation is unable to render, please try loading this page with nbviewer.org.</b></div><div class=\"sk-container\" hidden><div class=\"sk-item\"><div class=\"sk-estimator sk-toggleable\"><input class=\"sk-toggleable__control sk-hidden--visually\" id=\"sk-estimator-id-20\" type=\"checkbox\" checked><label for=\"sk-estimator-id-20\" class=\"sk-toggleable__label sk-toggleable__label-arrow\">Ridge</label><div class=\"sk-toggleable__content\"><pre>Ridge(random_state=7)</pre></div></div></div></div></div>"
      ],
      "text/plain": [
       "Ridge(random_state=7)"
      ]
     },
     "execution_count": 255,
     "metadata": {},
     "output_type": "execute_result"
    }
   ],
   "source": [
    "en.fit(X_train,y_train)"
   ]
  },
  {
   "cell_type": "code",
   "execution_count": 256,
   "metadata": {
    "executionInfo": {
     "elapsed": 5,
     "status": "ok",
     "timestamp": 1708510792144,
     "user": {
      "displayName": "Prajwal Ambadkar",
      "userId": "05706935455536576109"
     },
     "user_tz": -330
    },
    "id": "4XtEWERKtmvT"
   },
   "outputs": [],
   "source": [
    "y_pred = en.predict(X_test)"
   ]
  },
  {
   "cell_type": "code",
   "execution_count": 257,
   "metadata": {
    "colab": {
     "base_uri": "https://localhost:8080/"
    },
    "executionInfo": {
     "elapsed": 14,
     "status": "ok",
     "timestamp": 1708510792752,
     "user": {
      "displayName": "Prajwal Ambadkar",
      "userId": "05706935455536576109"
     },
     "user_tz": -330
    },
    "id": "VOvskWZptmvT",
    "outputId": "e25b8001-bb80-48d3-ffbf-14f9f12a7d6d"
   },
   "outputs": [
    {
     "data": {
      "text/plain": [
       "((8725,), (8725,))"
      ]
     },
     "execution_count": 257,
     "metadata": {},
     "output_type": "execute_result"
    }
   ],
   "source": [
    "y_pred.shape,y_test.shape"
   ]
  },
  {
   "cell_type": "code",
   "execution_count": 258,
   "metadata": {
    "colab": {
     "base_uri": "https://localhost:8080/"
    },
    "executionInfo": {
     "elapsed": 15,
     "status": "ok",
     "timestamp": 1708510793353,
     "user": {
      "displayName": "Prajwal Ambadkar",
      "userId": "05706935455536576109"
     },
     "user_tz": -330
    },
    "id": "R78NP8oFtmvT",
    "outputId": "b982b1e6-ae99-4e95-e082-2adf8ee08aea"
   },
   "outputs": [
    {
     "name": "stdout",
     "output_type": "stream",
     "text": [
      "1.0322409913069133\n"
     ]
    }
   ],
   "source": [
    "R = mean_absolute_error(y_test, y_pred)\n",
    "print(R)"
   ]
  },
  {
   "cell_type": "code",
   "execution_count": 147,
   "metadata": {
    "executionInfo": {
     "elapsed": 3,
     "status": "ok",
     "timestamp": 1708503287917,
     "user": {
      "displayName": "Prajwal Ambadkar",
      "userId": "05706935455536576109"
     },
     "user_tz": -330
    },
    "id": "8WPrcLRYtmvT"
   },
   "outputs": [],
   "source": []
  },
  {
   "cell_type": "code",
   "execution_count": null,
   "metadata": {
    "id": "P3pe_l36Lg3U"
   },
   "outputs": [],
   "source": []
  },
  {
   "cell_type": "markdown",
   "metadata": {
    "id": "vYvD-pPFtmvU"
   },
   "source": [
    "## Graph"
   ]
  },
  {
   "cell_type": "code",
   "execution_count": 259,
   "metadata": {
    "colab": {
     "base_uri": "https://localhost:8080/",
     "height": 472
    },
    "executionInfo": {
     "elapsed": 897,
     "status": "ok",
     "timestamp": 1708510804863,
     "user": {
      "displayName": "Prajwal Ambadkar",
      "userId": "05706935455536576109"
     },
     "user_tz": -330
    },
    "id": "-dzlkfGStmvU",
    "outputId": "f74eee96-f531-441a-f870-776bd3c486c1"
   },
   "outputs": [
    {
     "data": {
      "image/png": "[encoded data removed]",
      "text/plain": [
       "<Figure size 640x480 with 1 Axes>"
      ]
     },
     "metadata": {},
     "output_type": "display_data"
    }
   ],
   "source": [
    "import matplotlib.pyplot as plt\n",
    "\n",
    "# Sample data\n",
    "x_values = [\"lasso\",\"ridge\",\"elasticNet\"]\n",
    "y_values = [L,R,E]\n",
    "\n",
    "# Plotting the line graph\n",
    "plt.bar(x_values, y_values, label='Line Graph')\n",
    "\n",
    "# Adding labels to the axes\n",
    "plt.xlabel('Modal Name')\n",
    "plt.ylabel('mean_absolute_error')\n",
    "\n",
    "# Adding a title to the graph\n",
    "plt.title('mean_absolute_error vs Modal (Maximum_Temperature_For_The_Last_Hour)')\n",
    "\n",
    "# Adding a legend\n",
    "plt.legend()\n",
    "\n",
    "# Displaying the plot\n",
    "plt.show()"
   ]
  },
  {
   "cell_type": "code",
   "execution_count": 148,
   "metadata": {
    "executionInfo": {
     "elapsed": 524,
     "status": "ok",
     "timestamp": 1708503298730,
     "user": {
      "displayName": "Prajwal Ambadkar",
      "userId": "05706935455536576109"
     },
     "user_tz": -330
    },
    "id": "31dygXY0tmvU"
   },
   "outputs": [],
   "source": []
  },
  {
   "cell_type": "markdown",
   "metadata": {
    "id": "XbI7zYlmLrg8"
   },
   "source": [
    "### So from the the above graph we can analyse that Ridge Modal is having minimuum mean_absolute_error"
   ]
  },
  {
   "cell_type": "code",
   "execution_count": 261,
   "metadata": {
    "colab": {
     "base_uri": "https://localhost:8080/",
     "height": 472
    },
    "executionInfo": {
     "elapsed": 1023,
     "status": "ok",
     "timestamp": 1708511005054,
     "user": {
      "displayName": "Prajwal Ambadkar",
      "userId": "05706935455536576109"
     },
     "user_tz": -330
    },
    "id": "ourz1MFkKQNR",
    "outputId": "62ea4b98-43d7-40eb-c4e6-18d410a7e23c"
   },
   "outputs": [
    {
     "data": {
      "image/png": "[encoded data removed]",
      "text/plain": [
       "<Figure size 640x480 with 1 Axes>"
      ]
     },
     "metadata": {},
     "output_type": "display_data"
    }
   ],
   "source": [
    "import matplotlib.pyplot as plt\n",
    "\n",
    "# Sample data\n",
    "df_sorted_index = X_test.sort_index(ascending=True)\n",
    "x_values = df_sorted_index.index\n",
    "y_values = y_pred\n",
    "\n",
    "# Plotting the line graph\n",
    "plt.plot(x_values, y_values, label='Line Graph')\n",
    "\n",
    "# Adding labels to the axes\n",
    "plt.xlabel('Date')\n",
    "plt.ylabel('Max Temperature')\n",
    "\n",
    "# Adding a title to the graph\n",
    "plt.title('Date vs Max Temperature')\n",
    "\n",
    "# Adding a legend\n",
    "plt.legend()\n",
    "\n",
    "# Displaying the plot\n",
    "plt.show()"
   ]
  },
  {
   "cell_type": "markdown",
   "metadata": {
    "id": "NSiJKH-7hfZJ"
   },
   "source": [
    "# For Minimum Temperatue Col\n"
   ]
  },
  {
   "cell_type": "code",
   "execution_count": 262,
   "metadata": {
    "executionInfo": {
     "elapsed": 638,
     "status": "ok",
     "timestamp": 1708511017782,
     "user": {
      "displayName": "Prajwal Ambadkar",
      "userId": "05706935455536576109"
     },
     "user_tz": -330
    },
    "id": "jwxlEREGhe53"
   },
   "outputs": [],
   "source": [
    "df['lag6'] = df['Minimum_Temperature_For_The_Last_Hour'].shift(1)\n",
    "df['lag7'] = df['Minimum_Temperature_For_The_Last_Hour'].shift(2)\n",
    "df['lag8'] = df['Minimum_Temperature_For_The_Last_Hour'].shift(3)\n",
    "df['lag9'] = df['Minimum_Temperature_For_The_Last_Hour'].shift(4)\n",
    "df['lag10'] = df['Minimum_Temperature_For_The_Last_Hour'].shift(5)"
   ]
  },
  {
   "cell_type": "code",
   "execution_count": 263,
   "metadata": {
    "colab": {
     "base_uri": "https://localhost:8080/",
     "height": 617
    },
    "executionInfo": {
     "elapsed": 23,
     "status": "ok",
     "timestamp": 1708511018304,
     "user": {
      "displayName": "Prajwal Ambadkar",
      "userId": "05706935455536576109"
     },
     "user_tz": -330
    },
    "id": "J2I1R1yXgTOP",
    "outputId": "0f968fc5-ddaa-4205-9ae3-a2eee26ee521"
   },
   "outputs": [
    {
     "data": {
      "application/vnd.google.colaboratory.intrinsic+json": {
       "type": "dataframe",
       "variable_name": "df"
      },
      "text/html": [
       "\n",
       "  <div id=\"df-4b129791-865e-4cb0-84bd-012910b8d35c\" class=\"colab-df-container\">\n",
       "    <div>\n",
       "<style scoped>\n",
       "    .dataframe tbody tr th:only-of-type {\n",
       "        vertical-align: middle;\n",
       "    }\n",
       "\n",
       "    .dataframe tbody tr th {\n",
       "        vertical-align: top;\n",
       "    }\n",
       "\n",
       "    .dataframe thead th {\n",
       "        text-align: right;\n",
       "    }\n",
       "</style>\n",
       "<table border=\"1\" class=\"dataframe\">\n",
       "  <thead>\n",
       "    <tr style=\"text-align: right;\">\n",
       "      <th></th>\n",
       "      <th>Time</th>\n",
       "      <th>Total_Precipitation</th>\n",
       "      <th>Atmospheric_Pressure</th>\n",
       "      <th>Solar_Radiation</th>\n",
       "      <th>Maximum_Temperature_For_The_Last_Hour</th>\n",
       "      <th>Minimum_Temperature_For_The_Last_Hour</th>\n",
       "      <th>Maximum_Relative_Humid_Temperature_For_The_Last_Hour</th>\n",
       "      <th>Minimum_Relative_Humid_Temperature_For_The_Last_Hour</th>\n",
       "      <th>Wind_speed_In_Metres_Per_Second</th>\n",
       "      <th>Region</th>\n",
       "      <th>...</th>\n",
       "      <th>lag1</th>\n",
       "      <th>lag2</th>\n",
       "      <th>lag3</th>\n",
       "      <th>lag4</th>\n",
       "      <th>lag5</th>\n",
       "      <th>lag6</th>\n",
       "      <th>lag7</th>\n",
       "      <th>lag8</th>\n",
       "      <th>lag9</th>\n",
       "      <th>lag10</th>\n",
       "    </tr>\n",
       "    <tr>\n",
       "      <th>Date</th>\n",
       "      <th></th>\n",
       "      <th></th>\n",
       "      <th></th>\n",
       "      <th></th>\n",
       "      <th></th>\n",
       "      <th></th>\n",
       "      <th></th>\n",
       "      <th></th>\n",
       "      <th></th>\n",
       "      <th></th>\n",
       "      <th></th>\n",
       "      <th></th>\n",
       "      <th></th>\n",
       "      <th></th>\n",
       "      <th></th>\n",
       "      <th></th>\n",
       "      <th></th>\n",
       "      <th></th>\n",
       "      <th></th>\n",
       "      <th></th>\n",
       "      <th></th>\n",
       "    </tr>\n",
       "  </thead>\n",
       "  <tbody>\n",
       "    <tr>\n",
       "      <th>2000-07-03</th>\n",
       "      <td>16:00</td>\n",
       "      <td>0.0</td>\n",
       "      <td>1006.4</td>\n",
       "      <td>2044.0</td>\n",
       "      <td>29.7</td>\n",
       "      <td>28.8</td>\n",
       "      <td>77.0</td>\n",
       "      <td>70.0</td>\n",
       "      <td>1.9</td>\n",
       "      <td>N</td>\n",
       "      <td>...</td>\n",
       "      <td>30.0</td>\n",
       "      <td>29.1</td>\n",
       "      <td>27.5</td>\n",
       "      <td>26.6</td>\n",
       "      <td>26.0</td>\n",
       "      <td>NaN</td>\n",
       "      <td>NaN</td>\n",
       "      <td>NaN</td>\n",
       "      <td>NaN</td>\n",
       "      <td>NaN</td>\n",
       "    </tr>\n",
       "    <tr>\n",
       "      <th>2000-07-03</th>\n",
       "      <td>18:00</td>\n",
       "      <td>0.0</td>\n",
       "      <td>1003.5</td>\n",
       "      <td>2988.0</td>\n",
       "      <td>31.7</td>\n",
       "      <td>31.0</td>\n",
       "      <td>65.0</td>\n",
       "      <td>60.0</td>\n",
       "      <td>3.6</td>\n",
       "      <td>N</td>\n",
       "      <td>...</td>\n",
       "      <td>29.7</td>\n",
       "      <td>30.0</td>\n",
       "      <td>29.1</td>\n",
       "      <td>27.5</td>\n",
       "      <td>26.6</td>\n",
       "      <td>28.8</td>\n",
       "      <td>NaN</td>\n",
       "      <td>NaN</td>\n",
       "      <td>NaN</td>\n",
       "      <td>NaN</td>\n",
       "    </tr>\n",
       "    <tr>\n",
       "      <th>2000-07-03</th>\n",
       "      <td>19:00</td>\n",
       "      <td>0.0</td>\n",
       "      <td>1002.3</td>\n",
       "      <td>2362.0</td>\n",
       "      <td>31.9</td>\n",
       "      <td>30.3</td>\n",
       "      <td>64.0</td>\n",
       "      <td>58.0</td>\n",
       "      <td>2.6</td>\n",
       "      <td>N</td>\n",
       "      <td>...</td>\n",
       "      <td>31.7</td>\n",
       "      <td>29.7</td>\n",
       "      <td>30.0</td>\n",
       "      <td>29.1</td>\n",
       "      <td>27.5</td>\n",
       "      <td>31.0</td>\n",
       "      <td>28.8</td>\n",
       "      <td>NaN</td>\n",
       "      <td>NaN</td>\n",
       "      <td>NaN</td>\n",
       "    </tr>\n",
       "    <tr>\n",
       "      <th>2000-07-03</th>\n",
       "      <td>20:00</td>\n",
       "      <td>0.0</td>\n",
       "      <td>1001.5</td>\n",
       "      <td>1560.0</td>\n",
       "      <td>31.2</td>\n",
       "      <td>30.3</td>\n",
       "      <td>64.0</td>\n",
       "      <td>61.0</td>\n",
       "      <td>2.2</td>\n",
       "      <td>N</td>\n",
       "      <td>...</td>\n",
       "      <td>31.9</td>\n",
       "      <td>31.7</td>\n",
       "      <td>29.7</td>\n",
       "      <td>30.0</td>\n",
       "      <td>29.1</td>\n",
       "      <td>30.3</td>\n",
       "      <td>31.0</td>\n",
       "      <td>28.8</td>\n",
       "      <td>NaN</td>\n",
       "      <td>NaN</td>\n",
       "    </tr>\n",
       "    <tr>\n",
       "      <th>2000-07-03</th>\n",
       "      <td>21:00</td>\n",
       "      <td>0.0</td>\n",
       "      <td>1001.7</td>\n",
       "      <td>995.0</td>\n",
       "      <td>30.7</td>\n",
       "      <td>29.6</td>\n",
       "      <td>67.0</td>\n",
       "      <td>64.0</td>\n",
       "      <td>2.1</td>\n",
       "      <td>N</td>\n",
       "      <td>...</td>\n",
       "      <td>31.2</td>\n",
       "      <td>31.9</td>\n",
       "      <td>31.7</td>\n",
       "      <td>29.7</td>\n",
       "      <td>30.0</td>\n",
       "      <td>30.3</td>\n",
       "      <td>30.3</td>\n",
       "      <td>31.0</td>\n",
       "      <td>28.8</td>\n",
       "      <td>NaN</td>\n",
       "    </tr>\n",
       "    <tr>\n",
       "      <th>2000-07-03</th>\n",
       "      <td>22:00</td>\n",
       "      <td>0.0</td>\n",
       "      <td>1002.6</td>\n",
       "      <td>105.0</td>\n",
       "      <td>29.6</td>\n",
       "      <td>27.7</td>\n",
       "      <td>78.0</td>\n",
       "      <td>65.0</td>\n",
       "      <td>0.7</td>\n",
       "      <td>N</td>\n",
       "      <td>...</td>\n",
       "      <td>30.7</td>\n",
       "      <td>31.2</td>\n",
       "      <td>31.9</td>\n",
       "      <td>31.7</td>\n",
       "      <td>29.7</td>\n",
       "      <td>29.6</td>\n",
       "      <td>30.3</td>\n",
       "      <td>30.3</td>\n",
       "      <td>31.0</td>\n",
       "      <td>28.8</td>\n",
       "    </tr>\n",
       "    <tr>\n",
       "      <th>2000-12-26</th>\n",
       "      <td>10:00</td>\n",
       "      <td>0.0</td>\n",
       "      <td>1003.4</td>\n",
       "      <td>1.0</td>\n",
       "      <td>24.5</td>\n",
       "      <td>24.2</td>\n",
       "      <td>95.0</td>\n",
       "      <td>94.0</td>\n",
       "      <td>1.4</td>\n",
       "      <td>N</td>\n",
       "      <td>...</td>\n",
       "      <td>29.6</td>\n",
       "      <td>30.7</td>\n",
       "      <td>31.2</td>\n",
       "      <td>31.9</td>\n",
       "      <td>31.7</td>\n",
       "      <td>27.7</td>\n",
       "      <td>29.6</td>\n",
       "      <td>30.3</td>\n",
       "      <td>30.3</td>\n",
       "      <td>31.0</td>\n",
       "    </tr>\n",
       "    <tr>\n",
       "      <th>2000-12-26</th>\n",
       "      <td>11:00</td>\n",
       "      <td>0.0</td>\n",
       "      <td>1004.3</td>\n",
       "      <td>84.0</td>\n",
       "      <td>24.8</td>\n",
       "      <td>24.4</td>\n",
       "      <td>94.0</td>\n",
       "      <td>93.0</td>\n",
       "      <td>0.7</td>\n",
       "      <td>N</td>\n",
       "      <td>...</td>\n",
       "      <td>24.5</td>\n",
       "      <td>29.6</td>\n",
       "      <td>30.7</td>\n",
       "      <td>31.2</td>\n",
       "      <td>31.9</td>\n",
       "      <td>24.2</td>\n",
       "      <td>27.7</td>\n",
       "      <td>29.6</td>\n",
       "      <td>30.3</td>\n",
       "      <td>30.3</td>\n",
       "    </tr>\n",
       "    <tr>\n",
       "      <th>2000-12-26</th>\n",
       "      <td>12:00</td>\n",
       "      <td>0.0</td>\n",
       "      <td>1004.9</td>\n",
       "      <td>691.0</td>\n",
       "      <td>26.3</td>\n",
       "      <td>24.7</td>\n",
       "      <td>94.0</td>\n",
       "      <td>85.0</td>\n",
       "      <td>2.1</td>\n",
       "      <td>N</td>\n",
       "      <td>...</td>\n",
       "      <td>24.8</td>\n",
       "      <td>24.5</td>\n",
       "      <td>29.6</td>\n",
       "      <td>30.7</td>\n",
       "      <td>31.2</td>\n",
       "      <td>24.4</td>\n",
       "      <td>24.2</td>\n",
       "      <td>27.7</td>\n",
       "      <td>29.6</td>\n",
       "      <td>30.3</td>\n",
       "    </tr>\n",
       "    <tr>\n",
       "      <th>2000-12-26</th>\n",
       "      <td>13:00</td>\n",
       "      <td>0.2</td>\n",
       "      <td>1005.2</td>\n",
       "      <td>1922.0</td>\n",
       "      <td>28.4</td>\n",
       "      <td>26.3</td>\n",
       "      <td>85.0</td>\n",
       "      <td>75.0</td>\n",
       "      <td>1.7</td>\n",
       "      <td>N</td>\n",
       "      <td>...</td>\n",
       "      <td>26.3</td>\n",
       "      <td>24.8</td>\n",
       "      <td>24.5</td>\n",
       "      <td>29.6</td>\n",
       "      <td>30.7</td>\n",
       "      <td>24.7</td>\n",
       "      <td>24.4</td>\n",
       "      <td>24.2</td>\n",
       "      <td>27.7</td>\n",
       "      <td>29.6</td>\n",
       "    </tr>\n",
       "  </tbody>\n",
       "</table>\n",
       "<p>10 rows × 26 columns</p>\n",
       "</div>\n",
       "    <div class=\"colab-df-buttons\">\n",
       "\n",
       "  <div class=\"colab-df-container\">\n",
       "    <button class=\"colab-df-convert\" onclick=\"convertToInteractive('df-4b129791-865e-4cb0-84bd-012910b8d35c')\"\n",
       "            title=\"Convert this dataframe to an interactive table.\"\n",
       "            style=\"display:none;\">\n",
       "\n",
       "  <svg xmlns=\"http://www.w3.org/2000/svg\" height=\"24px\" viewBox=\"0 -960 960 960\">\n",
       "    <path d=\"M120-120v-720h720v720H120Zm60-500h600v-160H180v160Zm220 220h160v-160H400v160Zm0 220h160v-160H400v160ZM180-400h160v-160H180v160Zm440 0h160v-160H620v160ZM180-180h160v-160H180v160Zm440 0h160v-160H620v160Z\"/>\n",
       "  </svg>\n",
       "    </button>\n",
       "\n",
       "  <style>\n",
       "    .colab-df-container {\n",
       "      display:flex;\n",
       "      gap: 12px;\n",
       "    }\n",
       "\n",
       "    .colab-df-convert {\n",
       "      background-color: #E8F0FE;\n",
       "      border: none;\n",
       "      border-radius: 50%;\n",
       "      cursor: pointer;\n",
       "      display: none;\n",
       "      fill: #1967D2;\n",
       "      height: 32px;\n",
       "      padding: 0 0 0 0;\n",
       "      width: 32px;\n",
       "    }\n",
       "\n",
       "    .colab-df-convert:hover {\n",
       "      background-color: #E2EBFA;\n",
       "      box-shadow: 0px 1px 2px rgba(60, 64, 67, 0.3), 0px 1px 3px 1px rgba(60, 64, 67, 0.15);\n",
       "      fill: #174EA6;\n",
       "    }\n",
       "\n",
       "    .colab-df-buttons div {\n",
       "      margin-bottom: 4px;\n",
       "    }\n",
       "\n",
       "    [theme=dark] .colab-df-convert {\n",
       "      background-color: #3B4455;\n",
       "      fill: #D2E3FC;\n",
       "    }\n",
       "\n",
       "    [theme=dark] .colab-df-convert:hover {\n",
       "      background-color: #434B5C;\n",
       "      box-shadow: 0px 1px 3px 1px rgba(0, 0, 0, 0.15);\n",
       "      filter: drop-shadow(0px 1px 2px rgba(0, 0, 0, 0.3));\n",
       "      fill: #FFFFFF;\n",
       "    }\n",
       "  </style>\n",
       "\n",
       "    <script>\n",
       "      const buttonEl =\n",
       "        document.querySelector('#df-4b129791-865e-4cb0-84bd-012910b8d35c button.colab-df-convert');\n",
       "      buttonEl.style.display =\n",
       "        google.colab.kernel.accessAllowed ? 'block' : 'none';\n",
       "\n",
       "      async function convertToInteractive(key) {\n",
       "        const element = document.querySelector('#df-4b129791-865e-4cb0-84bd-012910b8d35c');\n",
       "        const dataTable =\n",
       "          await google.colab.kernel.invokeFunction('convertToInteractive',\n",
       "                                                    [key], {});\n",
       "        if (!dataTable) return;\n",
       "\n",
       "        const docLinkHtml = 'Like what you see? Visit the ' +\n",
       "          '<a target=\"_blank\" href=https://colab.research.google.com/notebooks/data_table.ipynb>data table notebook</a>'\n",
       "          + ' to learn more about interactive tables.';\n",
       "        element.innerHTML = '';\n",
       "        dataTable['output_type'] = 'display_data';\n",
       "        await google.colab.output.renderOutput(dataTable, element);\n",
       "        const docLink = document.createElement('div');\n",
       "        docLink.innerHTML = docLinkHtml;\n",
       "        element.appendChild(docLink);\n",
       "      }\n",
       "    </script>\n",
       "  </div>\n",
       "\n",
       "\n",
       "<div id=\"df-1b8ef270-54ca-4682-a9d4-26cd37df65d7\">\n",
       "  <button class=\"colab-df-quickchart\" onclick=\"quickchart('df-1b8ef270-54ca-4682-a9d4-26cd37df65d7')\"\n",
       "            title=\"Suggest charts\"\n",
       "            style=\"display:none;\">\n",
       "\n",
       "<svg xmlns=\"http://www.w3.org/2000/svg\" height=\"24px\"viewBox=\"0 0 24 24\"\n",
       "     width=\"24px\">\n",
       "    <g>\n",
       "        <path d=\"M19 3H5c-1.1 0-2 .9-2 2v14c0 1.1.9 2 2 2h14c1.1 0 2-.9 2-2V5c0-1.1-.9-2-2-2zM9 17H7v-7h2v7zm4 0h-2V7h2v10zm4 0h-2v-4h2v4z\"/>\n",
       "    </g>\n",
       "</svg>\n",
       "  </button>\n",
       "\n",
       "<style>\n",
       "  .colab-df-quickchart {\n",
       "      --bg-color: #E8F0FE;\n",
       "      --fill-color: #1967D2;\n",
       "      --hover-bg-color: #E2EBFA;\n",
       "      --hover-fill-color: #174EA6;\n",
       "      --disabled-fill-color: #AAA;\n",
       "      --disabled-bg-color: #DDD;\n",
       "  }\n",
       "\n",
       "  [theme=dark] .colab-df-quickchart {\n",
       "      --bg-color: #3B4455;\n",
       "      --fill-color: #D2E3FC;\n",
       "      --hover-bg-color: #434B5C;\n",
       "      --hover-fill-color: #FFFFFF;\n",
       "      --disabled-bg-color: #3B4455;\n",
       "      --disabled-fill-color: #666;\n",
       "  }\n",
       "\n",
       "  .colab-df-quickchart {\n",
       "    background-color: var(--bg-color);\n",
       "    border: none;\n",
       "    border-radius: 50%;\n",
       "    cursor: pointer;\n",
       "    display: none;\n",
       "    fill: var(--fill-color);\n",
       "    height: 32px;\n",
       "    padding: 0;\n",
       "    width: 32px;\n",
       "  }\n",
       "\n",
       "  .colab-df-quickchart:hover {\n",
       "    background-color: var(--hover-bg-color);\n",
       "    box-shadow: 0 1px 2px rgba(60, 64, 67, 0.3), 0 1px 3px 1px rgba(60, 64, 67, 0.15);\n",
       "    fill: var(--button-hover-fill-color);\n",
       "  }\n",
       "\n",
       "  .colab-df-quickchart-complete:disabled,\n",
       "  .colab-df-quickchart-complete:disabled:hover {\n",
       "    background-color: var(--disabled-bg-color);\n",
       "    fill: var(--disabled-fill-color);\n",
       "    box-shadow: none;\n",
       "  }\n",
       "\n",
       "  .colab-df-spinner {\n",
       "    border: 2px solid var(--fill-color);\n",
       "    border-color: transparent;\n",
       "    border-bottom-color: var(--fill-color);\n",
       "    animation:\n",
       "      spin 1s steps(1) infinite;\n",
       "  }\n",
       "\n",
       "  @keyframes spin {\n",
       "    0% {\n",
       "      border-color: transparent;\n",
       "      border-bottom-color: var(--fill-color);\n",
       "      border-left-color: var(--fill-color);\n",
       "    }\n",
       "    20% {\n",
       "      border-color: transparent;\n",
       "      border-left-color: var(--fill-color);\n",
       "      border-top-color: var(--fill-color);\n",
       "    }\n",
       "    30% {\n",
       "      border-color: transparent;\n",
       "      border-left-color: var(--fill-color);\n",
       "      border-top-color: var(--fill-color);\n",
       "      border-right-color: var(--fill-color);\n",
       "    }\n",
       "    40% {\n",
       "      border-color: transparent;\n",
       "      border-right-color: var(--fill-color);\n",
       "      border-top-color: var(--fill-color);\n",
       "    }\n",
       "    60% {\n",
       "      border-color: transparent;\n",
       "      border-right-color: var(--fill-color);\n",
       "    }\n",
       "    80% {\n",
       "      border-color: transparent;\n",
       "      border-right-color: var(--fill-color);\n",
       "      border-bottom-color: var(--fill-color);\n",
       "    }\n",
       "    90% {\n",
       "      border-color: transparent;\n",
       "      border-bottom-color: var(--fill-color);\n",
       "    }\n",
       "  }\n",
       "</style>\n",
       "\n",
       "  <script>\n",
       "    async function quickchart(key) {\n",
       "      const quickchartButtonEl =\n",
       "        document.querySelector('#' + key + ' button');\n",
       "      quickchartButtonEl.disabled = true;  // To prevent multiple clicks.\n",
       "      quickchartButtonEl.classList.add('colab-df-spinner');\n",
       "      try {\n",
       "        const charts = await google.colab.kernel.invokeFunction(\n",
       "            'suggestCharts', [key], {});\n",
       "      } catch (error) {\n",
       "        console.error('Error during call to suggestCharts:', error);\n",
       "      }\n",
       "      quickchartButtonEl.classList.remove('colab-df-spinner');\n",
       "      quickchartButtonEl.classList.add('colab-df-quickchart-complete');\n",
       "    }\n",
       "    (() => {\n",
       "      let quickchartButtonEl =\n",
       "        document.querySelector('#df-1b8ef270-54ca-4682-a9d4-26cd37df65d7 button');\n",
       "      quickchartButtonEl.style.display =\n",
       "        google.colab.kernel.accessAllowed ? 'block' : 'none';\n",
       "    })();\n",
       "  </script>\n",
       "</div>\n",
       "\n",
       "    </div>\n",
       "  </div>\n"
      ],
      "text/plain": [
       "             Time  Total_Precipitation  Atmospheric_Pressure  Solar_Radiation  \\\n",
       "Date                                                                            \n",
       "2000-07-03  16:00                  0.0                1006.4           2044.0   \n",
       "2000-07-03  18:00                  0.0                1003.5           2988.0   \n",
       "2000-07-03  19:00                  0.0                1002.3           2362.0   \n",
       "2000-07-03  20:00                  0.0                1001.5           1560.0   \n",
       "2000-07-03  21:00                  0.0                1001.7            995.0   \n",
       "2000-07-03  22:00                  0.0                1002.6            105.0   \n",
       "2000-12-26  10:00                  0.0                1003.4              1.0   \n",
       "2000-12-26  11:00                  0.0                1004.3             84.0   \n",
       "2000-12-26  12:00                  0.0                1004.9            691.0   \n",
       "2000-12-26  13:00                  0.2                1005.2           1922.0   \n",
       "\n",
       "            Maximum_Temperature_For_The_Last_Hour  \\\n",
       "Date                                                \n",
       "2000-07-03                                   29.7   \n",
       "2000-07-03                                   31.7   \n",
       "2000-07-03                                   31.9   \n",
       "2000-07-03                                   31.2   \n",
       "2000-07-03                                   30.7   \n",
       "2000-07-03                                   29.6   \n",
       "2000-12-26                                   24.5   \n",
       "2000-12-26                                   24.8   \n",
       "2000-12-26                                   26.3   \n",
       "2000-12-26                                   28.4   \n",
       "\n",
       "            Minimum_Temperature_For_The_Last_Hour  \\\n",
       "Date                                                \n",
       "2000-07-03                                   28.8   \n",
       "2000-07-03                                   31.0   \n",
       "2000-07-03                                   30.3   \n",
       "2000-07-03                                   30.3   \n",
       "2000-07-03                                   29.6   \n",
       "2000-07-03                                   27.7   \n",
       "2000-12-26                                   24.2   \n",
       "2000-12-26                                   24.4   \n",
       "2000-12-26                                   24.7   \n",
       "2000-12-26                                   26.3   \n",
       "\n",
       "            Maximum_Relative_Humid_Temperature_For_The_Last_Hour  \\\n",
       "Date                                                               \n",
       "2000-07-03                                               77.0      \n",
       "2000-07-03                                               65.0      \n",
       "2000-07-03                                               64.0      \n",
       "2000-07-03                                               64.0      \n",
       "2000-07-03                                               67.0      \n",
       "2000-07-03                                               78.0      \n",
       "2000-12-26                                               95.0      \n",
       "2000-12-26                                               94.0      \n",
       "2000-12-26                                               94.0      \n",
       "2000-12-26                                               85.0      \n",
       "\n",
       "            Minimum_Relative_Humid_Temperature_For_The_Last_Hour  \\\n",
       "Date                                                               \n",
       "2000-07-03                                               70.0      \n",
       "2000-07-03                                               60.0      \n",
       "2000-07-03                                               58.0      \n",
       "2000-07-03                                               61.0      \n",
       "2000-07-03                                               64.0      \n",
       "2000-07-03                                               65.0      \n",
       "2000-12-26                                               94.0      \n",
       "2000-12-26                                               93.0      \n",
       "2000-12-26                                               85.0      \n",
       "2000-12-26                                               75.0      \n",
       "\n",
       "            Wind_speed_In_Metres_Per_Second Region  ...  lag1  lag2  lag3  \\\n",
       "Date                                                ...                     \n",
       "2000-07-03                              1.9      N  ...  30.0  29.1  27.5   \n",
       "2000-07-03                              3.6      N  ...  29.7  30.0  29.1   \n",
       "2000-07-03                              2.6      N  ...  31.7  29.7  30.0   \n",
       "2000-07-03                              2.2      N  ...  31.9  31.7  29.7   \n",
       "2000-07-03                              2.1      N  ...  31.2  31.9  31.7   \n",
       "2000-07-03                              0.7      N  ...  30.7  31.2  31.9   \n",
       "2000-12-26                              1.4      N  ...  29.6  30.7  31.2   \n",
       "2000-12-26                              0.7      N  ...  24.5  29.6  30.7   \n",
       "2000-12-26                              2.1      N  ...  24.8  24.5  29.6   \n",
       "2000-12-26                              1.7      N  ...  26.3  24.8  24.5   \n",
       "\n",
       "            lag4  lag5  lag6  lag7  lag8  lag9  lag10  \n",
       "Date                                                   \n",
       "2000-07-03  26.6  26.0   NaN   NaN   NaN   NaN    NaN  \n",
       "2000-07-03  27.5  26.6  28.8   NaN   NaN   NaN    NaN  \n",
       "2000-07-03  29.1  27.5  31.0  28.8   NaN   NaN    NaN  \n",
       "2000-07-03  30.0  29.1  30.3  31.0  28.8   NaN    NaN  \n",
       "2000-07-03  29.7  30.0  30.3  30.3  31.0  28.8    NaN  \n",
       "2000-07-03  31.7  29.7  29.6  30.3  30.3  31.0   28.8  \n",
       "2000-12-26  31.9  31.7  27.7  29.6  30.3  30.3   31.0  \n",
       "2000-12-26  31.2  31.9  24.2  27.7  29.6  30.3   30.3  \n",
       "2000-12-26  30.7  31.2  24.4  24.2  27.7  29.6   30.3  \n",
       "2000-12-26  29.6  30.7  24.7  24.4  24.2  27.7   29.6  \n",
       "\n",
       "[10 rows x 26 columns]"
      ]
     },
     "execution_count": 263,
     "metadata": {},
     "output_type": "execute_result"
    }
   ],
   "source": [
    "df.head(10)\n"
   ]
  },
  {
   "cell_type": "code",
   "execution_count": 264,
   "metadata": {
    "executionInfo": {
     "elapsed": 3,
     "status": "ok",
     "timestamp": 1708511020000,
     "user": {
      "displayName": "Prajwal Ambadkar",
      "userId": "05706935455536576109"
     },
     "user_tz": -330
    },
    "id": "rMnxoTmWh7Qc"
   },
   "outputs": [],
   "source": [
    "df.dropna(inplace=True)\n"
   ]
  },
  {
   "cell_type": "code",
   "execution_count": 265,
   "metadata": {
    "colab": {
     "base_uri": "https://localhost:8080/"
    },
    "executionInfo": {
     "elapsed": 17,
     "status": "ok",
     "timestamp": 1708511021005,
     "user": {
      "displayName": "Prajwal Ambadkar",
      "userId": "05706935455536576109"
     },
     "user_tz": -330
    },
    "id": "W3jCAt6wiAr2",
    "outputId": "dfed723b-a3d3-4a65-8cb3-05a425a91ffe"
   },
   "outputs": [
    {
     "data": {
      "text/plain": [
       "(87236, 26)"
      ]
     },
     "execution_count": 265,
     "metadata": {},
     "output_type": "execute_result"
    }
   ],
   "source": [
    "df.shape"
   ]
  },
  {
   "cell_type": "markdown",
   "metadata": {
    "id": "TzG59qR-iGZe"
   },
   "source": [
    "# X & Y split"
   ]
  },
  {
   "cell_type": "code",
   "execution_count": 266,
   "metadata": {
    "executionInfo": {
     "elapsed": 776,
     "status": "ok",
     "timestamp": 1708511031573,
     "user": {
      "displayName": "Prajwal Ambadkar",
      "userId": "05706935455536576109"
     },
     "user_tz": -330
    },
    "id": "-GEf_shsiJ_l"
   },
   "outputs": [],
   "source": [
    "X = df.loc[:,['lag6','lag7','lag8','lag4','lag5']]\n",
    "y = df.loc[:,'Minimum_Temperature_For_The_Last_Hour']"
   ]
  },
  {
   "cell_type": "code",
   "execution_count": 267,
   "metadata": {
    "colab": {
     "base_uri": "https://localhost:8080/"
    },
    "executionInfo": {
     "elapsed": 22,
     "status": "ok",
     "timestamp": 1708511031575,
     "user": {
      "displayName": "Prajwal Ambadkar",
      "userId": "05706935455536576109"
     },
     "user_tz": -330
    },
    "id": "oBKWroY_HP90",
    "outputId": "13272182-448a-4ef9-b141-e9d5b0119483"
   },
   "outputs": [
    {
     "data": {
      "text/plain": [
       "DatetimeIndex(['2000-07-03', '2000-12-26', '2000-12-26', '2000-12-26',\n",
       "               '2000-12-26', '2000-12-26', '2000-12-26', '2000-12-26',\n",
       "               '2000-12-26', '2000-12-26',\n",
       "               ...\n",
       "               '2009-05-16', '2009-05-16', '2009-05-16', '2009-05-16',\n",
       "               '2009-05-16', '2009-05-16', '2009-05-16', '2009-05-16',\n",
       "               '2009-05-16', '2009-05-16'],\n",
       "              dtype='datetime64[ns]', name='Date', length=87236, freq=None)"
      ]
     },
     "execution_count": 267,
     "metadata": {},
     "output_type": "execute_result"
    }
   ],
   "source": [
    "X.index"
   ]
  },
  {
   "cell_type": "code",
   "execution_count": 268,
   "metadata": {
    "colab": {
     "base_uri": "https://localhost:8080/"
    },
    "executionInfo": {
     "elapsed": 14,
     "status": "ok",
     "timestamp": 1708511033750,
     "user": {
      "displayName": "Prajwal Ambadkar",
      "userId": "05706935455536576109"
     },
     "user_tz": -330
    },
    "id": "xqliJX3CixXh",
    "outputId": "0ab50c68-6c4a-496c-809b-d1020dad68d2"
   },
   "outputs": [
    {
     "data": {
      "text/plain": [
       "((87236, 5), (87236,))"
      ]
     },
     "execution_count": 268,
     "metadata": {},
     "output_type": "execute_result"
    }
   ],
   "source": [
    "X.shape,y.shape"
   ]
  },
  {
   "cell_type": "markdown",
   "metadata": {
    "id": "Pmw114Sli42W"
   },
   "source": [
    "# Train test split"
   ]
  },
  {
   "cell_type": "code",
   "execution_count": 269,
   "metadata": {
    "executionInfo": {
     "elapsed": 650,
     "status": "ok",
     "timestamp": 1708511042818,
     "user": {
      "displayName": "Prajwal Ambadkar",
      "userId": "05706935455536576109"
     },
     "user_tz": -330
    },
    "id": "DgCO_mc0i6Hc"
   },
   "outputs": [],
   "source": [
    "from sklearn.model_selection import train_test_split\n"
   ]
  },
  {
   "cell_type": "code",
   "execution_count": 270,
   "metadata": {
    "executionInfo": {
     "elapsed": 4,
     "status": "ok",
     "timestamp": 1708511043504,
     "user": {
      "displayName": "Prajwal Ambadkar",
      "userId": "05706935455536576109"
     },
     "user_tz": -330
    },
    "id": "lw5rbaK6jHOh"
   },
   "outputs": [],
   "source": [
    "X_train1,X_test1,y_train1,y_test1 = train_test_split(X,y,\n",
    "                                                 test_size=0.1,\n",
    "                                                 random_state=7)"
   ]
  },
  {
   "cell_type": "code",
   "execution_count": 271,
   "metadata": {
    "colab": {
     "base_uri": "https://localhost:8080/"
    },
    "executionInfo": {
     "elapsed": 18,
     "status": "ok",
     "timestamp": 1708511044049,
     "user": {
      "displayName": "Prajwal Ambadkar",
      "userId": "05706935455536576109"
     },
     "user_tz": -330
    },
    "id": "pgl2_mYFjH0p",
    "outputId": "e713f1a7-6e45-42d3-c16d-d29d085dbe47"
   },
   "outputs": [
    {
     "data": {
      "text/plain": [
       "((78512, 5), (8724, 5), (78512,), (8724,))"
      ]
     },
     "execution_count": 271,
     "metadata": {},
     "output_type": "execute_result"
    }
   ],
   "source": [
    "X_train1.shape,X_test1.shape,y_train1.shape,y_test1.shape"
   ]
  },
  {
   "cell_type": "markdown",
   "metadata": {
    "id": "lZ743ZYejPgp"
   },
   "source": [
    "# Elasticnet"
   ]
  },
  {
   "cell_type": "code",
   "execution_count": 272,
   "metadata": {
    "executionInfo": {
     "elapsed": 840,
     "status": "ok",
     "timestamp": 1708511047726,
     "user": {
      "displayName": "Prajwal Ambadkar",
      "userId": "05706935455536576109"
     },
     "user_tz": -330
    },
    "id": "oJeUxz-pjQb6"
   },
   "outputs": [],
   "source": [
    "from sklearn.linear_model import ElasticNet\n",
    "from sklearn.metrics import mean_absolute_error"
   ]
  },
  {
   "cell_type": "code",
   "execution_count": 273,
   "metadata": {
    "executionInfo": {
     "elapsed": 22,
     "status": "ok",
     "timestamp": 1708511047727,
     "user": {
      "displayName": "Prajwal Ambadkar",
      "userId": "05706935455536576109"
     },
     "user_tz": -330
    },
    "id": "Ta2oxMI3jUjf"
   },
   "outputs": [],
   "source": [
    "en = ElasticNet(random_state=7)"
   ]
  },
  {
   "cell_type": "code",
   "execution_count": 274,
   "metadata": {
    "colab": {
     "base_uri": "https://localhost:8080/",
     "height": 74
    },
    "executionInfo": {
     "elapsed": 22,
     "status": "ok",
     "timestamp": 1708511047727,
     "user": {
      "displayName": "Prajwal Ambadkar",
      "userId": "05706935455536576109"
     },
     "user_tz": -330
    },
    "id": "KvPPPTf3jXM0",
    "outputId": "4a287a97-f3ab-4367-de2f-a53f515fbe8d"
   },
   "outputs": [
    {
     "data": {
      "text/html": [
       "<style>#sk-container-id-21 {color: black;background-color: white;}#sk-container-id-21 pre{padding: 0;}#sk-container-id-21 div.sk-toggleable {background-color: white;}#sk-container-id-21 label.sk-toggleable__label {cursor: pointer;display: block;width: 100%;margin-bottom: 0;padding: 0.3em;box-sizing: border-box;text-align: center;}#sk-container-id-21 label.sk-toggleable__label-arrow:before {content: \"▸\";float: left;margin-right: 0.25em;color: #696969;}#sk-container-id-21 label.sk-toggleable__label-arrow:hover:before {color: black;}#sk-container-id-21 div.sk-estimator:hover label.sk-toggleable__label-arrow:before {color: black;}#sk-container-id-21 div.sk-toggleable__content {max-height: 0;max-width: 0;overflow: hidden;text-align: left;background-color: #f0f8ff;}#sk-container-id-21 div.sk-toggleable__content pre {margin: 0.2em;color: black;border-radius: 0.25em;background-color: #f0f8ff;}#sk-container-id-21 input.sk-toggleable__control:checked~div.sk-toggleable__content {max-height: 200px;max-width: 100%;overflow: auto;}#sk-container-id-21 input.sk-toggleable__control:checked~label.sk-toggleable__label-arrow:before {content: \"▾\";}#sk-container-id-21 div.sk-estimator input.sk-toggleable__control:checked~label.sk-toggleable__label {background-color: #d4ebff;}#sk-container-id-21 div.sk-label input.sk-toggleable__control:checked~label.sk-toggleable__label {background-color: #d4ebff;}#sk-container-id-21 input.sk-hidden--visually {border: 0;clip: rect(1px 1px 1px 1px);clip: rect(1px, 1px, 1px, 1px);height: 1px;margin: -1px;overflow: hidden;padding: 0;position: absolute;width: 1px;}#sk-container-id-21 div.sk-estimator {font-family: monospace;background-color: #f0f8ff;border: 1px dotted black;border-radius: 0.25em;box-sizing: border-box;margin-bottom: 0.5em;}#sk-container-id-21 div.sk-estimator:hover {background-color: #d4ebff;}#sk-container-id-21 div.sk-parallel-item::after {content: \"\";width: 100%;border-bottom: 1px solid gray;flex-grow: 1;}#sk-container-id-21 div.sk-label:hover label.sk-toggleable__label {background-color: #d4ebff;}#sk-container-id-21 div.sk-serial::before {content: \"\";position: absolute;border-left: 1px solid gray;box-sizing: border-box;top: 0;bottom: 0;left: 50%;z-index: 0;}#sk-container-id-21 div.sk-serial {display: flex;flex-direction: column;align-items: center;background-color: white;padding-right: 0.2em;padding-left: 0.2em;position: relative;}#sk-container-id-21 div.sk-item {position: relative;z-index: 1;}#sk-container-id-21 div.sk-parallel {display: flex;align-items: stretch;justify-content: center;background-color: white;position: relative;}#sk-container-id-21 div.sk-item::before, #sk-container-id-21 div.sk-parallel-item::before {content: \"\";position: absolute;border-left: 1px solid gray;box-sizing: border-box;top: 0;bottom: 0;left: 50%;z-index: -1;}#sk-container-id-21 div.sk-parallel-item {display: flex;flex-direction: column;z-index: 1;position: relative;background-color: white;}#sk-container-id-21 div.sk-parallel-item:first-child::after {align-self: flex-end;width: 50%;}#sk-container-id-21 div.sk-parallel-item:last-child::after {align-self: flex-start;width: 50%;}#sk-container-id-21 div.sk-parallel-item:only-child::after {width: 0;}#sk-container-id-21 div.sk-dashed-wrapped {border: 1px dashed gray;margin: 0 0.4em 0.5em 0.4em;box-sizing: border-box;padding-bottom: 0.4em;background-color: white;}#sk-container-id-21 div.sk-label label {font-family: monospace;font-weight: bold;display: inline-block;line-height: 1.2em;}#sk-container-id-21 div.sk-label-container {text-align: center;}#sk-container-id-21 div.sk-container {/* jupyter's `normalize.less` sets `[hidden] { display: none; }` but bootstrap.min.css set `[hidden] { display: none !important; }` so we also need the `!important` here to be able to override the default hidden behavior on the sphinx rendered scikit-learn.org. See: https://github.com/scikit-learn/scikit-learn/issues/21755 */display: inline-block !important;position: relative;}#sk-container-id-21 div.sk-text-repr-fallback {display: none;}</style><div id=\"sk-container-id-21\" class=\"sk-top-container\"><div class=\"sk-text-repr-fallback\"><pre>ElasticNet(random_state=7)</pre><b>In a Jupyter environment, please rerun this cell to show the HTML representation or trust the notebook. <br />On GitHub, the HTML representation is unable to render, please try loading this page with nbviewer.org.</b></div><div class=\"sk-container\" hidden><div class=\"sk-item\"><div class=\"sk-estimator sk-toggleable\"><input class=\"sk-toggleable__control sk-hidden--visually\" id=\"sk-estimator-id-21\" type=\"checkbox\" checked><label for=\"sk-estimator-id-21\" class=\"sk-toggleable__label sk-toggleable__label-arrow\">ElasticNet</label><div class=\"sk-toggleable__content\"><pre>ElasticNet(random_state=7)</pre></div></div></div></div></div>"
      ],
      "text/plain": [
       "ElasticNet(random_state=7)"
      ]
     },
     "execution_count": 274,
     "metadata": {},
     "output_type": "execute_result"
    }
   ],
   "source": [
    "en.fit(X_train1,y_train1)"
   ]
  },
  {
   "cell_type": "code",
   "execution_count": 275,
   "metadata": {
    "executionInfo": {
     "elapsed": 2,
     "status": "ok",
     "timestamp": 1708511048292,
     "user": {
      "displayName": "Prajwal Ambadkar",
      "userId": "05706935455536576109"
     },
     "user_tz": -330
    },
    "id": "X1kvdikbjYv3"
   },
   "outputs": [],
   "source": [
    "y_pred1 = en.predict(X_test1)"
   ]
  },
  {
   "cell_type": "code",
   "execution_count": 276,
   "metadata": {
    "colab": {
     "base_uri": "https://localhost:8080/"
    },
    "executionInfo": {
     "elapsed": 16,
     "status": "ok",
     "timestamp": 1708511048856,
     "user": {
      "displayName": "Prajwal Ambadkar",
      "userId": "05706935455536576109"
     },
     "user_tz": -330
    },
    "id": "GNNbbUPNjbDz",
    "outputId": "b4f7e5df-0fd3-4149-cb61-3a972bf322af"
   },
   "outputs": [
    {
     "data": {
      "text/plain": [
       "((8724,), (8724,))"
      ]
     },
     "execution_count": 276,
     "metadata": {},
     "output_type": "execute_result"
    }
   ],
   "source": [
    "y_pred1.shape,y_test1.shape"
   ]
  },
  {
   "cell_type": "code",
   "execution_count": 277,
   "metadata": {
    "colab": {
     "base_uri": "https://localhost:8080/"
    },
    "executionInfo": {
     "elapsed": 15,
     "status": "ok",
     "timestamp": 1708511049416,
     "user": {
      "displayName": "Prajwal Ambadkar",
      "userId": "05706935455536576109"
     },
     "user_tz": -330
    },
    "id": "IsM9n6oHjdNj",
    "outputId": "0eb8ae55-9332-4225-ed32-62749eb7f7ee"
   },
   "outputs": [
    {
     "name": "stdout",
     "output_type": "stream",
     "text": [
      "1.0766633152660712\n"
     ]
    }
   ],
   "source": [
    "E = mean_absolute_error(y_test1, y_pred1)\n",
    "print(E)"
   ]
  },
  {
   "cell_type": "markdown",
   "metadata": {
    "id": "gIiL6KpmlNvl"
   },
   "source": [
    "# Lasso"
   ]
  },
  {
   "cell_type": "code",
   "execution_count": 277,
   "metadata": {
    "executionInfo": {
     "elapsed": 2,
     "status": "ok",
     "timestamp": 1708511050053,
     "user": {
      "displayName": "Prajwal Ambadkar",
      "userId": "05706935455536576109"
     },
     "user_tz": -330
    },
    "id": "aHFGwGgrlUpu"
   },
   "outputs": [],
   "source": []
  },
  {
   "cell_type": "code",
   "execution_count": 278,
   "metadata": {
    "executionInfo": {
     "elapsed": 2,
     "status": "ok",
     "timestamp": 1708511050638,
     "user": {
      "displayName": "Prajwal Ambadkar",
      "userId": "05706935455536576109"
     },
     "user_tz": -330
    },
    "id": "VljMwhT_lw1D"
   },
   "outputs": [],
   "source": [
    "from sklearn.linear_model import Lasso\n",
    "from sklearn.metrics import mean_absolute_error"
   ]
  },
  {
   "cell_type": "code",
   "execution_count": 279,
   "metadata": {
    "executionInfo": {
     "elapsed": 2,
     "status": "ok",
     "timestamp": 1708511051249,
     "user": {
      "displayName": "Prajwal Ambadkar",
      "userId": "05706935455536576109"
     },
     "user_tz": -330
    },
    "id": "0dhyHh7glw1E"
   },
   "outputs": [],
   "source": [
    "en = Lasso(random_state=7)"
   ]
  },
  {
   "cell_type": "code",
   "execution_count": 280,
   "metadata": {
    "colab": {
     "base_uri": "https://localhost:8080/",
     "height": 74
    },
    "executionInfo": {
     "elapsed": 23,
     "status": "ok",
     "timestamp": 1708511051898,
     "user": {
      "displayName": "Prajwal Ambadkar",
      "userId": "05706935455536576109"
     },
     "user_tz": -330
    },
    "id": "kmvZDkDJlw1E",
    "outputId": "59dc30d5-c33f-4887-89c9-cce669a00b26"
   },
   "outputs": [
    {
     "data": {
      "text/html": [
       "<style>#sk-container-id-22 {color: black;background-color: white;}#sk-container-id-22 pre{padding: 0;}#sk-container-id-22 div.sk-toggleable {background-color: white;}#sk-container-id-22 label.sk-toggleable__label {cursor: pointer;display: block;width: 100%;margin-bottom: 0;padding: 0.3em;box-sizing: border-box;text-align: center;}#sk-container-id-22 label.sk-toggleable__label-arrow:before {content: \"▸\";float: left;margin-right: 0.25em;color: #696969;}#sk-container-id-22 label.sk-toggleable__label-arrow:hover:before {color: black;}#sk-container-id-22 div.sk-estimator:hover label.sk-toggleable__label-arrow:before {color: black;}#sk-container-id-22 div.sk-toggleable__content {max-height: 0;max-width: 0;overflow: hidden;text-align: left;background-color: #f0f8ff;}#sk-container-id-22 div.sk-toggleable__content pre {margin: 0.2em;color: black;border-radius: 0.25em;background-color: #f0f8ff;}#sk-container-id-22 input.sk-toggleable__control:checked~div.sk-toggleable__content {max-height: 200px;max-width: 100%;overflow: auto;}#sk-container-id-22 input.sk-toggleable__control:checked~label.sk-toggleable__label-arrow:before {content: \"▾\";}#sk-container-id-22 div.sk-estimator input.sk-toggleable__control:checked~label.sk-toggleable__label {background-color: #d4ebff;}#sk-container-id-22 div.sk-label input.sk-toggleable__control:checked~label.sk-toggleable__label {background-color: #d4ebff;}#sk-container-id-22 input.sk-hidden--visually {border: 0;clip: rect(1px 1px 1px 1px);clip: rect(1px, 1px, 1px, 1px);height: 1px;margin: -1px;overflow: hidden;padding: 0;position: absolute;width: 1px;}#sk-container-id-22 div.sk-estimator {font-family: monospace;background-color: #f0f8ff;border: 1px dotted black;border-radius: 0.25em;box-sizing: border-box;margin-bottom: 0.5em;}#sk-container-id-22 div.sk-estimator:hover {background-color: #d4ebff;}#sk-container-id-22 div.sk-parallel-item::after {content: \"\";width: 100%;border-bottom: 1px solid gray;flex-grow: 1;}#sk-container-id-22 div.sk-label:hover label.sk-toggleable__label {background-color: #d4ebff;}#sk-container-id-22 div.sk-serial::before {content: \"\";position: absolute;border-left: 1px solid gray;box-sizing: border-box;top: 0;bottom: 0;left: 50%;z-index: 0;}#sk-container-id-22 div.sk-serial {display: flex;flex-direction: column;align-items: center;background-color: white;padding-right: 0.2em;padding-left: 0.2em;position: relative;}#sk-container-id-22 div.sk-item {position: relative;z-index: 1;}#sk-container-id-22 div.sk-parallel {display: flex;align-items: stretch;justify-content: center;background-color: white;position: relative;}#sk-container-id-22 div.sk-item::before, #sk-container-id-22 div.sk-parallel-item::before {content: \"\";position: absolute;border-left: 1px solid gray;box-sizing: border-box;top: 0;bottom: 0;left: 50%;z-index: -1;}#sk-container-id-22 div.sk-parallel-item {display: flex;flex-direction: column;z-index: 1;position: relative;background-color: white;}#sk-container-id-22 div.sk-parallel-item:first-child::after {align-self: flex-end;width: 50%;}#sk-container-id-22 div.sk-parallel-item:last-child::after {align-self: flex-start;width: 50%;}#sk-container-id-22 div.sk-parallel-item:only-child::after {width: 0;}#sk-container-id-22 div.sk-dashed-wrapped {border: 1px dashed gray;margin: 0 0.4em 0.5em 0.4em;box-sizing: border-box;padding-bottom: 0.4em;background-color: white;}#sk-container-id-22 div.sk-label label {font-family: monospace;font-weight: bold;display: inline-block;line-height: 1.2em;}#sk-container-id-22 div.sk-label-container {text-align: center;}#sk-container-id-22 div.sk-container {/* jupyter's `normalize.less` sets `[hidden] { display: none; }` but bootstrap.min.css set `[hidden] { display: none !important; }` so we also need the `!important` here to be able to override the default hidden behavior on the sphinx rendered scikit-learn.org. See: https://github.com/scikit-learn/scikit-learn/issues/21755 */display: inline-block !important;position: relative;}#sk-container-id-22 div.sk-text-repr-fallback {display: none;}</style><div id=\"sk-container-id-22\" class=\"sk-top-container\"><div class=\"sk-text-repr-fallback\"><pre>Lasso(random_state=7)</pre><b>In a Jupyter environment, please rerun this cell to show the HTML representation or trust the notebook. <br />On GitHub, the HTML representation is unable to render, please try loading this page with nbviewer.org.</b></div><div class=\"sk-container\" hidden><div class=\"sk-item\"><div class=\"sk-estimator sk-toggleable\"><input class=\"sk-toggleable__control sk-hidden--visually\" id=\"sk-estimator-id-22\" type=\"checkbox\" checked><label for=\"sk-estimator-id-22\" class=\"sk-toggleable__label sk-toggleable__label-arrow\">Lasso</label><div class=\"sk-toggleable__content\"><pre>Lasso(random_state=7)</pre></div></div></div></div></div>"
      ],
      "text/plain": [
       "Lasso(random_state=7)"
      ]
     },
     "execution_count": 280,
     "metadata": {},
     "output_type": "execute_result"
    }
   ],
   "source": [
    "en.fit(X_train1,y_train1)"
   ]
  },
  {
   "cell_type": "code",
   "execution_count": 281,
   "metadata": {
    "executionInfo": {
     "elapsed": 3,
     "status": "ok",
     "timestamp": 1708511052366,
     "user": {
      "displayName": "Prajwal Ambadkar",
      "userId": "05706935455536576109"
     },
     "user_tz": -330
    },
    "id": "ec9Z6aDHlw1E"
   },
   "outputs": [],
   "source": [
    "y_pred1 = en.predict(X_test1)"
   ]
  },
  {
   "cell_type": "code",
   "execution_count": 282,
   "metadata": {
    "colab": {
     "base_uri": "https://localhost:8080/"
    },
    "executionInfo": {
     "elapsed": 15,
     "status": "ok",
     "timestamp": 1708511052861,
     "user": {
      "displayName": "Prajwal Ambadkar",
      "userId": "05706935455536576109"
     },
     "user_tz": -330
    },
    "id": "fZVrQ4sylw1F",
    "outputId": "74d0d2e7-35da-456f-fb6a-09dde1a99de6"
   },
   "outputs": [
    {
     "data": {
      "text/plain": [
       "((8724,), (8724,))"
      ]
     },
     "execution_count": 282,
     "metadata": {},
     "output_type": "execute_result"
    }
   ],
   "source": [
    "y_pred1.shape,y_test1.shape"
   ]
  },
  {
   "cell_type": "code",
   "execution_count": 283,
   "metadata": {
    "colab": {
     "base_uri": "https://localhost:8080/"
    },
    "executionInfo": {
     "elapsed": 10,
     "status": "ok",
     "timestamp": 1708511053644,
     "user": {
      "displayName": "Prajwal Ambadkar",
      "userId": "05706935455536576109"
     },
     "user_tz": -330
    },
    "id": "IhAn3jCflw1F",
    "outputId": "c7ad71a9-bb73-45ef-c9f7-a086a3284f10"
   },
   "outputs": [
    {
     "name": "stdout",
     "output_type": "stream",
     "text": [
      "1.0938248597721425\n"
     ]
    }
   ],
   "source": [
    "L=mean_absolute_error(y_test1, y_pred1)\n",
    "print(L)"
   ]
  },
  {
   "cell_type": "markdown",
   "metadata": {
    "id": "ebaCvJk8mRFA"
   },
   "source": [
    "## Ridge"
   ]
  },
  {
   "cell_type": "code",
   "execution_count": 283,
   "metadata": {
    "executionInfo": {
     "elapsed": 2,
     "status": "ok",
     "timestamp": 1708511054587,
     "user": {
      "displayName": "Prajwal Ambadkar",
      "userId": "05706935455536576109"
     },
     "user_tz": -330
    },
    "id": "2UhR4_M-l1Om"
   },
   "outputs": [],
   "source": []
  },
  {
   "cell_type": "code",
   "execution_count": 284,
   "metadata": {
    "executionInfo": {
     "elapsed": 2,
     "status": "ok",
     "timestamp": 1708511055169,
     "user": {
      "displayName": "Prajwal Ambadkar",
      "userId": "05706935455536576109"
     },
     "user_tz": -330
    },
    "id": "i-ghta43l19c"
   },
   "outputs": [],
   "source": [
    "from sklearn.linear_model import Ridge\n",
    "from sklearn.metrics import mean_absolute_error"
   ]
  },
  {
   "cell_type": "code",
   "execution_count": 285,
   "metadata": {
    "executionInfo": {
     "elapsed": 3,
     "status": "ok",
     "timestamp": 1708511055756,
     "user": {
      "displayName": "Prajwal Ambadkar",
      "userId": "05706935455536576109"
     },
     "user_tz": -330
    },
    "id": "cQTIcdcul19d"
   },
   "outputs": [],
   "source": [
    "en = Ridge(random_state=7)"
   ]
  },
  {
   "cell_type": "code",
   "execution_count": 286,
   "metadata": {
    "colab": {
     "base_uri": "https://localhost:8080/",
     "height": 74
    },
    "executionInfo": {
     "elapsed": 31,
     "status": "ok",
     "timestamp": 1708511056348,
     "user": {
      "displayName": "Prajwal Ambadkar",
      "userId": "05706935455536576109"
     },
     "user_tz": -330
    },
    "id": "7I3bpPX5l19d",
    "outputId": "539d0cf9-03f8-4935-eabf-353f6465c249"
   },
   "outputs": [
    {
     "data": {
      "text/html": [
       "<style>#sk-container-id-23 {color: black;background-color: white;}#sk-container-id-23 pre{padding: 0;}#sk-container-id-23 div.sk-toggleable {background-color: white;}#sk-container-id-23 label.sk-toggleable__label {cursor: pointer;display: block;width: 100%;margin-bottom: 0;padding: 0.3em;box-sizing: border-box;text-align: center;}#sk-container-id-23 label.sk-toggleable__label-arrow:before {content: \"▸\";float: left;margin-right: 0.25em;color: #696969;}#sk-container-id-23 label.sk-toggleable__label-arrow:hover:before {color: black;}#sk-container-id-23 div.sk-estimator:hover label.sk-toggleable__label-arrow:before {color: black;}#sk-container-id-23 div.sk-toggleable__content {max-height: 0;max-width: 0;overflow: hidden;text-align: left;background-color: #f0f8ff;}#sk-container-id-23 div.sk-toggleable__content pre {margin: 0.2em;color: black;border-radius: 0.25em;background-color: #f0f8ff;}#sk-container-id-23 input.sk-toggleable__control:checked~div.sk-toggleable__content {max-height: 200px;max-width: 100%;overflow: auto;}#sk-container-id-23 input.sk-toggleable__control:checked~label.sk-toggleable__label-arrow:before {content: \"▾\";}#sk-container-id-23 div.sk-estimator input.sk-toggleable__control:checked~label.sk-toggleable__label {background-color: #d4ebff;}#sk-container-id-23 div.sk-label input.sk-toggleable__control:checked~label.sk-toggleable__label {background-color: #d4ebff;}#sk-container-id-23 input.sk-hidden--visually {border: 0;clip: rect(1px 1px 1px 1px);clip: rect(1px, 1px, 1px, 1px);height: 1px;margin: -1px;overflow: hidden;padding: 0;position: absolute;width: 1px;}#sk-container-id-23 div.sk-estimator {font-family: monospace;background-color: #f0f8ff;border: 1px dotted black;border-radius: 0.25em;box-sizing: border-box;margin-bottom: 0.5em;}#sk-container-id-23 div.sk-estimator:hover {background-color: #d4ebff;}#sk-container-id-23 div.sk-parallel-item::after {content: \"\";width: 100%;border-bottom: 1px solid gray;flex-grow: 1;}#sk-container-id-23 div.sk-label:hover label.sk-toggleable__label {background-color: #d4ebff;}#sk-container-id-23 div.sk-serial::before {content: \"\";position: absolute;border-left: 1px solid gray;box-sizing: border-box;top: 0;bottom: 0;left: 50%;z-index: 0;}#sk-container-id-23 div.sk-serial {display: flex;flex-direction: column;align-items: center;background-color: white;padding-right: 0.2em;padding-left: 0.2em;position: relative;}#sk-container-id-23 div.sk-item {position: relative;z-index: 1;}#sk-container-id-23 div.sk-parallel {display: flex;align-items: stretch;justify-content: center;background-color: white;position: relative;}#sk-container-id-23 div.sk-item::before, #sk-container-id-23 div.sk-parallel-item::before {content: \"\";position: absolute;border-left: 1px solid gray;box-sizing: border-box;top: 0;bottom: 0;left: 50%;z-index: -1;}#sk-container-id-23 div.sk-parallel-item {display: flex;flex-direction: column;z-index: 1;position: relative;background-color: white;}#sk-container-id-23 div.sk-parallel-item:first-child::after {align-self: flex-end;width: 50%;}#sk-container-id-23 div.sk-parallel-item:last-child::after {align-self: flex-start;width: 50%;}#sk-container-id-23 div.sk-parallel-item:only-child::after {width: 0;}#sk-container-id-23 div.sk-dashed-wrapped {border: 1px dashed gray;margin: 0 0.4em 0.5em 0.4em;box-sizing: border-box;padding-bottom: 0.4em;background-color: white;}#sk-container-id-23 div.sk-label label {font-family: monospace;font-weight: bold;display: inline-block;line-height: 1.2em;}#sk-container-id-23 div.sk-label-container {text-align: center;}#sk-container-id-23 div.sk-container {/* jupyter's `normalize.less` sets `[hidden] { display: none; }` but bootstrap.min.css set `[hidden] { display: none !important; }` so we also need the `!important` here to be able to override the default hidden behavior on the sphinx rendered scikit-learn.org. See: https://github.com/scikit-learn/scikit-learn/issues/21755 */display: inline-block !important;position: relative;}#sk-container-id-23 div.sk-text-repr-fallback {display: none;}</style><div id=\"sk-container-id-23\" class=\"sk-top-container\"><div class=\"sk-text-repr-fallback\"><pre>Ridge(random_state=7)</pre><b>In a Jupyter environment, please rerun this cell to show the HTML representation or trust the notebook. <br />On GitHub, the HTML representation is unable to render, please try loading this page with nbviewer.org.</b></div><div class=\"sk-container\" hidden><div class=\"sk-item\"><div class=\"sk-estimator sk-toggleable\"><input class=\"sk-toggleable__control sk-hidden--visually\" id=\"sk-estimator-id-23\" type=\"checkbox\" checked><label for=\"sk-estimator-id-23\" class=\"sk-toggleable__label sk-toggleable__label-arrow\">Ridge</label><div class=\"sk-toggleable__content\"><pre>Ridge(random_state=7)</pre></div></div></div></div></div>"
      ],
      "text/plain": [
       "Ridge(random_state=7)"
      ]
     },
     "execution_count": 286,
     "metadata": {},
     "output_type": "execute_result"
    }
   ],
   "source": [
    "en.fit(X_train1,y_train1)"
   ]
  },
  {
   "cell_type": "code",
   "execution_count": 287,
   "metadata": {
    "executionInfo": {
     "elapsed": 3,
     "status": "ok",
     "timestamp": 1708511057588,
     "user": {
      "displayName": "Prajwal Ambadkar",
      "userId": "05706935455536576109"
     },
     "user_tz": -330
    },
    "id": "BOd2m277l19d"
   },
   "outputs": [],
   "source": [
    "y_pred1 = en.predict(X_test1)"
   ]
  },
  {
   "cell_type": "code",
   "execution_count": 288,
   "metadata": {
    "colab": {
     "base_uri": "https://localhost:8080/"
    },
    "executionInfo": {
     "elapsed": 14,
     "status": "ok",
     "timestamp": 1708511058627,
     "user": {
      "displayName": "Prajwal Ambadkar",
      "userId": "05706935455536576109"
     },
     "user_tz": -330
    },
    "id": "iFeushbKl19d",
    "outputId": "552b7207-e19f-4c2f-8ba4-d77440cb46b6"
   },
   "outputs": [
    {
     "data": {
      "text/plain": [
       "((8724,), (8724,))"
      ]
     },
     "execution_count": 288,
     "metadata": {},
     "output_type": "execute_result"
    }
   ],
   "source": [
    "y_pred1.shape,y_test1.shape"
   ]
  },
  {
   "cell_type": "code",
   "execution_count": 289,
   "metadata": {
    "colab": {
     "base_uri": "https://localhost:8080/"
    },
    "executionInfo": {
     "elapsed": 14,
     "status": "ok",
     "timestamp": 1708511059411,
     "user": {
      "displayName": "Prajwal Ambadkar",
      "userId": "05706935455536576109"
     },
     "user_tz": -330
    },
    "id": "13VsQd6gl19e",
    "outputId": "4f904bca-12ba-4664-c3d1-64bf6e179563"
   },
   "outputs": [
    {
     "name": "stdout",
     "output_type": "stream",
     "text": [
      "0.9526172703682061\n"
     ]
    }
   ],
   "source": [
    "R = mean_absolute_error(y_test1, y_pred1)\n",
    "print(R)"
   ]
  },
  {
   "cell_type": "code",
   "execution_count": 289,
   "metadata": {
    "executionInfo": {
     "elapsed": 4,
     "status": "ok",
     "timestamp": 1708511063120,
     "user": {
      "displayName": "Prajwal Ambadkar",
      "userId": "05706935455536576109"
     },
     "user_tz": -330
    },
    "id": "NqyNnolzmJMQ"
   },
   "outputs": [],
   "source": []
  },
  {
   "cell_type": "markdown",
   "metadata": {
    "id": "2cVYRY_nmrVF"
   },
   "source": [
    "## Graph"
   ]
  },
  {
   "cell_type": "code",
   "execution_count": 290,
   "metadata": {
    "colab": {
     "base_uri": "https://localhost:8080/",
     "height": 472
    },
    "executionInfo": {
     "elapsed": 31,
     "status": "ok",
     "timestamp": 1708511064734,
     "user": {
      "displayName": "Prajwal Ambadkar",
      "userId": "05706935455536576109"
     },
     "user_tz": -330
    },
    "id": "PrtOfwx-muyl",
    "outputId": "5c946147-3022-4b24-e03d-16d105b261a0"
   },
   "outputs": [
    {
     "data": {
      "image/png": "[encoded data removed]",
      "text/plain": [
       "<Figure size 640x480 with 1 Axes>"
      ]
     },
     "metadata": {},
     "output_type": "display_data"
    }
   ],
   "source": [
    "import matplotlib.pyplot as plt\n",
    "\n",
    "# Sample data\n",
    "x_values = [\"lasso\",\"ridge\",\"elasticNet\"]\n",
    "y_values = [L,R,E]\n",
    "\n",
    "# Plotting the line graph\n",
    "plt.bar(x_values, y_values, label='Line Graph')\n",
    "\n",
    "# Adding labels to the axes\n",
    "plt.xlabel('Modal Name')\n",
    "plt.ylabel('mean_absolute_error')\n",
    "\n",
    "# Adding a title to the graph\n",
    "plt.title('mean_absolute_error vs Modal (Minimum_Temperature_For_The_Last_Hour)')\n",
    "\n",
    "# Adding a legend\n",
    "plt.legend()\n",
    "\n",
    "# Displaying the plot\n",
    "plt.show()"
   ]
  },
  {
   "cell_type": "code",
   "execution_count": 176,
   "metadata": {
    "executionInfo": {
     "elapsed": 715,
     "status": "ok",
     "timestamp": 1708503627424,
     "user": {
      "displayName": "Prajwal Ambadkar",
      "userId": "05706935455536576109"
     },
     "user_tz": -330
    },
    "id": "r5WfqhBgnWXs"
   },
   "outputs": [],
   "source": []
  },
  {
   "cell_type": "markdown",
   "metadata": {
    "id": "mAIDSXtUMr_a"
   },
   "source": [
    "### So from the the above graph we can analyse that Ridge Modal is having minimuum mean_absolute_error"
   ]
  },
  {
   "cell_type": "code",
   "execution_count": 187,
   "metadata": {
    "colab": {
     "base_uri": "https://localhost:8080/"
    },
    "executionInfo": {
     "elapsed": 552,
     "status": "ok",
     "timestamp": 1708506161428,
     "user": {
      "displayName": "Prajwal Ambadkar",
      "userId": "05706935455536576109"
     },
     "user_tz": -330
    },
    "id": "8g0OELgnwH08",
    "outputId": "1a2f3acc-c9d9-46b3-ca5e-c1c9ea5cc411"
   },
   "outputs": [
    {
     "name": "stdout",
     "output_type": "stream",
     "text": [
      "DatetimeIndex(['2019-12-31', '2011-08-25', '2014-01-31', '2016-08-19',\n",
      "               '2007-06-30', '2016-02-11', '2000-11-19', '2001-10-31',\n",
      "               '2018-09-13', '2014-03-17',\n",
      "               ...\n",
      "               '2002-03-14', '2015-12-21', '2003-04-20', '2015-05-13',\n",
      "               '2018-12-19', '2010-04-01', '2019-09-02', '2002-04-27',\n",
      "               '2013-11-06', '2010-05-25'],\n",
      "              dtype='datetime64[ns]', name='Date', length=17446, freq=None)\n"
     ]
    }
   ],
   "source": [
    "a=X_test.index\n",
    "print(a)\n"
   ]
  },
  {
   "cell_type": "code",
   "execution_count": 188,
   "metadata": {
    "colab": {
     "base_uri": "https://localhost:8080/"
    },
    "executionInfo": {
     "elapsed": 676,
     "status": "ok",
     "timestamp": 1708506205876,
     "user": {
      "displayName": "Prajwal Ambadkar",
      "userId": "05706935455536576109"
     },
     "user_tz": -330
    },
    "id": "6XqFOLWny0tW",
    "outputId": "d680c5a5-76eb-4a69-c8d3-8c85640249ad"
   },
   "outputs": [
    {
     "data": {
      "text/plain": [
       "array([32.30859242, 25.89065999, 30.2826853 , ..., 28.2847123 ,\n",
       "       32.29770076, 32.7381629 ])"
      ]
     },
     "execution_count": 188,
     "metadata": {},
     "output_type": "execute_result"
    }
   ],
   "source": [
    "y_pred"
   ]
  },
  {
   "cell_type": "code",
   "execution_count": null,
   "metadata": {
    "id": "Tzlto8jM7Ek0"
   },
   "outputs": [],
   "source": []
  },
  {
   "cell_type": "code",
   "execution_count": 291,
   "metadata": {
    "colab": {
     "base_uri": "https://localhost:8080/"
    },
    "executionInfo": {
     "elapsed": 741,
     "status": "ok",
     "timestamp": 1708511163636,
     "user": {
      "displayName": "Prajwal Ambadkar",
      "userId": "05706935455536576109"
     },
     "user_tz": -330
    },
    "id": "dNPFA-8i7E4W",
    "outputId": "43b33cb4-ca16-459e-a7a1-a9f2af51695d"
   },
   "outputs": [
    {
     "data": {
      "text/plain": [
       "((8724,), (8724,))"
      ]
     },
     "execution_count": 291,
     "metadata": {},
     "output_type": "execute_result"
    }
   ],
   "source": [
    "from sklearn.linear_model import Ridge\n",
    "from sklearn.metrics import mean_absolute_error\n",
    "en = Ridge(random_state=7)\n",
    "en.fit(X_train1,y_train1)\n",
    "y_pred1 = en.predict(X_test1)\n",
    "y_pred1.shape,y_test1.shape"
   ]
  },
  {
   "cell_type": "code",
   "execution_count": 292,
   "metadata": {
    "colab": {
     "base_uri": "https://localhost:8080/"
    },
    "executionInfo": {
     "elapsed": 446,
     "status": "ok",
     "timestamp": 1708511166140,
     "user": {
      "displayName": "Prajwal Ambadkar",
      "userId": "05706935455536576109"
     },
     "user_tz": -330
    },
    "id": "hNUMcBVC7SM4",
    "outputId": "d44f77c0-295e-417c-c329-6c42f2ab5f8b"
   },
   "outputs": [
    {
     "data": {
      "text/plain": [
       "Index(['lag6', 'lag7', 'lag8', 'lag4', 'lag5'], dtype='object')"
      ]
     },
     "execution_count": 292,
     "metadata": {},
     "output_type": "execute_result"
    }
   ],
   "source": [
    "X_test1.columns"
   ]
  },
  {
   "cell_type": "code",
   "execution_count": 293,
   "metadata": {
    "colab": {
     "base_uri": "https://localhost:8080/"
    },
    "executionInfo": {
     "elapsed": 20,
     "status": "ok",
     "timestamp": 1708511167941,
     "user": {
      "displayName": "Prajwal Ambadkar",
      "userId": "05706935455536576109"
     },
     "user_tz": -330
    },
    "id": "VA-hCXR57wB6",
    "outputId": "a4063798-00fb-4a93-92c4-690feb1caf66"
   },
   "outputs": [
    {
     "data": {
      "text/plain": [
       "DatetimeIndex(['2000-07-03', '2000-12-26', '2000-12-26', '2000-12-26',\n",
       "               '2000-12-26', '2000-12-26', '2000-12-26', '2000-12-26',\n",
       "               '2000-12-26', '2000-12-26',\n",
       "               ...\n",
       "               '2009-05-16', '2009-05-16', '2009-05-16', '2009-05-16',\n",
       "               '2009-05-16', '2009-05-16', '2009-05-16', '2009-05-16',\n",
       "               '2009-05-16', '2009-05-16'],\n",
       "              dtype='datetime64[ns]', name='Date', length=87236, freq=None)"
      ]
     },
     "execution_count": 293,
     "metadata": {},
     "output_type": "execute_result"
    }
   ],
   "source": [
    "df.index"
   ]
  },
  {
   "cell_type": "code",
   "execution_count": 294,
   "metadata": {
    "colab": {
     "base_uri": "https://localhost:8080/",
     "height": 472
    },
    "executionInfo": {
     "elapsed": 1247,
     "status": "ok",
     "timestamp": 1708511169987,
     "user": {
      "displayName": "Prajwal Ambadkar",
      "userId": "05706935455536576109"
     },
     "user_tz": -330
    },
    "id": "eaPOn1uu58j1",
    "outputId": "fe483481-03eb-4fda-8229-dcbb15ab6d96"
   },
   "outputs": [
    {
     "data": {
      "image/png": "[encoded data removed]",
      "text/plain": [
       "<Figure size 640x480 with 1 Axes>"
      ]
     },
     "metadata": {},
     "output_type": "display_data"
    }
   ],
   "source": [
    "import matplotlib.pyplot as plt\n",
    "\n",
    "# Sample data\n",
    "df_sorted_index = X_test1.sort_index(ascending=True)\n",
    "x_values = df_sorted_index.index\n",
    "y_values = y_pred1\n",
    "\n",
    "# Plotting the line graph\n",
    "plt.plot(x_values, y_values, label='Line Graph')\n",
    "\n",
    "# Adding labels to the axes\n",
    "plt.xlabel('Date')\n",
    "plt.ylabel('Min Temperature')\n",
    "\n",
    "# Adding a title to the graph\n",
    "plt.title('Date vs Min Temperature')\n",
    "\n",
    "# Adding a legend\n",
    "plt.legend()\n",
    "\n",
    "# Displaying the plot\n",
    "plt.show()"
   ]
  },
  {
   "cell_type": "code",
   "execution_count": 220,
   "metadata": {
    "executionInfo": {
     "elapsed": 576,
     "status": "ok",
     "timestamp": 1708510443065,
     "user": {
      "displayName": "Prajwal Ambadkar",
      "userId": "05706935455536576109"
     },
     "user_tz": -330
    },
    "id": "YQhWmdsb6ImP"
   },
   "outputs": [],
   "source": []
  },
  {
   "cell_type": "code",
   "execution_count": null,
   "metadata": {
    "id": "XEvh9xqLCRoq"
   },
   "outputs": [],
   "source": []
  }
 ],
 "metadata": {
  "colab": {
   "authorship_tag": "ABX9TyPzUp0ajq3jfr7ClnPT06ei",
   "provenance": []
  },
  "kernelspec": {
   "display_name": "Python 3 (ipykernel)",
   "language": "python",
   "name": "python3"
  },
  "language_info": {
   "codemirror_mode": {
    "name": "ipython",
    "version": 3
   },
   "file_extension": ".py",
   "mimetype": "text/x-python",
   "name": "python",
   "nbconvert_exporter": "python",
   "pygments_lexer": "ipython3",
   "version": "3.11.4"
  }
 },
 "nbformat": 4,
 "nbformat_minor": 1
}
